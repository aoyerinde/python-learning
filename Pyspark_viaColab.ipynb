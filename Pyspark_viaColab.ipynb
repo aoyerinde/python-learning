{
  "nbformat": 4,
  "nbformat_minor": 0,
  "metadata": {
    "colab": {
      "name": "Pyspark_viaColab.ipynb",
      "version": "0.3.2",
      "provenance": [],
      "collapsed_sections": [],
      "include_colab_link": true
    },
    "kernelspec": {
      "display_name": "Python 3",
      "language": "python",
      "name": "python3"
    },
    "language_info": {
      "codemirror_mode": {
        "name": "ipython",
        "version": 3
      },
      "file_extension": ".py",
      "mimetype": "text/x-python",
      "name": "python",
      "nbconvert_exporter": "python",
      "pygments_lexer": "ipython3",
      "version": "3.6.5"
    }
  },
  "cells": [
    {
      "cell_type": "markdown",
      "metadata": {
        "id": "view-in-github",
        "colab_type": "text"
      },
      "source": [
        "<a href=\"https://colab.research.google.com/github/aoyerinde/python-learning/blob/master/Pyspark_viaColab.ipynb\" target=\"_parent\"><img src=\"https://colab.research.google.com/assets/colab-badge.svg\" alt=\"Open In Colab\"/></a>"
      ]
    },
    {
      "cell_type": "markdown",
      "metadata": {
        "colab_type": "text",
        "id": "8qf-TmnsBgXd"
      },
      "source": [
        "# Download Chicago's Reported Crime Data"
      ]
    },
    {
      "cell_type": "markdown",
      "metadata": {
        "colab_type": "text",
        "id": "Dd6t0uFzuR4X"
      },
      "source": [
        "## Download and install Spark"
      ]
    },
    {
      "cell_type": "code",
      "metadata": {
        "colab_type": "code",
        "id": "zToS5PqxBXpK",
        "outputId": "d613941a-f771-4bbd-fb97-895223b0c8c5",
        "colab": {
          "base_uri": "https://localhost:8080/",
          "height": 34
        }
      },
      "source": [
        "!ls"
      ],
      "execution_count": 1,
      "outputs": [
        {
          "output_type": "stream",
          "text": [
            "sample_data\n"
          ],
          "name": "stdout"
        }
      ]
    },
    {
      "cell_type": "code",
      "metadata": {
        "colab_type": "code",
        "id": "tt7ZS1_wGgjn",
        "outputId": "4935cdf3-4a03-42b5-ad3a-acf76084a08a",
        "colab": {
          "base_uri": "https://localhost:8080/",
          "height": 493
        }
      },
      "source": [
        "!apt-get update\n",
        "!apt-get install openjdk-8-jdk-headless -qq > /dev/null\n",
        "!wget -q http://archive.apache.org/dist/spark/spark-2.3.1/spark-2.3.1-bin-hadoop2.7.tgz\n",
        "!tar xf spark-2.3.1-bin-hadoop2.7.tgz\n",
        "!pip install -q findspark"
      ],
      "execution_count": 2,
      "outputs": [
        {
          "output_type": "stream",
          "text": [
            "\r0% [Working]\r            \rIgn:1 https://developer.download.nvidia.com/compute/cuda/repos/ubuntu1804/x86_64  InRelease\n",
            "\r0% [Connecting to archive.ubuntu.com] [Connecting to security.ubuntu.com (91.18\r                                                                               \rIgn:2 https://developer.download.nvidia.com/compute/machine-learning/repos/ubuntu1804/x86_64  InRelease\n",
            "\r0% [Connecting to archive.ubuntu.com (91.189.88.173)] [Waiting for headers] [Co\r                                                                               \rGet:3 https://developer.download.nvidia.com/compute/cuda/repos/ubuntu1804/x86_64  Release [564 B]\n",
            "\r0% [Connecting to archive.ubuntu.com (91.189.88.173)] [Waiting for headers] [Co\r0% [Connecting to archive.ubuntu.com (91.189.88.173)] [Waiting for headers] [Co\r                                                                               \rGet:4 https://cloud.r-project.org/bin/linux/ubuntu bionic-cran35/ InRelease [3,626 B]\n",
            "\r0% [Connecting to archive.ubuntu.com (91.189.88.173)] [Waiting for headers] [4 \r0% [Connecting to archive.ubuntu.com (91.189.88.173)] [Waiting for headers] [Wa\r                                                                               \rHit:5 https://developer.download.nvidia.com/compute/machine-learning/repos/ubuntu1804/x86_64  Release\n",
            "\r0% [Connecting to archive.ubuntu.com (91.189.88.173)] [Waiting for headers] [Wa\r0% [4 InRelease gpgv 3,626 B] [Connecting to archive.ubuntu.com (91.189.88.173)\r                                                                               \rGet:6 https://developer.download.nvidia.com/compute/cuda/repos/ubuntu1804/x86_64  Release.gpg [819 B]\n",
            "\r0% [4 InRelease gpgv 3,626 B] [Connecting to archive.ubuntu.com (91.189.88.173)\r0% [4 InRelease gpgv 3,626 B] [Connecting to archive.ubuntu.com (91.189.88.173)\r                                                                               \rGet:7 http://ppa.launchpad.net/graphics-drivers/ppa/ubuntu bionic InRelease [21.3 kB]\n",
            "\r0% [4 InRelease gpgv 3,626 B] [Connecting to archive.ubuntu.com (91.189.88.173)\r                                                                               \rGet:8 http://security.ubuntu.com/ubuntu bionic-security InRelease [88.7 kB]\n",
            "\r0% [4 InRelease gpgv 3,626 B] [Connecting to archive.ubuntu.com (91.189.88.173)\r                                                                               \rHit:9 http://archive.ubuntu.com/ubuntu bionic InRelease\n",
            "\r0% [4 InRelease gpgv 3,626 B] [Connecting to archive.ubuntu.com (91.189.88.173)\r0% [4 InRelease gpgv 3,626 B] [Connecting to archive.ubuntu.com (91.189.88.173)\r0% [Connecting to archive.ubuntu.com (91.189.88.173)] [8 InRelease 43.1 kB/88.7\r0% [Release.gpg gpgv 564 B] [Connecting to archive.ubuntu.com (91.189.88.173)] \r                                                                               \rGet:10 https://cloud.r-project.org/bin/linux/ubuntu bionic-cran35/ Packages [70.5 kB]\n",
            "\r0% [Release.gpg gpgv 564 B] [Connecting to archive.ubuntu.com (91.189.88.173)] \r0% [Release.gpg gpgv 564 B] [Connecting to archive.ubuntu.com (91.189.88.173)] \r0% [10 Packages store 0 B] [Release.gpg gpgv 564 B] [Connecting to archive.ubun\r0% [Release.gpg gpgv 564 B] [Connecting to archive.ubuntu.com (91.189.88.173)] \r                                                                               \r0% [Release.gpg gpgv 564 B] [Waiting for headers] [Waiting for headers]\r                                                                       \r0% [Waiting for headers] [Waiting for headers]\r0% [6 Release.gpg gpgv 564 B] [Waiting for headers] [Waiting for headers]\r                                                                         \rGet:12 http://archive.ubuntu.com/ubuntu bionic-updates InRelease [88.7 kB]\n",
            "Get:13 http://ppa.launchpad.net/marutter/c2d4u3.5/ubuntu bionic InRelease [15.4 kB]\n",
            "Get:14 https://developer.download.nvidia.com/compute/cuda/repos/ubuntu1804/x86_64  Packages [113 kB]\n",
            "Get:15 http://archive.ubuntu.com/ubuntu bionic-backports InRelease [74.6 kB]\n",
            "Get:16 http://ppa.launchpad.net/graphics-drivers/ppa/ubuntu bionic/main amd64 Packages [31.5 kB]\n",
            "Get:17 http://security.ubuntu.com/ubuntu bionic-security/multiverse amd64 Packages [4,952 B]\n",
            "Get:18 http://ppa.launchpad.net/marutter/c2d4u3.5/ubuntu bionic/main Sources [1,686 kB]\n",
            "Get:19 http://security.ubuntu.com/ubuntu bionic-security/main amd64 Packages [649 kB]\n",
            "Get:20 http://archive.ubuntu.com/ubuntu bionic-updates/restricted amd64 Packages [19.0 kB]\n",
            "Get:21 http://archive.ubuntu.com/ubuntu bionic-updates/universe amd64 Packages [1,284 kB]\n",
            "Get:22 http://security.ubuntu.com/ubuntu bionic-security/restricted amd64 Packages [8,385 B]\n",
            "Get:23 http://ppa.launchpad.net/marutter/c2d4u3.5/ubuntu bionic/main amd64 Packages [810 kB]\n",
            "Get:24 http://security.ubuntu.com/ubuntu bionic-security/universe amd64 Packages [766 kB]\n",
            "Get:25 http://archive.ubuntu.com/ubuntu bionic-updates/multiverse amd64 Packages [7,998 B]\n",
            "Get:26 http://archive.ubuntu.com/ubuntu bionic-updates/main amd64 Packages [946 kB]\n",
            "Get:27 http://archive.ubuntu.com/ubuntu bionic-backports/universe amd64 Packages [4,227 B]\n",
            "Fetched 6,694 kB in 5s (1,322 kB/s)\n",
            "Reading package lists... Done\n"
          ],
          "name": "stdout"
        }
      ]
    },
    {
      "cell_type": "code",
      "metadata": {
        "id": "FuBtsNU6Vkvd",
        "colab_type": "code",
        "colab": {}
      },
      "source": [
        ""
      ],
      "execution_count": 0,
      "outputs": []
    },
    {
      "cell_type": "markdown",
      "metadata": {
        "colab_type": "text",
        "id": "FEuEkV0BlzAD"
      },
      "source": [
        "## Setup environment"
      ]
    },
    {
      "cell_type": "code",
      "metadata": {
        "colab_type": "code",
        "id": "sdOOq4twHN1K",
        "outputId": "656f2b13-3445-412c-97b8-c857c6117488",
        "colab": {
          "base_uri": "https://localhost:8080/",
          "height": 216
        }
      },
      "source": [
        "import os\n",
        "os.environ[\"JAVA_HOME\"] = \"/usr/lib/jvm/java-8-openjdk-amd64\"\n",
        "os.environ[\"SPARK_HOME\"] = \"/content/spark-2.3.1-bin-hadoop2.7\"\n",
        "\n",
        "import findspark\n",
        "findspark.init()\n",
        "from pyspark import SparkContext\n",
        "sc = SparkContext.getOrCreate()\n",
        "\n",
        "import pyspark\n",
        "from pyspark.sql import SparkSession\n",
        "spark = SparkSession.builder.getOrCreate() \n",
        "spark"
      ],
      "execution_count": 3,
      "outputs": [
        {
          "output_type": "execute_result",
          "data": {
            "text/html": [
              "\n",
              "            <div>\n",
              "                <p><b>SparkSession - in-memory</b></p>\n",
              "                \n",
              "        <div>\n",
              "            <p><b>SparkContext</b></p>\n",
              "\n",
              "            <p><a href=\"http://cd7cc6051488:4040\">Spark UI</a></p>\n",
              "\n",
              "            <dl>\n",
              "              <dt>Version</dt>\n",
              "                <dd><code>v2.3.1</code></dd>\n",
              "              <dt>Master</dt>\n",
              "                <dd><code>local[*]</code></dd>\n",
              "              <dt>AppName</dt>\n",
              "                <dd><code>pyspark-shell</code></dd>\n",
              "            </dl>\n",
              "        </div>\n",
              "        \n",
              "            </div>\n",
              "        "
            ],
            "text/plain": [
              "<pyspark.sql.session.SparkSession at 0x7f5a6e50d780>"
            ]
          },
          "metadata": {
            "tags": []
          },
          "execution_count": 3
        }
      ]
    },
    {
      "cell_type": "markdown",
      "metadata": {
        "colab_type": "text",
        "id": "0ysUlfFrN5OD"
      },
      "source": [
        "## Downloading and preprocessing Chicago's Reported Crime Data"
      ]
    },
    {
      "cell_type": "code",
      "metadata": {
        "colab_type": "code",
        "id": "FDtw5Hy3N-pV",
        "outputId": "f465c077-7795-4e21-db5f-a7b65c6b6421",
        "colab": {
          "base_uri": "https://localhost:8080/",
          "height": 204
        }
      },
      "source": [
        "!wget https://data.cityofchicago.org/api/views/ijzp-q8t2/rows.csv?accessType=DOWNLOAD"
      ],
      "execution_count": 4,
      "outputs": [
        {
          "output_type": "stream",
          "text": [
            "--2019-09-17 08:38:26--  https://data.cityofchicago.org/api/views/ijzp-q8t2/rows.csv?accessType=DOWNLOAD\n",
            "Resolving data.cityofchicago.org (data.cityofchicago.org)... 52.206.140.199, 52.206.140.205, 52.206.68.26\n",
            "Connecting to data.cityofchicago.org (data.cityofchicago.org)|52.206.140.199|:443... connected.\n",
            "HTTP request sent, awaiting response... 200 OK\n",
            "Length: unspecified [text/csv]\n",
            "Saving to: ‘rows.csv?accessType=DOWNLOAD’\n",
            "\n",
            "rows.csv?accessType     [             <=>    ]   1.71G  2.70MB/s    in 10m 15s \n",
            "\n",
            "2019-09-17 08:48:59 (2.84 MB/s) - ‘rows.csv?accessType=DOWNLOAD’ saved [1832658712]\n",
            "\n"
          ],
          "name": "stdout"
        }
      ]
    },
    {
      "cell_type": "code",
      "metadata": {
        "colab_type": "code",
        "id": "v4P5mMONYyVd",
        "outputId": "24ac00b8-f542-48e9-f393-2eb318487df8",
        "colab": {
          "base_uri": "https://localhost:8080/",
          "height": 51
        }
      },
      "source": [
        "!ls\n"
      ],
      "execution_count": 5,
      "outputs": [
        {
          "output_type": "stream",
          "text": [
            "'rows.csv?accessType=DOWNLOAD'\t spark-2.3.1-bin-hadoop2.7\n",
            " sample_data\t\t\t spark-2.3.1-bin-hadoop2.7.tgz\n"
          ],
          "name": "stdout"
        }
      ]
    },
    {
      "cell_type": "code",
      "metadata": {
        "colab_type": "code",
        "id": "MzpuCsvDPWM-",
        "colab": {}
      },
      "source": [
        "!mv rows.csv\\?accessType\\=DOWNLOAD reported-crimes.csv"
      ],
      "execution_count": 0,
      "outputs": []
    },
    {
      "cell_type": "code",
      "metadata": {
        "colab_type": "code",
        "id": "9-1cK0nPNS95",
        "outputId": "2709a775-3882-44d2-8d16-349e2ca03927",
        "colab": {
          "base_uri": "https://localhost:8080/",
          "height": 224
        }
      },
      "source": [
        "from pyspark.sql.functions import to_timestamp,col,lit\n",
        "rc = spark.read.csv('reported-crimes.csv',header=True).withColumn('Date',to_timestamp(col('Date'),'MM/dd/yyyy hh:mm:ss a')).filter(col('Date') <= lit('2018-11-11'))\n",
        "rc.show(5)"
      ],
      "execution_count": 7,
      "outputs": [
        {
          "output_type": "stream",
          "text": [
            "+--------+-----------+-------------------+--------------------+----+-------------------+--------------+--------------------+------+--------+----+--------+----+--------------+--------+------------+------------+----+--------------------+------------+-------------+--------------------+--------------------------+---------+---------------+-------------+-----+----------------------+----------------+------------+\n",
            "|      ID|Case Number|               Date|               Block|IUCR|       Primary Type|   Description|Location Description|Arrest|Domestic|Beat|District|Ward|Community Area|FBI Code|X Coordinate|Y Coordinate|Year|          Updated On|    Latitude|    Longitude|            Location|Historical Wards 2003-2015|Zip Codes|Community Areas|Census Tracts|Wards|Boundaries - ZIP Codes|Police Districts|Police Beats|\n",
            "+--------+-----------+-------------------+--------------------+----+-------------------+--------------+--------------------+------+--------+----+--------+----+--------------+--------+------------+------------+----+--------------------+------------+-------------+--------------------+--------------------------+---------+---------------+-------------+-----+----------------------+----------------+------------+\n",
            "|11504330|   JB512058|2018-11-10 23:55:00|021XX W GREENLEAF...|0820|              THEFT|$500 AND UNDER|              STREET| false|   false|2411|     024|  50|             2|      06|     1160583|     1946926|2018|11/17/2018 04:14:...|42.010065214|-87.684502849|(42.010065214, -8...|                        42|    22528|             20|          268|   27|                    12|              11|          35|\n",
            "|11503920|   JB511504|2018-11-10 23:53:00|081XX S HERMITAGE...|0910|MOTOR VEHICLE THEFT|    AUTOMOBILE|           APARTMENT| false|   false|0614|     006|  21|            71|      07|     1166095|     1850727|2018|11/17/2018 04:14:...|41.745971025|-87.666970419|(41.745971025, -8...|                         6|    21554|             70|          574|   13|                    59|              20|         237|\n",
            "|11504110|   JB511795|2018-11-10 23:50:00|   013XX S TRIPP AVE|1320|    CRIMINAL DAMAGE|    TO VEHICLE|VEHICLE NON-COMME...| false|   false|1011|     010|  24|            29|      14|     1148267|     1893365|2018|11/17/2018 04:14:...|  41.8633364|-87.731202138|(41.8633364, -87....|                        36|    21569|             30|          761|   14|                    57|              21|         155|\n",
            "|11503924|   JB511536|2018-11-10 23:45:00|  083XX S RHODES AVE|1310|    CRIMINAL DAMAGE|   TO PROPERTY|           RESIDENCE| false|    true|0632|     006|   6|            44|      14|     1181251|     1849759|2018|11/17/2018 04:14:...|41.742979225| -87.61146577|(41.742979225, -8...|                        31|    21546|             40|          140|   32|                    61|              20|         241|\n",
            "|11503921|   JB511539|2018-11-10 23:42:00|    055XX S GREEN ST|0580|           STALKING|        SIMPLE|           RESIDENCE| false|    true|0712|     007|  20|            68|     08A|     1171583|     1868046|2018|11/17/2018 04:14:...|41.793378076|-87.646354376|(41.793378076, -8...|                        53|    21559|             66|          113|    4|                    11|              17|         261|\n",
            "+--------+-----------+-------------------+--------------------+----+-------------------+--------------+--------------------+------+--------+----+--------+----+--------------+--------+------------+------------+----+--------------------+------------+-------------+--------------------+--------------------------+---------+---------------+-------------+-----+----------------------+----------------+------------+\n",
            "only showing top 5 rows\n",
            "\n"
          ],
          "name": "stdout"
        }
      ]
    },
    {
      "cell_type": "markdown",
      "metadata": {
        "id": "Ll_qmQbEkHMo",
        "colab_type": "text"
      },
      "source": [
        "#Schemas\n"
      ]
    },
    {
      "cell_type": "code",
      "metadata": {
        "colab_type": "code",
        "id": "Zxbq2qCyogGp",
        "outputId": "f3cea0dd-62eb-42f3-c5ec-8eac876a987f",
        "colab": {
          "base_uri": "https://localhost:8080/",
          "height": 561
        }
      },
      "source": [
        "rc.printSchema()"
      ],
      "execution_count": 8,
      "outputs": [
        {
          "output_type": "stream",
          "text": [
            "root\n",
            " |-- ID: string (nullable = true)\n",
            " |-- Case Number: string (nullable = true)\n",
            " |-- Date: timestamp (nullable = true)\n",
            " |-- Block: string (nullable = true)\n",
            " |-- IUCR: string (nullable = true)\n",
            " |-- Primary Type: string (nullable = true)\n",
            " |-- Description: string (nullable = true)\n",
            " |-- Location Description: string (nullable = true)\n",
            " |-- Arrest: string (nullable = true)\n",
            " |-- Domestic: string (nullable = true)\n",
            " |-- Beat: string (nullable = true)\n",
            " |-- District: string (nullable = true)\n",
            " |-- Ward: string (nullable = true)\n",
            " |-- Community Area: string (nullable = true)\n",
            " |-- FBI Code: string (nullable = true)\n",
            " |-- X Coordinate: string (nullable = true)\n",
            " |-- Y Coordinate: string (nullable = true)\n",
            " |-- Year: string (nullable = true)\n",
            " |-- Updated On: string (nullable = true)\n",
            " |-- Latitude: string (nullable = true)\n",
            " |-- Longitude: string (nullable = true)\n",
            " |-- Location: string (nullable = true)\n",
            " |-- Historical Wards 2003-2015: string (nullable = true)\n",
            " |-- Zip Codes: string (nullable = true)\n",
            " |-- Community Areas: string (nullable = true)\n",
            " |-- Census Tracts: string (nullable = true)\n",
            " |-- Wards: string (nullable = true)\n",
            " |-- Boundaries - ZIP Codes: string (nullable = true)\n",
            " |-- Police Districts: string (nullable = true)\n",
            " |-- Police Beats: string (nullable = true)\n",
            "\n"
          ],
          "name": "stdout"
        }
      ]
    },
    {
      "cell_type": "code",
      "metadata": {
        "id": "55dQFqMxmau9",
        "colab_type": "code",
        "colab": {}
      },
      "source": [
        "from pyspark.sql.types import StructType, StructField, StringType, TimestampType, BooleanType, DoubleType, IntegerType\n"
      ],
      "execution_count": 0,
      "outputs": []
    },
    {
      "cell_type": "code",
      "metadata": {
        "id": "tNzD1rfDnrMm",
        "colab_type": "code",
        "outputId": "005c33db-e693-41d8-f7c1-b1862d4bd110",
        "colab": {
          "base_uri": "https://localhost:8080/",
          "height": 527
        }
      },
      "source": [
        "rc.columns"
      ],
      "execution_count": 10,
      "outputs": [
        {
          "output_type": "execute_result",
          "data": {
            "text/plain": [
              "['ID',\n",
              " 'Case Number',\n",
              " 'Date',\n",
              " 'Block',\n",
              " 'IUCR',\n",
              " 'Primary Type',\n",
              " 'Description',\n",
              " 'Location Description',\n",
              " 'Arrest',\n",
              " 'Domestic',\n",
              " 'Beat',\n",
              " 'District',\n",
              " 'Ward',\n",
              " 'Community Area',\n",
              " 'FBI Code',\n",
              " 'X Coordinate',\n",
              " 'Y Coordinate',\n",
              " 'Year',\n",
              " 'Updated On',\n",
              " 'Latitude',\n",
              " 'Longitude',\n",
              " 'Location',\n",
              " 'Historical Wards 2003-2015',\n",
              " 'Zip Codes',\n",
              " 'Community Areas',\n",
              " 'Census Tracts',\n",
              " 'Wards',\n",
              " 'Boundaries - ZIP Codes',\n",
              " 'Police Districts',\n",
              " 'Police Beats']"
            ]
          },
          "metadata": {
            "tags": []
          },
          "execution_count": 10
        }
      ]
    },
    {
      "cell_type": "code",
      "metadata": {
        "id": "uglLIe_0mbWh",
        "colab_type": "code",
        "colab": {}
      },
      "source": [
        "labels = [\n",
        "  ('ID', StringType()),\n",
        "   ('Case Number', StringType()),\n",
        " ('Date',TimestampType()),\n",
        " ('Block',StringType()),\n",
        " ('IUCR',StringType()),\n",
        " ('Primary Type',StringType()),\n",
        " ('Description',StringType()),\n",
        " ('Location Description', StringType()),\n",
        " ('Arrest', StringType()),\n",
        " ('Domestic',StringType()),\n",
        " ('Beat', StringType()),\n",
        " ('District', StringType()),\n",
        " ('Ward', StringType()),\n",
        " ('Community Area', StringType()),\n",
        " ('FBI Code', StringType()),\n",
        " ('X Coordinate', StringType()),\n",
        " ('Y Coordinate', StringType()),\n",
        " ('Year', IntegerType()),\n",
        " ('Updated On', StringType()),\n",
        " ('Latitude', DoubleType()),\n",
        " ('Longitude', DoubleType()),\n",
        " ('Location', StringType()),\n",
        " ('Historical Wards 2003-2015', StringType()),\n",
        "('Zip Codes',StringType()),\n",
        " ('Community Areas', StringType()),\n",
        " ('Census Tracts', StringType()),\n",
        " ('Wards', StringType()),\n",
        " ('Boundaries - ZIP Codes', StringType()),\n",
        "('Police Districts', StringType()),\n",
        " ('Police Beats', StringType())]"
      ],
      "execution_count": 0,
      "outputs": []
    },
    {
      "cell_type": "code",
      "metadata": {
        "id": "_RfWXOSr1ed9",
        "colab_type": "code",
        "outputId": "08a91a0d-36ae-44f3-f358-71c9df9b2b7b",
        "colab": {
          "base_uri": "https://localhost:8080/",
          "height": 54
        }
      },
      "source": [
        "schema = StructType([StructField (x[0], x[1], True) for x in labels])\n",
        "schema "
      ],
      "execution_count": 12,
      "outputs": [
        {
          "output_type": "execute_result",
          "data": {
            "text/plain": [
              "StructType(List(StructField(ID,StringType,true),StructField(Case Number,StringType,true),StructField(Date,TimestampType,true),StructField(Block,StringType,true),StructField(IUCR,StringType,true),StructField(Primary Type,StringType,true),StructField(Description,StringType,true),StructField(Location Description,StringType,true),StructField(Arrest,StringType,true),StructField(Domestic,StringType,true),StructField(Beat,StringType,true),StructField(District,StringType,true),StructField(Ward,StringType,true),StructField(Community Area,StringType,true),StructField(FBI Code,StringType,true),StructField(X Coordinate,StringType,true),StructField(Y Coordinate,StringType,true),StructField(Year,IntegerType,true),StructField(Updated On,StringType,true),StructField(Latitude,DoubleType,true),StructField(Longitude,DoubleType,true),StructField(Location,StringType,true),StructField(Historical Wards 2003-2015,StringType,true),StructField(Zip Codes,StringType,true),StructField(Community Areas,StringType,true),StructField(Census Tracts,StringType,true),StructField(Wards,StringType,true),StructField(Boundaries - ZIP Codes,StringType,true),StructField(Police Districts,StringType,true),StructField(Police Beats,StringType,true)))"
            ]
          },
          "metadata": {
            "tags": []
          },
          "execution_count": 12
        }
      ]
    },
    {
      "cell_type": "code",
      "metadata": {
        "id": "XRYPgg-FCvdn",
        "colab_type": "code",
        "outputId": "aa769f04-555b-47e1-930d-6b599d90df6a",
        "colab": {
          "base_uri": "https://localhost:8080/",
          "height": 224
        }
      },
      "source": [
        "rc.show(5)"
      ],
      "execution_count": 13,
      "outputs": [
        {
          "output_type": "stream",
          "text": [
            "+--------+-----------+-------------------+--------------------+----+-------------------+--------------+--------------------+------+--------+----+--------+----+--------------+--------+------------+------------+----+--------------------+------------+-------------+--------------------+--------------------------+---------+---------------+-------------+-----+----------------------+----------------+------------+\n",
            "|      ID|Case Number|               Date|               Block|IUCR|       Primary Type|   Description|Location Description|Arrest|Domestic|Beat|District|Ward|Community Area|FBI Code|X Coordinate|Y Coordinate|Year|          Updated On|    Latitude|    Longitude|            Location|Historical Wards 2003-2015|Zip Codes|Community Areas|Census Tracts|Wards|Boundaries - ZIP Codes|Police Districts|Police Beats|\n",
            "+--------+-----------+-------------------+--------------------+----+-------------------+--------------+--------------------+------+--------+----+--------+----+--------------+--------+------------+------------+----+--------------------+------------+-------------+--------------------+--------------------------+---------+---------------+-------------+-----+----------------------+----------------+------------+\n",
            "|11504330|   JB512058|2018-11-10 23:55:00|021XX W GREENLEAF...|0820|              THEFT|$500 AND UNDER|              STREET| false|   false|2411|     024|  50|             2|      06|     1160583|     1946926|2018|11/17/2018 04:14:...|42.010065214|-87.684502849|(42.010065214, -8...|                        42|    22528|             20|          268|   27|                    12|              11|          35|\n",
            "|11503920|   JB511504|2018-11-10 23:53:00|081XX S HERMITAGE...|0910|MOTOR VEHICLE THEFT|    AUTOMOBILE|           APARTMENT| false|   false|0614|     006|  21|            71|      07|     1166095|     1850727|2018|11/17/2018 04:14:...|41.745971025|-87.666970419|(41.745971025, -8...|                         6|    21554|             70|          574|   13|                    59|              20|         237|\n",
            "|11504110|   JB511795|2018-11-10 23:50:00|   013XX S TRIPP AVE|1320|    CRIMINAL DAMAGE|    TO VEHICLE|VEHICLE NON-COMME...| false|   false|1011|     010|  24|            29|      14|     1148267|     1893365|2018|11/17/2018 04:14:...|  41.8633364|-87.731202138|(41.8633364, -87....|                        36|    21569|             30|          761|   14|                    57|              21|         155|\n",
            "|11503924|   JB511536|2018-11-10 23:45:00|  083XX S RHODES AVE|1310|    CRIMINAL DAMAGE|   TO PROPERTY|           RESIDENCE| false|    true|0632|     006|   6|            44|      14|     1181251|     1849759|2018|11/17/2018 04:14:...|41.742979225| -87.61146577|(41.742979225, -8...|                        31|    21546|             40|          140|   32|                    61|              20|         241|\n",
            "|11503921|   JB511539|2018-11-10 23:42:00|    055XX S GREEN ST|0580|           STALKING|        SIMPLE|           RESIDENCE| false|    true|0712|     007|  20|            68|     08A|     1171583|     1868046|2018|11/17/2018 04:14:...|41.793378076|-87.646354376|(41.793378076, -8...|                        53|    21559|             66|          113|    4|                    11|              17|         261|\n",
            "+--------+-----------+-------------------+--------------------+----+-------------------+--------------+--------------------+------+--------+----+--------+----+--------------+--------+------------+------------+----+--------------------+------------+-------------+--------------------+--------------------------+---------+---------------+-------------+-----+----------------------+----------------+------------+\n",
            "only showing top 5 rows\n",
            "\n"
          ],
          "name": "stdout"
        }
      ]
    },
    {
      "cell_type": "markdown",
      "metadata": {
        "id": "V9gbUM1VmGmb",
        "colab_type": "text"
      },
      "source": [
        "# Working with Columns \n"
      ]
    },
    {
      "cell_type": "code",
      "metadata": {
        "id": "qaBNDI9fZLCp",
        "colab_type": "code",
        "outputId": "67edf0e0-0af7-4753-ef54-c8576512251c",
        "colab": {
          "base_uri": "https://localhost:8080/",
          "height": 51
        }
      },
      "source": [
        "!ls"
      ],
      "execution_count": 14,
      "outputs": [
        {
          "output_type": "stream",
          "text": [
            "reported-crimes.csv  spark-2.3.1-bin-hadoop2.7\t    spark-warehouse\n",
            "sample_data\t     spark-2.3.1-bin-hadoop2.7.tgz\n"
          ],
          "name": "stdout"
        }
      ]
    },
    {
      "cell_type": "code",
      "metadata": {
        "id": "yEambqfgmSDS",
        "colab_type": "code",
        "colab": {
          "base_uri": "https://localhost:8080/",
          "height": 204
        },
        "outputId": "70908405-5c27-4f94-da3a-7def56fe87e5"
      },
      "source": [
        "rc.select('IUCR').show(5)"
      ],
      "execution_count": 15,
      "outputs": [
        {
          "output_type": "stream",
          "text": [
            "+----+\n",
            "|IUCR|\n",
            "+----+\n",
            "|0820|\n",
            "|0910|\n",
            "|1320|\n",
            "|1310|\n",
            "|0580|\n",
            "+----+\n",
            "only showing top 5 rows\n",
            "\n"
          ],
          "name": "stdout"
        }
      ]
    },
    {
      "cell_type": "code",
      "metadata": {
        "id": "RJruxJzbmZT4",
        "colab_type": "code",
        "colab": {
          "base_uri": "https://localhost:8080/",
          "height": 391
        },
        "outputId": "885241a1-40da-4c69-876e-33e635944784"
      },
      "source": [
        "rc.select(rc.IUCR).show(5)\n",
        "rc.select(col('IUCR')).show(5)"
      ],
      "execution_count": 16,
      "outputs": [
        {
          "output_type": "stream",
          "text": [
            "+----+\n",
            "|IUCR|\n",
            "+----+\n",
            "|0820|\n",
            "|0910|\n",
            "|1320|\n",
            "|1310|\n",
            "|0580|\n",
            "+----+\n",
            "only showing top 5 rows\n",
            "\n",
            "+----+\n",
            "|IUCR|\n",
            "+----+\n",
            "|0820|\n",
            "|0910|\n",
            "|1320|\n",
            "|1310|\n",
            "|0580|\n",
            "+----+\n",
            "only showing top 5 rows\n",
            "\n"
          ],
          "name": "stdout"
        }
      ]
    },
    {
      "cell_type": "code",
      "metadata": {
        "id": "WtPaUM7soRWA",
        "colab_type": "code",
        "colab": {
          "base_uri": "https://localhost:8080/",
          "height": 204
        },
        "outputId": "b5281b74-cf2d-49ea-e9b2-b1a4a5886c92"
      },
      "source": [
        "rc.select('IUCR', 'Case Number','Arrest').show(5)"
      ],
      "execution_count": 17,
      "outputs": [
        {
          "output_type": "stream",
          "text": [
            "+----+-----------+------+\n",
            "|IUCR|Case Number|Arrest|\n",
            "+----+-----------+------+\n",
            "|0820|   JB512058| false|\n",
            "|0910|   JB511504| false|\n",
            "|1320|   JB511795| false|\n",
            "|1310|   JB511536| false|\n",
            "|0580|   JB511539| false|\n",
            "+----+-----------+------+\n",
            "only showing top 5 rows\n",
            "\n"
          ],
          "name": "stdout"
        }
      ]
    },
    {
      "cell_type": "code",
      "metadata": {
        "id": "UozsQyWSoRMY",
        "colab_type": "code",
        "colab": {}
      },
      "source": [
        "from pyspark.sql.functions import lit "
      ],
      "execution_count": 0,
      "outputs": []
    },
    {
      "cell_type": "code",
      "metadata": {
        "id": "hnj_LYyYoRBd",
        "colab_type": "code",
        "colab": {
          "base_uri": "https://localhost:8080/",
          "height": 479
        },
        "outputId": "b80d274d-0293-45a5-a908-f02f90e8b1cb"
      },
      "source": [
        "rc.withColumn('One', lit(1)).show()"
      ],
      "execution_count": 19,
      "outputs": [
        {
          "output_type": "stream",
          "text": [
            "+--------+-----------+-------------------+--------------------+----+--------------------+--------------------+--------------------+------+--------+----+--------+----+--------------+--------+------------+------------+----+--------------------+------------+-------------+--------------------+--------------------------+---------+---------------+-------------+-----+----------------------+----------------+------------+---+\n",
            "|      ID|Case Number|               Date|               Block|IUCR|        Primary Type|         Description|Location Description|Arrest|Domestic|Beat|District|Ward|Community Area|FBI Code|X Coordinate|Y Coordinate|Year|          Updated On|    Latitude|    Longitude|            Location|Historical Wards 2003-2015|Zip Codes|Community Areas|Census Tracts|Wards|Boundaries - ZIP Codes|Police Districts|Police Beats|One|\n",
            "+--------+-----------+-------------------+--------------------+----+--------------------+--------------------+--------------------+------+--------+----+--------+----+--------------+--------+------------+------------+----+--------------------+------------+-------------+--------------------+--------------------------+---------+---------------+-------------+-----+----------------------+----------------+------------+---+\n",
            "|11504330|   JB512058|2018-11-10 23:55:00|021XX W GREENLEAF...|0820|               THEFT|      $500 AND UNDER|              STREET| false|   false|2411|     024|  50|             2|      06|     1160583|     1946926|2018|11/17/2018 04:14:...|42.010065214|-87.684502849|(42.010065214, -8...|                        42|    22528|             20|          268|   27|                    12|              11|          35|  1|\n",
            "|11503920|   JB511504|2018-11-10 23:53:00|081XX S HERMITAGE...|0910| MOTOR VEHICLE THEFT|          AUTOMOBILE|           APARTMENT| false|   false|0614|     006|  21|            71|      07|     1166095|     1850727|2018|11/17/2018 04:14:...|41.745971025|-87.666970419|(41.745971025, -8...|                         6|    21554|             70|          574|   13|                    59|              20|         237|  1|\n",
            "|11504110|   JB511795|2018-11-10 23:50:00|   013XX S TRIPP AVE|1320|     CRIMINAL DAMAGE|          TO VEHICLE|VEHICLE NON-COMME...| false|   false|1011|     010|  24|            29|      14|     1148267|     1893365|2018|11/17/2018 04:14:...|  41.8633364|-87.731202138|(41.8633364, -87....|                        36|    21569|             30|          761|   14|                    57|              21|         155|  1|\n",
            "|11503924|   JB511536|2018-11-10 23:45:00|  083XX S RHODES AVE|1310|     CRIMINAL DAMAGE|         TO PROPERTY|           RESIDENCE| false|    true|0632|     006|   6|            44|      14|     1181251|     1849759|2018|11/17/2018 04:14:...|41.742979225| -87.61146577|(41.742979225, -8...|                        31|    21546|             40|          140|   32|                    61|              20|         241|  1|\n",
            "|11503921|   JB511539|2018-11-10 23:42:00|    055XX S GREEN ST|0580|            STALKING|              SIMPLE|           RESIDENCE| false|    true|0712|     007|  20|            68|     08A|     1171583|     1868046|2018|11/17/2018 04:14:...|41.793378076|-87.646354376|(41.793378076, -8...|                        53|    21559|             66|          113|    4|                    11|              17|         261|  1|\n",
            "|11503919|   JB511511|2018-11-10 23:41:00|  054XX S HARLEM AVE|0460|             BATTERY|              SIMPLE|              STREET| false|   false|0811|     008|  23|            56|     08B|     1129262|     1867538|2018|11/17/2018 04:14:...|41.792807252|-87.801556137|(41.792807252, -8...|                      null|     2733|           null|         null| null|                  null|            null|        null|  1|\n",
            "|11503929|   JB511512|2018-11-10 23:35:00|  080XX S COLFAX AVE|0460|             BATTERY|              SIMPLE|           APARTMENT| false|   false|0422|     004|   7|            46|     08B|     1194916|     1851891|2018|11/17/2018 04:14:...|41.748504135|-87.561327486|(41.748504135, -8...|                        43|    21202|             42|          244|   37|                    25|              19|         234|  1|\n",
            "|11503967|   JB511500|2018-11-10 23:35:00| 029XX N ASHLAND AVE|0860|               THEFT|        RETAIL THEFT|  GROCERY FOOD STORE|  true|   false|1931|     019|  32|             6|      06|     1165142|     1919763|2018|11/17/2018 04:14:...|41.935432921|-87.668504341|(41.935432921, -8...|                        16|     4449|             57|          712|   40|                    22|               5|         173|  1|\n",
            "|11503933|   JB511494|2018-11-10 23:35:00|017XX N MC VICKER...|0486|             BATTERY|DOMESTIC BATTERY ...|           APARTMENT|  true|    true|2513|     025|  29|            25|     08B|     1135806|     1911004|2018|11/17/2018 04:14:...|41.911970869|-87.776526021|(41.911970869, -8...|                        52|    22615|             26|          597|    7|                     2|               6|         196|  1|\n",
            "|11503877|   JB511486|2018-11-10 23:33:00|  019XX N CICERO AVE|051A|             ASSAULT| AGGRAVATED: HANDGUN|               ALLEY| false|   false|2533|     025|  36|            19|     04A|     1144092|     1912382|2018|11/17/2018 04:14:...|41.915600603|-87.746050613|(41.915600603, -8...|                         7|    22615|             19|          306|   44|                     2|               6|         195|  1|\n",
            "|11512112|   JB522393|2018-11-10 23:30:00| 026XX S MILLARD AVE|1562|         SEX OFFENSE|AGG CRIMINAL SEXU...|           RESIDENCE| false|   false|1032|     010|  22|            30|      17|     1152462|     1886281|2018|11/22/2018 04:00:...|41.843815291|-87.715989472|(41.843815291, -8...|                        14|    21569|             32|          227|   28|                    57|              21|         166|  1|\n",
            "|11503943|   JB511593|2018-11-10 23:30:00|     036XX W 86TH ST|3730|INTERFERENCE WITH...| OBSTRUCTING JUSTICE|            SIDEWALK|  true|   false|0834|     008|  18|            70|      24|     1153679|     1847306|2018|11/17/2018 04:14:...|41.736838061|-87.712556057|(41.736838061, -8...|                         6|     4300|             69|          198|   30|                     8|              13|         232|  1|\n",
            "|11503878|   JB511518|2018-11-10 23:29:00|052XX W KAMERLING...|0820|               THEFT|      $500 AND UNDER|           RESIDENCE| false|   false|2532|     025|  37|            25|      06|     1140983|     1908479|2018|11/17/2018 04:14:...|41.904948184|-87.757569223|(41.904948184, -8...|                         4|     4299|             26|          599|   45|                     5|               6|         145|  1|\n",
            "|11503894|   JB511509|2018-11-10 23:26:00|045XX S DR MARTIN...|1310|     CRIMINAL DAMAGE|         TO PROPERTY|           APARTMENT| false|   false|0215|     002|   3|            38|      14|     1179625|     1874840|2018|11/17/2018 04:14:...|41.811841277|-87.616657577|(41.811841277, -8...|                        12|     4301|              4|          162|    9|                    36|              24|          98|  1|\n",
            "|11504134|   JB511545|2018-11-10 23:25:00|  061XX S KEDZIE AVE|0486|             BATTERY|DOMESTIC BATTERY ...|           APARTMENT| false|    true|0823|     008|  16|            66|     08B|     1156102|     1863920|2018|11/17/2018 04:14:...| 41.78238119|-87.703233008|(41.78238119, -87...|                        44|    21867|             64|          183|    2|                    58|              13|         276|  1|\n",
            "|11503874|   JB511483|2018-11-10 23:20:00|   071XX S HONORE ST|0820|               THEFT|      $500 AND UNDER|              STREET| false|    true|0735|     007|  17|            67|      06|     1165255|     1857291|2018|11/17/2018 04:14:...|41.764001379|-87.669862878|(41.764001379, -8...|                        17|    22257|             65|          433|   31|                    23|              17|           7|  1|\n",
            "|11503892|   JB511493|2018-11-10 23:20:00|    055XX S GREEN ST|1310|     CRIMINAL DAMAGE|         TO PROPERTY|           APARTMENT| false|   false|0712|     007|  20|            68|      14|     1171583|     1868046|2018|11/17/2018 04:14:...|41.793378076|-87.646354376|(41.793378076, -8...|                        53|    21559|             66|          113|    4|                    11|              17|         261|  1|\n",
            "|11503869|   JB511482|2018-11-10 23:20:00| 032XX S ASHLAND AVE|1320|     CRIMINAL DAMAGE|          TO VEHICLE|              STREET| false|   false|0912|     009|  12|            59|      14|     1166201|     1883011|2018|11/17/2018 04:14:...| 41.83456002|-87.665663328|(41.83456002, -87...|                        26|    14920|             56|          192|    1|                    43|              23|         165|  1|\n",
            "|11503954|   JB511489|2018-11-10 23:19:00|  019XX N PULASKI RD|0486|             BATTERY|DOMESTIC BATTERY ...|           APARTMENT|  true|    true|2535|     025|  26|            20|     08B|     1149405|     1912559|2018|11/17/2018 04:14:...|41.915984814|-87.726526318|(41.915984814, -8...|                        27|    22535|             21|          135|   12|                     2|               6|         194|  1|\n",
            "|11503871|   JB511485|2018-11-10 23:15:00|   020XX W NORTH AVE|2826|       OTHER OFFENSE|HARASSMENT BY ELE...|       BAR OR TAVERN| false|    true|1424|     014|   1|            24|      26|     1162408|     1910641|2018|11/17/2018 04:14:...|41.910459292|-87.678807803|(41.910459292, -8...|                        24|    21560|             25|          481|   41|                     4|               7|         200|  1|\n",
            "+--------+-----------+-------------------+--------------------+----+--------------------+--------------------+--------------------+------+--------+----+--------+----+--------------+--------+------------+------------+----+--------------------+------------+-------------+--------------------+--------------------------+---------+---------------+-------------+-----+----------------------+----------------+------------+---+\n",
            "only showing top 20 rows\n",
            "\n"
          ],
          "name": "stdout"
        }
      ]
    },
    {
      "cell_type": "code",
      "metadata": {
        "id": "tOfPNBcG-LiK",
        "colab_type": "code",
        "colab": {
          "base_uri": "https://localhost:8080/",
          "height": 224
        },
        "outputId": "a066f14a-5af6-4748-c70b-08713bfdf4ae"
      },
      "source": [
        "rc.drop('IUCR')\n",
        "rc.show(5)"
      ],
      "execution_count": 20,
      "outputs": [
        {
          "output_type": "stream",
          "text": [
            "+--------+-----------+-------------------+--------------------+----+-------------------+--------------+--------------------+------+--------+----+--------+----+--------------+--------+------------+------------+----+--------------------+------------+-------------+--------------------+--------------------------+---------+---------------+-------------+-----+----------------------+----------------+------------+\n",
            "|      ID|Case Number|               Date|               Block|IUCR|       Primary Type|   Description|Location Description|Arrest|Domestic|Beat|District|Ward|Community Area|FBI Code|X Coordinate|Y Coordinate|Year|          Updated On|    Latitude|    Longitude|            Location|Historical Wards 2003-2015|Zip Codes|Community Areas|Census Tracts|Wards|Boundaries - ZIP Codes|Police Districts|Police Beats|\n",
            "+--------+-----------+-------------------+--------------------+----+-------------------+--------------+--------------------+------+--------+----+--------+----+--------------+--------+------------+------------+----+--------------------+------------+-------------+--------------------+--------------------------+---------+---------------+-------------+-----+----------------------+----------------+------------+\n",
            "|11504330|   JB512058|2018-11-10 23:55:00|021XX W GREENLEAF...|0820|              THEFT|$500 AND UNDER|              STREET| false|   false|2411|     024|  50|             2|      06|     1160583|     1946926|2018|11/17/2018 04:14:...|42.010065214|-87.684502849|(42.010065214, -8...|                        42|    22528|             20|          268|   27|                    12|              11|          35|\n",
            "|11503920|   JB511504|2018-11-10 23:53:00|081XX S HERMITAGE...|0910|MOTOR VEHICLE THEFT|    AUTOMOBILE|           APARTMENT| false|   false|0614|     006|  21|            71|      07|     1166095|     1850727|2018|11/17/2018 04:14:...|41.745971025|-87.666970419|(41.745971025, -8...|                         6|    21554|             70|          574|   13|                    59|              20|         237|\n",
            "|11504110|   JB511795|2018-11-10 23:50:00|   013XX S TRIPP AVE|1320|    CRIMINAL DAMAGE|    TO VEHICLE|VEHICLE NON-COMME...| false|   false|1011|     010|  24|            29|      14|     1148267|     1893365|2018|11/17/2018 04:14:...|  41.8633364|-87.731202138|(41.8633364, -87....|                        36|    21569|             30|          761|   14|                    57|              21|         155|\n",
            "|11503924|   JB511536|2018-11-10 23:45:00|  083XX S RHODES AVE|1310|    CRIMINAL DAMAGE|   TO PROPERTY|           RESIDENCE| false|    true|0632|     006|   6|            44|      14|     1181251|     1849759|2018|11/17/2018 04:14:...|41.742979225| -87.61146577|(41.742979225, -8...|                        31|    21546|             40|          140|   32|                    61|              20|         241|\n",
            "|11503921|   JB511539|2018-11-10 23:42:00|    055XX S GREEN ST|0580|           STALKING|        SIMPLE|           RESIDENCE| false|    true|0712|     007|  20|            68|     08A|     1171583|     1868046|2018|11/17/2018 04:14:...|41.793378076|-87.646354376|(41.793378076, -8...|                        53|    21559|             66|          113|    4|                    11|              17|         261|\n",
            "+--------+-----------+-------------------+--------------------+----+-------------------+--------------+--------------------+------+--------+----+--------+----+--------------+--------+------------+------------+----+--------------------+------------+-------------+--------------------+--------------------------+---------+---------------+-------------+-----+----------------------+----------------+------------+\n",
            "only showing top 5 rows\n",
            "\n"
          ],
          "name": "stdout"
        }
      ]
    },
    {
      "cell_type": "markdown",
      "metadata": {
        "id": "-xIu62knLe5n",
        "colab_type": "text"
      },
      "source": [
        "#Working with Rows\n"
      ]
    },
    {
      "cell_type": "code",
      "metadata": {
        "colab_type": "code",
        "outputId": "de9ab090-b82f-44a3-fc3c-3766be0274d4",
        "id": "W0XEPBfCL0Px",
        "colab": {
          "base_uri": "https://localhost:8080/",
          "height": 34
        }
      },
      "source": [
        "one_day = spark.read.csv('reported-crimes.csv',header=True).withColumn('Date',to_timestamp(col('Date'),'MM/dd/yyyy hh:mm:ss a')).filter(col('Date') == lit('2018-11-12'))\n",
        "one_day.count()"
      ],
      "execution_count": 21,
      "outputs": [
        {
          "output_type": "execute_result",
          "data": {
            "text/plain": [
              "3"
            ]
          },
          "metadata": {
            "tags": []
          },
          "execution_count": 21
        }
      ]
    },
    {
      "cell_type": "code",
      "metadata": {
        "id": "h52eQXNoPhqb",
        "colab_type": "code",
        "colab": {
          "base_uri": "https://localhost:8080/",
          "height": 224
        },
        "outputId": "8b1c0b33-ca6b-4548-dff4-5775268a1040"
      },
      "source": [
        "rc.union(one_day).orderBy('Date', ascending = False).show(5)"
      ],
      "execution_count": 22,
      "outputs": [
        {
          "output_type": "stream",
          "text": [
            "+--------+-----------+-------------------+--------------------+----+-------------------+--------------------+--------------------+------+--------+----+--------+----+--------------+--------+------------+------------+----+--------------------+------------+-------------+--------------------+--------------------------+---------+---------------+-------------+-----+----------------------+----------------+------------+\n",
            "|      ID|Case Number|               Date|               Block|IUCR|       Primary Type|         Description|Location Description|Arrest|Domestic|Beat|District|Ward|Community Area|FBI Code|X Coordinate|Y Coordinate|Year|          Updated On|    Latitude|    Longitude|            Location|Historical Wards 2003-2015|Zip Codes|Community Areas|Census Tracts|Wards|Boundaries - ZIP Codes|Police Districts|Police Beats|\n",
            "+--------+-----------+-------------------+--------------------+----+-------------------+--------------------+--------------------+------+--------+----+--------+----+--------------+--------+------------+------------+----+--------------------+------------+-------------+--------------------+--------------------------+---------+---------------+-------------+-----+----------------------+----------------+------------+\n",
            "|11540042|   JB559262|2018-11-12 00:00:00| 010XX N DEARBORN ST|1140| DECEPTIVE PRACTICE|        EMBEZZLEMENT|   CONVENIENCE STORE|  true|   false|1824|     018|   2|             8|      12|     1175747|     1907348|2018|03/16/2019 04:01:...|41.901133376|-87.629904979|(41.901133376, -8...|                        22|    14926|             37|          230|   11|                    54|              14|         197|\n",
            "|11505149|   JB513151|2018-11-12 00:00:00|  003XX S WHIPPLE ST|0810|              THEFT|           OVER $500|              STREET| false|   false|1124|     011|  28|            27|      06|     1156099|     1898319|2018|11/19/2018 04:22:...|41.876776356|-87.702317641|(41.876776356, -8...|                        11|    21184|             28|          737|   23|                    28|              16|         123|\n",
            "|11516594|   JB528186|2018-11-12 00:00:00| 049XX S PRAIRIE AVE|2826|      OTHER OFFENSE|HARASSMENT BY ELE...|               OTHER| false|   false|0224|     002|   3|            38|      26|     1178879|     1872259|2018|11/28/2018 04:14:...|41.804775828|-87.619472488|(41.804775828, -8...|                        12|    21192|              4|          449|    9|                    10|              24|         107|\n",
            "|11504330|   JB512058|2018-11-10 23:55:00|021XX W GREENLEAF...|0820|              THEFT|      $500 AND UNDER|              STREET| false|   false|2411|     024|  50|             2|      06|     1160583|     1946926|2018|11/17/2018 04:14:...|42.010065214|-87.684502849|(42.010065214, -8...|                        42|    22528|             20|          268|   27|                    12|              11|          35|\n",
            "|11503920|   JB511504|2018-11-10 23:53:00|081XX S HERMITAGE...|0910|MOTOR VEHICLE THEFT|          AUTOMOBILE|           APARTMENT| false|   false|0614|     006|  21|            71|      07|     1166095|     1850727|2018|11/17/2018 04:14:...|41.745971025|-87.666970419|(41.745971025, -8...|                         6|    21554|             70|          574|   13|                    59|              20|         237|\n",
            "+--------+-----------+-------------------+--------------------+----+-------------------+--------------------+--------------------+------+--------+----+--------+----+--------------+--------+------------+------------+----+--------------------+------------+-------------+--------------------+--------------------------+---------+---------------+-------------+-----+----------------------+----------------+------------+\n",
            "only showing top 5 rows\n",
            "\n"
          ],
          "name": "stdout"
        }
      ]
    },
    {
      "cell_type": "code",
      "metadata": {
        "id": "4UAJDaz-Rpru",
        "colab_type": "code",
        "colab": {
          "base_uri": "https://localhost:8080/",
          "height": 289
        },
        "outputId": "2b0a8406-7bfc-484f-b21e-59106825b4a6"
      },
      "source": [
        "rc.groupBy('Primary Type').count().orderBy('count', ascending=False).show(10)"
      ],
      "execution_count": 23,
      "outputs": [
        {
          "output_type": "stream",
          "text": [
            "+-------------------+-------+\n",
            "|       Primary Type|  count|\n",
            "+-------------------+-------+\n",
            "|              THEFT|1418374|\n",
            "|            BATTERY|1232194|\n",
            "|    CRIMINAL DAMAGE| 771495|\n",
            "|          NARCOTICS| 711535|\n",
            "|      OTHER OFFENSE| 418767|\n",
            "|            ASSAULT| 418500|\n",
            "|           BURGLARY| 388026|\n",
            "|MOTOR VEHICLE THEFT| 314145|\n",
            "| DECEPTIVE PRACTICE| 264702|\n",
            "|            ROBBERY| 255600|\n",
            "+-------------------+-------+\n",
            "only showing top 10 rows\n",
            "\n"
          ],
          "name": "stdout"
        }
      ]
    },
    {
      "cell_type": "code",
      "metadata": {
        "id": "vKVw__zHAcoe",
        "colab_type": "code",
        "colab": {
          "base_uri": "https://localhost:8080/",
          "height": 136
        },
        "outputId": "145662d3-b1f1-4968-a944-73fccfa89f2e"
      },
      "source": [
        "rc.select('Arrest').distinct().show()"
      ],
      "execution_count": 24,
      "outputs": [
        {
          "output_type": "stream",
          "text": [
            "+------+\n",
            "|Arrest|\n",
            "+------+\n",
            "| false|\n",
            "|  true|\n",
            "+------+\n",
            "\n"
          ],
          "name": "stdout"
        }
      ]
    },
    {
      "cell_type": "code",
      "metadata": {
        "id": "iRAYq4t4A54-",
        "colab_type": "code",
        "colab": {
          "base_uri": "https://localhost:8080/",
          "height": 561
        },
        "outputId": "bfaae1de-28f1-4249-d386-5ae76bbb7d8c"
      },
      "source": [
        "rc.printSchema()"
      ],
      "execution_count": 25,
      "outputs": [
        {
          "output_type": "stream",
          "text": [
            "root\n",
            " |-- ID: string (nullable = true)\n",
            " |-- Case Number: string (nullable = true)\n",
            " |-- Date: timestamp (nullable = true)\n",
            " |-- Block: string (nullable = true)\n",
            " |-- IUCR: string (nullable = true)\n",
            " |-- Primary Type: string (nullable = true)\n",
            " |-- Description: string (nullable = true)\n",
            " |-- Location Description: string (nullable = true)\n",
            " |-- Arrest: string (nullable = true)\n",
            " |-- Domestic: string (nullable = true)\n",
            " |-- Beat: string (nullable = true)\n",
            " |-- District: string (nullable = true)\n",
            " |-- Ward: string (nullable = true)\n",
            " |-- Community Area: string (nullable = true)\n",
            " |-- FBI Code: string (nullable = true)\n",
            " |-- X Coordinate: string (nullable = true)\n",
            " |-- Y Coordinate: string (nullable = true)\n",
            " |-- Year: string (nullable = true)\n",
            " |-- Updated On: string (nullable = true)\n",
            " |-- Latitude: string (nullable = true)\n",
            " |-- Longitude: string (nullable = true)\n",
            " |-- Location: string (nullable = true)\n",
            " |-- Historical Wards 2003-2015: string (nullable = true)\n",
            " |-- Zip Codes: string (nullable = true)\n",
            " |-- Community Areas: string (nullable = true)\n",
            " |-- Census Tracts: string (nullable = true)\n",
            " |-- Wards: string (nullable = true)\n",
            " |-- Boundaries - ZIP Codes: string (nullable = true)\n",
            " |-- Police Districts: string (nullable = true)\n",
            " |-- Police Beats: string (nullable = true)\n",
            "\n"
          ],
          "name": "stdout"
        }
      ]
    },
    {
      "cell_type": "code",
      "metadata": {
        "id": "DZ3fGIoaA5Ue",
        "colab_type": "code",
        "colab": {
          "base_uri": "https://localhost:8080/",
          "height": 34
        },
        "outputId": "14d120dc-0a00-4e86-b1b1-22f28d942a6a"
      },
      "source": [
        "rc.filter(col('Arrest') == 'true').count() / rc.select('Arrest').count()"
      ],
      "execution_count": 26,
      "outputs": [
        {
          "output_type": "execute_result",
          "data": {
            "text/plain": [
              "0.27752500131827557"
            ]
          },
          "metadata": {
            "tags": []
          },
          "execution_count": 26
        }
      ]
    },
    {
      "cell_type": "code",
      "metadata": {
        "id": "cObYsxhuA5FZ",
        "colab_type": "code",
        "colab": {
          "base_uri": "https://localhost:8080/",
          "height": 170
        },
        "outputId": "1297bb38-5dda-42da-f572-3189764b1434"
      },
      "source": [
        "rc.groupBy('Location Description').count().orderBy('count', ascending =False).show(3)"
      ],
      "execution_count": 27,
      "outputs": [
        {
          "output_type": "stream",
          "text": [
            "+--------------------+-------+\n",
            "|Location Description|  count|\n",
            "+--------------------+-------+\n",
            "|              STREET|1770550|\n",
            "|           RESIDENCE|1144085|\n",
            "|           APARTMENT| 697921|\n",
            "+--------------------+-------+\n",
            "only showing top 3 rows\n",
            "\n"
          ],
          "name": "stdout"
        }
      ]
    },
    {
      "cell_type": "code",
      "metadata": {
        "id": "78B5FpmZPX_R",
        "colab_type": "code",
        "colab": {}
      },
      "source": [
        "from pyspark.sql import  functions"
      ],
      "execution_count": 0,
      "outputs": []
    },
    {
      "cell_type": "code",
      "metadata": {
        "id": "-SQLWoiXPXzh",
        "colab_type": "code",
        "colab": {}
      },
      "source": [
        "from pyspark.sql.functions import lower, upper, substring"
      ],
      "execution_count": 0,
      "outputs": []
    },
    {
      "cell_type": "code",
      "metadata": {
        "id": "0xXOnNmFPsGW",
        "colab_type": "code",
        "colab": {
          "base_uri": "https://localhost:8080/",
          "height": 272
        },
        "outputId": "464a5108-7ecc-486a-eeb2-7f20d18598a7"
      },
      "source": [
        "help(substring)"
      ],
      "execution_count": 30,
      "outputs": [
        {
          "output_type": "stream",
          "text": [
            "Help on function substring in module pyspark.sql.functions:\n",
            "\n",
            "substring(str, pos, len)\n",
            "    Substring starts at `pos` and is of length `len` when str is String type or\n",
            "    returns the slice of byte array that starts at `pos` in byte and is of length `len`\n",
            "    when str is Binary type.\n",
            "    \n",
            "    .. note:: The position is not zero based, but 1 based index.\n",
            "    \n",
            "    >>> df = spark.createDataFrame([('abcd',)], ['s',])\n",
            "    >>> df.select(substring(df.s, 1, 2).alias('s')).collect()\n",
            "    [Row(s='ab')]\n",
            "    \n",
            "    .. versionadded:: 1.5\n",
            "\n"
          ],
          "name": "stdout"
        }
      ]
    },
    {
      "cell_type": "code",
      "metadata": {
        "id": "1HZUJHGjPr92",
        "colab_type": "code",
        "colab": {
          "base_uri": "https://localhost:8080/",
          "height": 204
        },
        "outputId": "854fdc9d-ffda-4a7b-97f0-599d074bbfbc"
      },
      "source": [
        "rc.select(lower(col('Primary Type')), upper(col('Primary Type')), substring(col('Primary Type'), 1,4)).show(5)"
      ],
      "execution_count": 31,
      "outputs": [
        {
          "output_type": "stream",
          "text": [
            "+-------------------+-------------------+-----------------------------+\n",
            "|lower(Primary Type)|upper(Primary Type)|substring(Primary Type, 1, 4)|\n",
            "+-------------------+-------------------+-----------------------------+\n",
            "|              theft|              THEFT|                         THEF|\n",
            "|motor vehicle theft|MOTOR VEHICLE THEFT|                         MOTO|\n",
            "|    criminal damage|    CRIMINAL DAMAGE|                         CRIM|\n",
            "|    criminal damage|    CRIMINAL DAMAGE|                         CRIM|\n",
            "|           stalking|           STALKING|                         STAL|\n",
            "+-------------------+-------------------+-----------------------------+\n",
            "only showing top 5 rows\n",
            "\n"
          ],
          "name": "stdout"
        }
      ]
    },
    {
      "cell_type": "code",
      "metadata": {
        "id": "xzNbRRN9Pr1D",
        "colab_type": "code",
        "colab": {}
      },
      "source": [
        "from pyspark.sql.functions import min, max"
      ],
      "execution_count": 0,
      "outputs": []
    },
    {
      "cell_type": "code",
      "metadata": {
        "id": "jUuxQrilPrpl",
        "colab_type": "code",
        "colab": {
          "base_uri": "https://localhost:8080/",
          "height": 119
        },
        "outputId": "fadde875-c0ef-480c-969e-348fdcaecd75"
      },
      "source": [
        "rc.select(min(col('Date')),max(col('Date'))).show(1)"
      ],
      "execution_count": 33,
      "outputs": [
        {
          "output_type": "stream",
          "text": [
            "+-------------------+-------------------+\n",
            "|          min(Date)|          max(Date)|\n",
            "+-------------------+-------------------+\n",
            "|2001-01-01 00:00:00|2018-11-10 23:55:00|\n",
            "+-------------------+-------------------+\n",
            "\n"
          ],
          "name": "stdout"
        }
      ]
    },
    {
      "cell_type": "code",
      "metadata": {
        "id": "LieNoifMPXlg",
        "colab_type": "code",
        "colab": {}
      },
      "source": [
        "from pyspark.sql.functions import date_add, date_sub"
      ],
      "execution_count": 0,
      "outputs": []
    },
    {
      "cell_type": "code",
      "metadata": {
        "id": "BnA7ajLFXZvw",
        "colab_type": "code",
        "colab": {
          "base_uri": "https://localhost:8080/",
          "height": 119
        },
        "outputId": "7e2d548c-0629-458e-c5ac-43a6a94d1754"
      },
      "source": [
        "rc.select(date_sub(min(col('Date')), 3), date_add(max(col('Date')), 3)).show(1)"
      ],
      "execution_count": 35,
      "outputs": [
        {
          "output_type": "stream",
          "text": [
            "+----------------------+----------------------+\n",
            "|date_sub(min(Date), 3)|date_add(max(Date), 3)|\n",
            "+----------------------+----------------------+\n",
            "|            2000-12-29|            2018-11-13|\n",
            "+----------------------+----------------------+\n",
            "\n"
          ],
          "name": "stdout"
        }
      ]
    },
    {
      "cell_type": "code",
      "metadata": {
        "id": "VDokns8YXZlb",
        "colab_type": "code",
        "colab": {
          "base_uri": "https://localhost:8080/",
          "height": 224
        },
        "outputId": "790c5983-7c8d-4d98-9e17-849f00cf4abe"
      },
      "source": [
        "nrc = spark.read.csv('reported-crimes.csv', header=True)\n",
        "nrc.show(5, truncate=False)"
      ],
      "execution_count": 37,
      "outputs": [
        {
          "output_type": "stream",
          "text": [
            "+--------+-----------+----------------------+---------------------+----+-----------------+---------------------------+--------------------+------+--------+----+--------+----+--------------+--------+------------+------------+----+----------------------+------------+-------------+-----------------------------+--------------------------+---------+---------------+-------------+-----+----------------------+----------------+------------+\n",
            "|ID      |Case Number|Date                  |Block                |IUCR|Primary Type     |Description                |Location Description|Arrest|Domestic|Beat|District|Ward|Community Area|FBI Code|X Coordinate|Y Coordinate|Year|Updated On            |Latitude    |Longitude    |Location                     |Historical Wards 2003-2015|Zip Codes|Community Areas|Census Tracts|Wards|Boundaries - ZIP Codes|Police Districts|Police Beats|\n",
            "+--------+-----------+----------------------+---------------------+----+-----------------+---------------------------+--------------------+------+--------+----+--------+----+--------------+--------+------------+------------+----+----------------------+------------+-------------+-----------------------------+--------------------------+---------+---------------+-------------+-----+----------------------+----------------+------------+\n",
            "|11825890|JC426844   |09/08/2019 11:59:00 PM|095XX S UNION AVE    |4387|OTHER OFFENSE    |VIOLATE ORDER OF PROTECTION|RESIDENCE           |false |true    |2223|022     |21  |73            |26      |1173321     |1841583     |2019|09/15/2019 04:08:01 PM|41.720722042|-87.640762501|(41.720722042, -87.640762501)|18                        |21861    |72             |593          |13   |19                    |9               |243         |\n",
            "|11822283|JC426090   |09/08/2019 11:59:00 PM|032XX W BRYN MAWR AVE|031A|ROBBERY          |ARMED: HANDGUN             |RESTAURANT          |false |false   |1711|017     |39  |13            |03      |1153822     |1937035     |2019|09/15/2019 04:08:01 PM|41.983061763|-87.70964407 |(41.983061763, -87.70964407) |46                        |4450     |13             |167          |38   |20                    |1               |48          |\n",
            "|11821866|JC425474   |09/08/2019 11:56:00 PM|034XX N CICERO AVE   |143A|WEAPONS VIOLATION|UNLAWFUL POSS OF HANDGUN   |ALLEY               |true  |false   |1731|017     |30  |15            |15      |1143762     |1922724     |2019|09/15/2019 04:08:01 PM|41.94398626 |-87.747003187|(41.94398626, -87.747003187) |27                        |22618    |15             |115          |21   |21                    |1               |25          |\n",
            "|11821824|JC425468   |09/08/2019 11:55:00 PM|036XX W 69TH PL      |0486|BATTERY          |DOMESTIC BATTERY SIMPLE    |RESIDENCE           |false |true    |0833|008     |13  |65            |08B     |1153281     |1858278     |2019|09/15/2019 04:08:01 PM|41.766954926|-87.713724731|(41.766954926, -87.713724731)|23                        |21867    |63             |317          |15   |58                    |13              |209         |\n",
            "|11821759|JC425463   |09/08/2019 11:50:00 PM|041XX W 25TH ST      |2027|NARCOTICS        |POSS: CRACK                |STREET              |true  |false   |1013|010     |22  |30            |18      |1149464     |1887073     |2019|09/15/2019 04:08:01 PM|41.84604725 |-87.726971115|(41.84604725, -87.726971115) |14                        |21569    |32             |194          |28   |57                    |21              |161         |\n",
            "+--------+-----------+----------------------+---------------------+----+-----------------+---------------------------+--------------------+------+--------+----+--------+----+--------------+--------+------------+------------+----+----------------------+------------+-------------+-----------------------------+--------------------------+---------+---------------+-------------+-----+----------------------+----------------+------------+\n",
            "only showing top 5 rows\n",
            "\n"
          ],
          "name": "stdout"
        }
      ]
    },
    {
      "cell_type": "code",
      "metadata": {
        "id": "74YZy67DMYcT",
        "colab_type": "code",
        "colab": {
          "base_uri": "https://localhost:8080/",
          "height": 51
        },
        "outputId": "48654a0a-16bb-4d70-c92a-c1a262096138"
      },
      "source": [
        "!ls"
      ],
      "execution_count": 39,
      "outputs": [
        {
          "output_type": "stream",
          "text": [
            "reported-crimes.csv  spark-2.3.1-bin-hadoop2.7\t    spark-warehouse\n",
            "sample_data\t     spark-2.3.1-bin-hadoop2.7.tgz\n"
          ],
          "name": "stdout"
        }
      ]
    },
    {
      "cell_type": "code",
      "metadata": {
        "id": "VhjqNETNMYUt",
        "colab_type": "code",
        "colab": {
          "base_uri": "https://localhost:8080/",
          "height": 374
        },
        "outputId": "1c491d1e-1863-418a-ad04-4e38255b9856"
      },
      "source": [
        "!wget police-station.csv https://data.cityofchicago.org/api/views/z8bn-74gv/rows.csv?accessType=DOWNLOAD\n",
        "!ls"
      ],
      "execution_count": 45,
      "outputs": [
        {
          "output_type": "stream",
          "text": [
            "--2019-09-17 13:40:45--  http://police-station.csv/\n",
            "Resolving police-station.csv (police-station.csv)... failed: Name or service not known.\n",
            "wget: unable to resolve host address ‘police-station.csv’\n",
            "--2019-09-17 13:40:45--  https://data.cityofchicago.org/api/views/z8bn-74gv/rows.csv?accessType=DOWNLOAD\n",
            "Resolving data.cityofchicago.org (data.cityofchicago.org)... 52.206.140.199, 52.206.140.205, 52.206.68.26\n",
            "Connecting to data.cityofchicago.org (data.cityofchicago.org)|52.206.140.199|:443... connected.\n",
            "HTTP request sent, awaiting response... 200 OK\n",
            "Length: unspecified [text/csv]\n",
            "Saving to: ‘rows.csv?accessType=DOWNLOAD.1’\n",
            "\n",
            "\r          rows.csv?     [<=>                 ]       0  --.-KB/s               \rrows.csv?accessType     [ <=>                ]   6.14K  --.-KB/s    in 0s      \n",
            "\n",
            "2019-09-17 13:40:46 (773 MB/s) - ‘rows.csv?accessType=DOWNLOAD.1’ saved [6284]\n",
            "\n",
            "FINISHED --2019-09-17 13:40:46--\n",
            "Total wall clock time: 0.5s\n",
            "Downloaded: 1 files, 6.1K in 0s (773 MB/s)\n",
            " reported-crimes.csv\t\t   spark-2.3.1-bin-hadoop2.7\n",
            "'rows.csv?accessType=DOWNLOAD'\t   spark-2.3.1-bin-hadoop2.7.tgz\n",
            "'rows.csv?accessType=DOWNLOAD.1'   spark-warehouse\n",
            " sample_data\n"
          ],
          "name": "stdout"
        }
      ]
    },
    {
      "cell_type": "code",
      "metadata": {
        "id": "0JoYl2JadKyc",
        "colab_type": "code",
        "colab": {}
      },
      "source": [
        "!mv rows.csv\\?accessType\\=DOWNLOAD.1 police-station.csv"
      ],
      "execution_count": 0,
      "outputs": []
    },
    {
      "cell_type": "code",
      "metadata": {
        "id": "BbUtFvk-MYK1",
        "colab_type": "code",
        "colab": {
          "base_uri": "https://localhost:8080/",
          "height": 224
        },
        "outputId": "e8955729-0655-4aed-888f-607ad32c005e"
      },
      "source": [
        "ps = spark.read.csv('police-station.csv', header=True)\n",
        "ps.show(5)"
      ],
      "execution_count": 68,
      "outputs": [
        {
          "output_type": "stream",
          "text": [
            "+------------+--------------+--------------------+-------+-----+-----+--------------------+------------+------------+------------+------------+------------+-----------+------------+--------------------+----------------------+---------------+---------+-------------+-----+---------------------------+\n",
            "|    DISTRICT| DISTRICT NAME|             ADDRESS|   CITY|STATE|  ZIP|             WEBSITE|       PHONE|         FAX|         TTY|X COORDINATE|Y COORDINATE|   LATITUDE|   LONGITUDE|            LOCATION|Boundaries - ZIP Codes|Community Areas|Zip Codes|Census Tracts|Wards|:@computed_region_awaf_s7ux|\n",
            "+------------+--------------+--------------------+-------+-----+-----+--------------------+------------+------------+------------+------------+------------+-----------+------------+--------------------+----------------------+---------------+---------+-------------+-----+---------------------------+\n",
            "|           1|       Central|     1718 S State St|Chicago|   IL|60616|http://home.chica...|312-745-4290|312-745-3694|312-745-3693| 1176569.052| 1891771.704|41.85837259|-87.62735617|(41.8583725929, -...|                    40|             34|    21194|          330|    9|                         12|\n",
            "|           6|       Gresham|   7808 S Halsted St|Chicago|   IL|60620|http://home.chica...|312-745-3617|312-745-3649|312-745-3639| 1172283.013| 1853022.646|41.75213684|-87.64422891|(41.7521368378, -...|                    59|             70|    21554|          487|   31|                         17|\n",
            "|          11|      Harrison|  3151 W Harrison St|Chicago|   IL|60612|http://home.chica...|312-746-8386|312-746-4281|312-746-5151| 1155244.069| 1897148.755|41.87358229|-87.70548813|(41.8735822883, -...|                    28|             28|    21184|           36|   14|                         36|\n",
            "|          16|Jefferson Park|5151 N Milwaukee Ave|Chicago|   IL|60630|http://home.chica...|312-742-4480|312-742-4421|312-742-4423| 1138480.758| 1933660.473|41.97409445|-87.76614884|(41.9740944511, -...|                    48|             11|    21869|          780|   50|                         20|\n",
            "|Headquarters|  Headquarters| 3510 S Michigan Ave|Chicago|   IL|60653|http://home.chica...|        null|        null|        null| 1177731.401| 1881697.404|41.83070169|-87.62339535|(41.8307016873, -...|                    36|              1|     4301|          446|    9|                         12|\n",
            "+------------+--------------+--------------------+-------+-----+-----+--------------------+------------+------------+------------+------------+------------+-----------+------------+--------------------+----------------------+---------------+---------+-------------+-----+---------------------------+\n",
            "only showing top 5 rows\n",
            "\n"
          ],
          "name": "stdout"
        }
      ]
    },
    {
      "cell_type": "code",
      "metadata": {
        "id": "WSf0uGCKMX9j",
        "colab_type": "code",
        "colab": {
          "base_uri": "https://localhost:8080/",
          "height": 34
        },
        "outputId": "ff9490c4-31e2-4651-d53a-9609d0acb74f"
      },
      "source": [
        "rc.cache\n",
        "rc.count()"
      ],
      "execution_count": 69,
      "outputs": [
        {
          "output_type": "execute_result",
          "data": {
            "text/plain": [
              "6751244"
            ]
          },
          "metadata": {
            "tags": []
          },
          "execution_count": 69
        }
      ]
    },
    {
      "cell_type": "code",
      "metadata": {
        "id": "2iv_B7XXfRjv",
        "colab_type": "code",
        "colab": {
          "base_uri": "https://localhost:8080/",
          "height": 459
        },
        "outputId": "18c03a4c-83f9-465d-89d8-69cbd107e58f"
      },
      "source": [
        "ps.select(col('DISTRICT')).distinct().show()"
      ],
      "execution_count": 53,
      "outputs": [
        {
          "output_type": "stream",
          "text": [
            "+------------+\n",
            "|    DISTRICT|\n",
            "+------------+\n",
            "|           7|\n",
            "|          15|\n",
            "|          11|\n",
            "|           3|\n",
            "|           8|\n",
            "|          22|\n",
            "|          16|\n",
            "|           5|\n",
            "|          18|\n",
            "|          17|\n",
            "|           6|\n",
            "|          19|\n",
            "|          25|\n",
            "|Headquarters|\n",
            "|          24|\n",
            "|           9|\n",
            "|           1|\n",
            "|          20|\n",
            "|          10|\n",
            "|           4|\n",
            "+------------+\n",
            "only showing top 20 rows\n",
            "\n"
          ],
          "name": "stdout"
        }
      ]
    },
    {
      "cell_type": "code",
      "metadata": {
        "id": "fs8I3sKxfRXq",
        "colab_type": "code",
        "colab": {
          "base_uri": "https://localhost:8080/",
          "height": 527
        },
        "outputId": "e5a63878-558e-48fc-e5b3-ad6025cbadca"
      },
      "source": [
        "rc.select(col('district')).distinct().show(30)"
      ],
      "execution_count": 54,
      "outputs": [
        {
          "output_type": "stream",
          "text": [
            "+--------+\n",
            "|district|\n",
            "+--------+\n",
            "|     009|\n",
            "|     012|\n",
            "|     024|\n",
            "|    null|\n",
            "|     031|\n",
            "|     015|\n",
            "|     006|\n",
            "|     019|\n",
            "|     020|\n",
            "|     011|\n",
            "|     025|\n",
            "|     005|\n",
            "|     003|\n",
            "|     016|\n",
            "|     018|\n",
            "|     008|\n",
            "|     022|\n",
            "|     001|\n",
            "|     014|\n",
            "|     010|\n",
            "|     004|\n",
            "|     017|\n",
            "|     007|\n",
            "|     021|\n",
            "|     002|\n",
            "+--------+\n",
            "\n"
          ],
          "name": "stdout"
        }
      ]
    },
    {
      "cell_type": "code",
      "metadata": {
        "id": "1MxpklOKgsvu",
        "colab_type": "code",
        "colab": {
          "base_uri": "https://localhost:8080/",
          "height": 204
        },
        "outputId": "f4157aa3-5c1f-4cd8-d6fa-186b018ebe64"
      },
      "source": [
        "from pyspark.sql.functions import lpad\n",
        "ps.select(lpad(col('DISTRICT'),3,'0')).show(5)"
      ],
      "execution_count": 70,
      "outputs": [
        {
          "output_type": "stream",
          "text": [
            "+--------------------+\n",
            "|lpad(DISTRICT, 3, 0)|\n",
            "+--------------------+\n",
            "|                 001|\n",
            "|                 006|\n",
            "|                 011|\n",
            "|                 016|\n",
            "|                 Hea|\n",
            "+--------------------+\n",
            "only showing top 5 rows\n",
            "\n"
          ],
          "name": "stdout"
        }
      ]
    },
    {
      "cell_type": "code",
      "metadata": {
        "id": "rxp-Vd4MowrY",
        "colab_type": "code",
        "colab": {}
      },
      "source": [
        "ps = ps.withColumn('format_district', lpad(col('DISTRICT'),3,'0'))"
      ],
      "execution_count": 0,
      "outputs": []
    },
    {
      "cell_type": "code",
      "metadata": {
        "id": "Gym8un85qju_",
        "colab_type": "code",
        "colab": {
          "base_uri": "https://localhost:8080/",
          "height": 207
        },
        "outputId": "52e6a811-239c-4eca-eca3-99badb43c7be"
      },
      "source": [
        "rc.join(ps, rc.District == ps.format_district, 'left_outer').show(4)"
      ],
      "execution_count": 72,
      "outputs": [
        {
          "output_type": "stream",
          "text": [
            "+--------+-----------+-------------------+--------------------+----+-------------------+--------------+--------------------+------+--------+----+--------+----+--------------+--------+------------+------------+----+--------------------+------------+-------------+--------------------+--------------------------+---------+---------------+-------------+-----+----------------------+----------------+------------+--------+-------------+-----------------+-------+-----+-----+--------------------+------------+------------+------------+------------+------------+-----------+------------+--------------------+----------------------+---------------+---------+-------------+-----+---------------------------+---------------+\n",
            "|      ID|Case Number|               Date|               Block|IUCR|       Primary Type|   Description|Location Description|Arrest|Domestic|Beat|District|Ward|Community Area|FBI Code|X Coordinate|Y Coordinate|Year|          Updated On|    Latitude|    Longitude|            Location|Historical Wards 2003-2015|Zip Codes|Community Areas|Census Tracts|Wards|Boundaries - ZIP Codes|Police Districts|Police Beats|DISTRICT|DISTRICT NAME|          ADDRESS|   CITY|STATE|  ZIP|             WEBSITE|       PHONE|         FAX|         TTY|X COORDINATE|Y COORDINATE|   LATITUDE|   LONGITUDE|            LOCATION|Boundaries - ZIP Codes|Community Areas|Zip Codes|Census Tracts|Wards|:@computed_region_awaf_s7ux|format_district|\n",
            "+--------+-----------+-------------------+--------------------+----+-------------------+--------------+--------------------+------+--------+----+--------+----+--------------+--------+------------+------------+----+--------------------+------------+-------------+--------------------+--------------------------+---------+---------------+-------------+-----+----------------------+----------------+------------+--------+-------------+-----------------+-------+-----+-----+--------------------+------------+------------+------------+------------+------------+-----------+------------+--------------------+----------------------+---------------+---------+-------------+-----+---------------------------+---------------+\n",
            "|11504330|   JB512058|2018-11-10 23:55:00|021XX W GREENLEAF...|0820|              THEFT|$500 AND UNDER|              STREET| false|   false|2411|     024|  50|             2|      06|     1160583|     1946926|2018|11/17/2018 04:14:...|42.010065214|-87.684502849|(42.010065214, -8...|                        42|    22528|             20|          268|   27|                    12|              11|          35|      24|  Rogers Park|  6464 N Clark St|Chicago|   IL|60626|http://home.chica...|312-744-5907|312-744-6928|312-744-7603| 1164193.588| 1943199.401|41.99976348|-87.67132429|(41.9997634842, -...|                     9|             10|    21853|          242|   24|                         46|            024|\n",
            "|11503920|   JB511504|2018-11-10 23:53:00|081XX S HERMITAGE...|0910|MOTOR VEHICLE THEFT|    AUTOMOBILE|           APARTMENT| false|   false|0614|     006|  21|            71|      07|     1166095|     1850727|2018|11/17/2018 04:14:...|41.745971025|-87.666970419|(41.745971025, -8...|                         6|    21554|             70|          574|   13|                    59|              20|         237|       6|      Gresham|7808 S Halsted St|Chicago|   IL|60620|http://home.chica...|312-745-3617|312-745-3649|312-745-3639| 1172283.013| 1853022.646|41.75213684|-87.64422891|(41.7521368378, -...|                    59|             70|    21554|          487|   31|                         17|            006|\n",
            "|11504110|   JB511795|2018-11-10 23:50:00|   013XX S TRIPP AVE|1320|    CRIMINAL DAMAGE|    TO VEHICLE|VEHICLE NON-COMME...| false|   false|1011|     010|  24|            29|      14|     1148267|     1893365|2018|11/17/2018 04:14:...|  41.8633364|-87.731202138|(41.8633364, -87....|                        36|    21569|             30|          761|   14|                    57|              21|         155|      10|        Ogden| 3315 W Ogden Ave|Chicago|   IL|60623|http://home.chica...|312-747-7511|312-747-7429|312-747-7471| 1154500.753| 1890985.501|41.85668453|-87.70838196|(41.8566845327, -...|                    57|             30|    21569|          202|   14|                         36|            010|\n",
            "|11503924|   JB511536|2018-11-10 23:45:00|  083XX S RHODES AVE|1310|    CRIMINAL DAMAGE|   TO PROPERTY|           RESIDENCE| false|    true|0632|     006|   6|            44|      14|     1181251|     1849759|2018|11/17/2018 04:14:...|41.742979225| -87.61146577|(41.742979225, -8...|                        31|    21546|             40|          140|   32|                    61|              20|         241|       6|      Gresham|7808 S Halsted St|Chicago|   IL|60620|http://home.chica...|312-745-3617|312-745-3649|312-745-3639| 1172283.013| 1853022.646|41.75213684|-87.64422891|(41.7521368378, -...|                    59|             70|    21554|          487|   31|                         17|            006|\n",
            "+--------+-----------+-------------------+--------------------+----+-------------------+--------------+--------------------+------+--------+----+--------+----+--------------+--------+------------+------------+----+--------------------+------------+-------------+--------------------+--------------------------+---------+---------------+-------------+-----+----------------------+----------------+------------+--------+-------------+-----------------+-------+-----+-----+--------------------+------------+------------+------------+------------+------------+-----------+------------+--------------------+----------------------+---------------+---------+-------------+-----+---------------------------+---------------+\n",
            "only showing top 4 rows\n",
            "\n"
          ],
          "name": "stdout"
        }
      ]
    },
    {
      "cell_type": "code",
      "metadata": {
        "id": "NLVsHaxJuL7z",
        "colab_type": "code",
        "colab": {
          "base_uri": "https://localhost:8080/",
          "height": 391
        },
        "outputId": "68be6d2a-b192-40b3-a60a-7d5c8aaaee0c"
      },
      "source": [
        "ps.columns"
      ],
      "execution_count": 74,
      "outputs": [
        {
          "output_type": "execute_result",
          "data": {
            "text/plain": [
              "['DISTRICT',\n",
              " 'DISTRICT NAME',\n",
              " 'ADDRESS',\n",
              " 'CITY',\n",
              " 'STATE',\n",
              " 'ZIP',\n",
              " 'WEBSITE',\n",
              " 'PHONE',\n",
              " 'FAX',\n",
              " 'TTY',\n",
              " 'X COORDINATE',\n",
              " 'Y COORDINATE',\n",
              " 'LATITUDE',\n",
              " 'LONGITUDE',\n",
              " 'LOCATION',\n",
              " 'Boundaries - ZIP Codes',\n",
              " 'Community Areas',\n",
              " 'Zip Codes',\n",
              " 'Census Tracts',\n",
              " 'Wards',\n",
              " ':@computed_region_awaf_s7ux',\n",
              " 'format_district']"
            ]
          },
          "metadata": {
            "tags": []
          },
          "execution_count": 74
        }
      ]
    },
    {
      "cell_type": "code",
      "metadata": {
        "id": "eKq_Yz8csmKR",
        "colab_type": "code",
        "colab": {
          "base_uri": "https://localhost:8080/",
          "height": 309
        },
        "outputId": "b18d4ca3-35b2-416e-e585-f3fb1fc6176e"
      },
      "source": [
        "rc.join(ps, rc.District == ps.format_district, 'left_outer').drop(\n",
        " 'ADDRESS',\n",
        " 'CITY',\n",
        " 'STATE',\n",
        " 'ZIP',\n",
        " 'WEBSITE',\n",
        " 'PHONE',\n",
        " 'FAX',\n",
        " 'TTY',\n",
        " 'X COORDINATE',\n",
        " 'Y COORDINATE',\n",
        " 'LATITUDE',\n",
        " 'LONGITUDE',\n",
        " 'LOCATION',\n",
        " 'Boundaries - ZIP Codes',\n",
        " 'Community Areas',\n",
        " 'Zip Codes',\n",
        " 'Census Tracts',\n",
        " 'Wards',\n",
        " ':@computed_region_awaf_s7ux').show(10)"
      ],
      "execution_count": 75,
      "outputs": [
        {
          "output_type": "stream",
          "text": [
            "+--------+-----------+-------------------+--------------------+----+-------------------+--------------------+--------------------+------+--------+----+--------+----+--------------+--------+----+--------------------+--------------------------+----------------+------------+--------+-------------+---------------+\n",
            "|      ID|Case Number|               Date|               Block|IUCR|       Primary Type|         Description|Location Description|Arrest|Domestic|Beat|District|Ward|Community Area|FBI Code|Year|          Updated On|Historical Wards 2003-2015|Police Districts|Police Beats|DISTRICT|DISTRICT NAME|format_district|\n",
            "+--------+-----------+-------------------+--------------------+----+-------------------+--------------------+--------------------+------+--------+----+--------+----+--------------+--------+----+--------------------+--------------------------+----------------+------------+--------+-------------+---------------+\n",
            "|11504330|   JB512058|2018-11-10 23:55:00|021XX W GREENLEAF...|0820|              THEFT|      $500 AND UNDER|              STREET| false|   false|2411|     024|  50|             2|      06|2018|11/17/2018 04:14:...|                        42|              11|          35|      24|  Rogers Park|            024|\n",
            "|11503920|   JB511504|2018-11-10 23:53:00|081XX S HERMITAGE...|0910|MOTOR VEHICLE THEFT|          AUTOMOBILE|           APARTMENT| false|   false|0614|     006|  21|            71|      07|2018|11/17/2018 04:14:...|                         6|              20|         237|       6|      Gresham|            006|\n",
            "|11504110|   JB511795|2018-11-10 23:50:00|   013XX S TRIPP AVE|1320|    CRIMINAL DAMAGE|          TO VEHICLE|VEHICLE NON-COMME...| false|   false|1011|     010|  24|            29|      14|2018|11/17/2018 04:14:...|                        36|              21|         155|      10|        Ogden|            010|\n",
            "|11503924|   JB511536|2018-11-10 23:45:00|  083XX S RHODES AVE|1310|    CRIMINAL DAMAGE|         TO PROPERTY|           RESIDENCE| false|    true|0632|     006|   6|            44|      14|2018|11/17/2018 04:14:...|                        31|              20|         241|       6|      Gresham|            006|\n",
            "|11503921|   JB511539|2018-11-10 23:42:00|    055XX S GREEN ST|0580|           STALKING|              SIMPLE|           RESIDENCE| false|    true|0712|     007|  20|            68|     08A|2018|11/17/2018 04:14:...|                        53|              17|         261|       7|    Englewood|            007|\n",
            "|11503919|   JB511511|2018-11-10 23:41:00|  054XX S HARLEM AVE|0460|            BATTERY|              SIMPLE|              STREET| false|   false|0811|     008|  23|            56|     08B|2018|11/17/2018 04:14:...|                      null|            null|        null|       8| Chicago Lawn|            008|\n",
            "|11503929|   JB511512|2018-11-10 23:35:00|  080XX S COLFAX AVE|0460|            BATTERY|              SIMPLE|           APARTMENT| false|   false|0422|     004|   7|            46|     08B|2018|11/17/2018 04:14:...|                        43|              19|         234|       4|South Chicago|            004|\n",
            "|11503967|   JB511500|2018-11-10 23:35:00| 029XX N ASHLAND AVE|0860|              THEFT|        RETAIL THEFT|  GROCERY FOOD STORE|  true|   false|1931|     019|  32|             6|      06|2018|11/17/2018 04:14:...|                        16|               5|         173|      19|    Town Hall|            019|\n",
            "|11503933|   JB511494|2018-11-10 23:35:00|017XX N MC VICKER...|0486|            BATTERY|DOMESTIC BATTERY ...|           APARTMENT|  true|    true|2513|     025|  29|            25|     08B|2018|11/17/2018 04:14:...|                        52|               6|         196|      25|Grand Central|            025|\n",
            "|11503877|   JB511486|2018-11-10 23:33:00|  019XX N CICERO AVE|051A|            ASSAULT| AGGRAVATED: HANDGUN|               ALLEY| false|   false|2533|     025|  36|            19|     04A|2018|11/17/2018 04:14:...|                         7|               6|         195|      25|Grand Central|            025|\n",
            "+--------+-----------+-------------------+--------------------+----+-------------------+--------------------+--------------------+------+--------+----+--------+----+--------------+--------+----+--------------------+--------------------------+----------------+------------+--------+-------------+---------------+\n",
            "only showing top 10 rows\n",
            "\n"
          ],
          "name": "stdout"
        }
      ]
    },
    {
      "cell_type": "code",
      "metadata": {
        "id": "JPIwr1Vewsjj",
        "colab_type": "code",
        "colab": {
          "base_uri": "https://localhost:8080/",
          "height": 34
        },
        "outputId": "d44b0135-fefe-4194-8e5b-9d1f6e91f123"
      },
      "source": [
        "rc.cache()\n",
        "rc.count()"
      ],
      "execution_count": 76,
      "outputs": [
        {
          "output_type": "execute_result",
          "data": {
            "text/plain": [
              "6751244"
            ]
          },
          "metadata": {
            "tags": []
          },
          "execution_count": 76
        }
      ]
    },
    {
      "cell_type": "code",
      "metadata": {
        "id": "Jp8WZNjUwxrg",
        "colab_type": "code",
        "colab": {
          "base_uri": "https://localhost:8080/",
          "height": 479
        },
        "outputId": "190f29fc-1fd2-4b95-8d8a-a66175aa7e12"
      },
      "source": [
        "rc.show()"
      ],
      "execution_count": 77,
      "outputs": [
        {
          "output_type": "stream",
          "text": [
            "+--------+-----------+-------------------+--------------------+----+--------------------+--------------------+--------------------+------+--------+----+--------+----+--------------+--------+------------+------------+----+--------------------+------------+-------------+--------------------+--------------------------+---------+---------------+-------------+-----+----------------------+----------------+------------+\n",
            "|      ID|Case Number|               Date|               Block|IUCR|        Primary Type|         Description|Location Description|Arrest|Domestic|Beat|District|Ward|Community Area|FBI Code|X Coordinate|Y Coordinate|Year|          Updated On|    Latitude|    Longitude|            Location|Historical Wards 2003-2015|Zip Codes|Community Areas|Census Tracts|Wards|Boundaries - ZIP Codes|Police Districts|Police Beats|\n",
            "+--------+-----------+-------------------+--------------------+----+--------------------+--------------------+--------------------+------+--------+----+--------+----+--------------+--------+------------+------------+----+--------------------+------------+-------------+--------------------+--------------------------+---------+---------------+-------------+-----+----------------------+----------------+------------+\n",
            "|11504330|   JB512058|2018-11-10 23:55:00|021XX W GREENLEAF...|0820|               THEFT|      $500 AND UNDER|              STREET| false|   false|2411|     024|  50|             2|      06|     1160583|     1946926|2018|11/17/2018 04:14:...|42.010065214|-87.684502849|(42.010065214, -8...|                        42|    22528|             20|          268|   27|                    12|              11|          35|\n",
            "|11503920|   JB511504|2018-11-10 23:53:00|081XX S HERMITAGE...|0910| MOTOR VEHICLE THEFT|          AUTOMOBILE|           APARTMENT| false|   false|0614|     006|  21|            71|      07|     1166095|     1850727|2018|11/17/2018 04:14:...|41.745971025|-87.666970419|(41.745971025, -8...|                         6|    21554|             70|          574|   13|                    59|              20|         237|\n",
            "|11504110|   JB511795|2018-11-10 23:50:00|   013XX S TRIPP AVE|1320|     CRIMINAL DAMAGE|          TO VEHICLE|VEHICLE NON-COMME...| false|   false|1011|     010|  24|            29|      14|     1148267|     1893365|2018|11/17/2018 04:14:...|  41.8633364|-87.731202138|(41.8633364, -87....|                        36|    21569|             30|          761|   14|                    57|              21|         155|\n",
            "|11503924|   JB511536|2018-11-10 23:45:00|  083XX S RHODES AVE|1310|     CRIMINAL DAMAGE|         TO PROPERTY|           RESIDENCE| false|    true|0632|     006|   6|            44|      14|     1181251|     1849759|2018|11/17/2018 04:14:...|41.742979225| -87.61146577|(41.742979225, -8...|                        31|    21546|             40|          140|   32|                    61|              20|         241|\n",
            "|11503921|   JB511539|2018-11-10 23:42:00|    055XX S GREEN ST|0580|            STALKING|              SIMPLE|           RESIDENCE| false|    true|0712|     007|  20|            68|     08A|     1171583|     1868046|2018|11/17/2018 04:14:...|41.793378076|-87.646354376|(41.793378076, -8...|                        53|    21559|             66|          113|    4|                    11|              17|         261|\n",
            "|11503919|   JB511511|2018-11-10 23:41:00|  054XX S HARLEM AVE|0460|             BATTERY|              SIMPLE|              STREET| false|   false|0811|     008|  23|            56|     08B|     1129262|     1867538|2018|11/17/2018 04:14:...|41.792807252|-87.801556137|(41.792807252, -8...|                      null|     2733|           null|         null| null|                  null|            null|        null|\n",
            "|11503929|   JB511512|2018-11-10 23:35:00|  080XX S COLFAX AVE|0460|             BATTERY|              SIMPLE|           APARTMENT| false|   false|0422|     004|   7|            46|     08B|     1194916|     1851891|2018|11/17/2018 04:14:...|41.748504135|-87.561327486|(41.748504135, -8...|                        43|    21202|             42|          244|   37|                    25|              19|         234|\n",
            "|11503967|   JB511500|2018-11-10 23:35:00| 029XX N ASHLAND AVE|0860|               THEFT|        RETAIL THEFT|  GROCERY FOOD STORE|  true|   false|1931|     019|  32|             6|      06|     1165142|     1919763|2018|11/17/2018 04:14:...|41.935432921|-87.668504341|(41.935432921, -8...|                        16|     4449|             57|          712|   40|                    22|               5|         173|\n",
            "|11503933|   JB511494|2018-11-10 23:35:00|017XX N MC VICKER...|0486|             BATTERY|DOMESTIC BATTERY ...|           APARTMENT|  true|    true|2513|     025|  29|            25|     08B|     1135806|     1911004|2018|11/17/2018 04:14:...|41.911970869|-87.776526021|(41.911970869, -8...|                        52|    22615|             26|          597|    7|                     2|               6|         196|\n",
            "|11503877|   JB511486|2018-11-10 23:33:00|  019XX N CICERO AVE|051A|             ASSAULT| AGGRAVATED: HANDGUN|               ALLEY| false|   false|2533|     025|  36|            19|     04A|     1144092|     1912382|2018|11/17/2018 04:14:...|41.915600603|-87.746050613|(41.915600603, -8...|                         7|    22615|             19|          306|   44|                     2|               6|         195|\n",
            "|11512112|   JB522393|2018-11-10 23:30:00| 026XX S MILLARD AVE|1562|         SEX OFFENSE|AGG CRIMINAL SEXU...|           RESIDENCE| false|   false|1032|     010|  22|            30|      17|     1152462|     1886281|2018|11/22/2018 04:00:...|41.843815291|-87.715989472|(41.843815291, -8...|                        14|    21569|             32|          227|   28|                    57|              21|         166|\n",
            "|11503943|   JB511593|2018-11-10 23:30:00|     036XX W 86TH ST|3730|INTERFERENCE WITH...| OBSTRUCTING JUSTICE|            SIDEWALK|  true|   false|0834|     008|  18|            70|      24|     1153679|     1847306|2018|11/17/2018 04:14:...|41.736838061|-87.712556057|(41.736838061, -8...|                         6|     4300|             69|          198|   30|                     8|              13|         232|\n",
            "|11503878|   JB511518|2018-11-10 23:29:00|052XX W KAMERLING...|0820|               THEFT|      $500 AND UNDER|           RESIDENCE| false|   false|2532|     025|  37|            25|      06|     1140983|     1908479|2018|11/17/2018 04:14:...|41.904948184|-87.757569223|(41.904948184, -8...|                         4|     4299|             26|          599|   45|                     5|               6|         145|\n",
            "|11503894|   JB511509|2018-11-10 23:26:00|045XX S DR MARTIN...|1310|     CRIMINAL DAMAGE|         TO PROPERTY|           APARTMENT| false|   false|0215|     002|   3|            38|      14|     1179625|     1874840|2018|11/17/2018 04:14:...|41.811841277|-87.616657577|(41.811841277, -8...|                        12|     4301|              4|          162|    9|                    36|              24|          98|\n",
            "|11504134|   JB511545|2018-11-10 23:25:00|  061XX S KEDZIE AVE|0486|             BATTERY|DOMESTIC BATTERY ...|           APARTMENT| false|    true|0823|     008|  16|            66|     08B|     1156102|     1863920|2018|11/17/2018 04:14:...| 41.78238119|-87.703233008|(41.78238119, -87...|                        44|    21867|             64|          183|    2|                    58|              13|         276|\n",
            "|11503874|   JB511483|2018-11-10 23:20:00|   071XX S HONORE ST|0820|               THEFT|      $500 AND UNDER|              STREET| false|    true|0735|     007|  17|            67|      06|     1165255|     1857291|2018|11/17/2018 04:14:...|41.764001379|-87.669862878|(41.764001379, -8...|                        17|    22257|             65|          433|   31|                    23|              17|           7|\n",
            "|11503892|   JB511493|2018-11-10 23:20:00|    055XX S GREEN ST|1310|     CRIMINAL DAMAGE|         TO PROPERTY|           APARTMENT| false|   false|0712|     007|  20|            68|      14|     1171583|     1868046|2018|11/17/2018 04:14:...|41.793378076|-87.646354376|(41.793378076, -8...|                        53|    21559|             66|          113|    4|                    11|              17|         261|\n",
            "|11503869|   JB511482|2018-11-10 23:20:00| 032XX S ASHLAND AVE|1320|     CRIMINAL DAMAGE|          TO VEHICLE|              STREET| false|   false|0912|     009|  12|            59|      14|     1166201|     1883011|2018|11/17/2018 04:14:...| 41.83456002|-87.665663328|(41.83456002, -87...|                        26|    14920|             56|          192|    1|                    43|              23|         165|\n",
            "|11503954|   JB511489|2018-11-10 23:19:00|  019XX N PULASKI RD|0486|             BATTERY|DOMESTIC BATTERY ...|           APARTMENT|  true|    true|2535|     025|  26|            20|     08B|     1149405|     1912559|2018|11/17/2018 04:14:...|41.915984814|-87.726526318|(41.915984814, -8...|                        27|    22535|             21|          135|   12|                     2|               6|         194|\n",
            "|11503871|   JB511485|2018-11-10 23:15:00|   020XX W NORTH AVE|2826|       OTHER OFFENSE|HARASSMENT BY ELE...|       BAR OR TAVERN| false|    true|1424|     014|   1|            24|      26|     1162408|     1910641|2018|11/17/2018 04:14:...|41.910459292|-87.678807803|(41.910459292, -8...|                        24|    21560|             25|          481|   41|                     4|               7|         200|\n",
            "+--------+-----------+-------------------+--------------------+----+--------------------+--------------------+--------------------+------+--------+----+--------+----+--------------+--------+------------+------------+----+--------------------+------------+-------------+--------------------+--------------------------+---------+---------------+-------------+-----+----------------------+----------------+------------+\n",
            "only showing top 20 rows\n",
            "\n"
          ],
          "name": "stdout"
        }
      ]
    },
    {
      "cell_type": "code",
      "metadata": {
        "id": "t6PDT1_awzfn",
        "colab_type": "code",
        "colab": {
          "base_uri": "https://localhost:8080/",
          "height": 34
        },
        "outputId": "f511e888-0352-4ac9-8d19-6eaede34abec"
      },
      "source": [
        "rc.select(col('Primary Type')).distinct().count()"
      ],
      "execution_count": 79,
      "outputs": [
        {
          "output_type": "execute_result",
          "data": {
            "text/plain": [
              "35"
            ]
          },
          "metadata": {
            "tags": []
          },
          "execution_count": 79
        }
      ]
    },
    {
      "cell_type": "code",
      "metadata": {
        "colab_type": "code",
        "id": "hfBz8qOCxDzD",
        "colab": {
          "base_uri": "https://localhost:8080/",
          "height": 697
        },
        "outputId": "a80c6e07-6473-41f8-c616-1ef7218bb229"
      },
      "source": [
        "rc.select(col('Primary Type')).distinct().orderBy(col('Primary Type')).show(35, truncate=False)"
      ],
      "execution_count": 82,
      "outputs": [
        {
          "output_type": "stream",
          "text": [
            "+---------------------------------+\n",
            "|Primary Type                     |\n",
            "+---------------------------------+\n",
            "|ARSON                            |\n",
            "|ASSAULT                          |\n",
            "|BATTERY                          |\n",
            "|BURGLARY                         |\n",
            "|CONCEALED CARRY LICENSE VIOLATION|\n",
            "|CRIM SEXUAL ASSAULT              |\n",
            "|CRIMINAL DAMAGE                  |\n",
            "|CRIMINAL TRESPASS                |\n",
            "|DECEPTIVE PRACTICE               |\n",
            "|DOMESTIC VIOLENCE                |\n",
            "|GAMBLING                         |\n",
            "|HOMICIDE                         |\n",
            "|HUMAN TRAFFICKING                |\n",
            "|INTERFERENCE WITH PUBLIC OFFICER |\n",
            "|INTIMIDATION                     |\n",
            "|KIDNAPPING                       |\n",
            "|LIQUOR LAW VIOLATION             |\n",
            "|MOTOR VEHICLE THEFT              |\n",
            "|NARCOTICS                        |\n",
            "|NON - CRIMINAL                   |\n",
            "|NON-CRIMINAL                     |\n",
            "|NON-CRIMINAL (SUBJECT SPECIFIED) |\n",
            "|OBSCENITY                        |\n",
            "|OFFENSE INVOLVING CHILDREN       |\n",
            "|OTHER NARCOTIC VIOLATION         |\n",
            "|OTHER OFFENSE                    |\n",
            "|PROSTITUTION                     |\n",
            "|PUBLIC INDECENCY                 |\n",
            "|PUBLIC PEACE VIOLATION           |\n",
            "|RITUALISM                        |\n",
            "|ROBBERY                          |\n",
            "|SEX OFFENSE                      |\n",
            "|STALKING                         |\n",
            "|THEFT                            |\n",
            "|WEAPONS VIOLATION                |\n",
            "+---------------------------------+\n",
            "\n"
          ],
          "name": "stdout"
        }
      ]
    },
    {
      "cell_type": "code",
      "metadata": {
        "id": "v474GquF14D7",
        "colab_type": "code",
        "colab": {}
      },
      "source": [
        "nc = rc.filter((col('Primary Type') == 'NON - CRIMINAL') | (col('Primary Type') == 'NON-CRIMINAL') | (col('Primary Type') == '|NON-CRIMINAL (SUBJECT SPECIFIED)'))"
      ],
      "execution_count": 0,
      "outputs": []
    },
    {
      "cell_type": "code",
      "metadata": {
        "id": "gMLUKm0-2eG4",
        "colab_type": "code",
        "colab": {
          "base_uri": "https://localhost:8080/",
          "height": 734
        },
        "outputId": "4908fa6e-3e55-48d0-ac91-7bda3fc2c5b1"
      },
      "source": [
        "nc.show(100)"
      ],
      "execution_count": 84,
      "outputs": [
        {
          "output_type": "stream",
          "text": [
            "+--------+-----------+-------------------+--------------------+----+------------+--------------------+--------------------+------+--------+----+--------+----+--------------+--------+------------+------------+----+--------------------+------------+-------------+--------------------+--------------------------+---------+---------------+-------------+-----+----------------------+----------------+------------+\n",
            "|      ID|Case Number|               Date|               Block|IUCR|Primary Type|         Description|Location Description|Arrest|Domestic|Beat|District|Ward|Community Area|FBI Code|X Coordinate|Y Coordinate|Year|          Updated On|    Latitude|    Longitude|            Location|Historical Wards 2003-2015|Zip Codes|Community Areas|Census Tracts|Wards|Boundaries - ZIP Codes|Police Districts|Police Beats|\n",
            "+--------+-----------+-------------------+--------------------+----+------------+--------------------+--------------------+------+--------+----+--------+----+--------------+--------+------------+------------+----+--------------------+------------+-------------+--------------------+--------------------------+---------+---------------+-------------+-----+----------------------+----------------+------------+\n",
            "|11531319|   JB547859|2018-11-05 14:00:00|  030XX N LINDER AVE|5093|NON-CRIMINAL|       LOST PASSPORT|           RESIDENCE| false|   false|2514|     025|  31|            19|      26|     1139171|     1919733|2018|12/13/2018 04:09:...|41.935863587|-87.763950872|(41.935863587, -8...|                         7|    22618|             19|          303|   17|                    21|               6|         177|\n",
            "|11519476|   JB531997|2018-10-22 08:00:00|  058XX N PULASKI RD|5093|NON-CRIMINAL|       LOST PASSPORT|            SIDEWALK| false|   false|1711|     017|  39|            13|      26|     1148682|     1938093|2018|12/01/2018 04:01:...|41.986066128|-87.728520584|(41.986066128, -8...|                        28|    22532|             13|          748|   38|                    18|               1|          53|\n",
            "|11481984|   JB481736|2018-10-19 13:00:00| 0000X W TERMINAL ST|5093|NON-CRIMINAL|       LOST PASSPORT|AIRPORT TERMINAL ...| false|   false|1655|     016|  41|            76|      26|     1104700|     1933741|2018|10/26/2018 04:09:...|41.974861952|-87.890372151|(41.974861952, -8...|                        34|    16197|             75|          668|   29|                    38|              12|          16|\n",
            "|11473294|   JB471086|2018-10-11 06:30:00|  057XX S NATOMA AVE|5114|NON-CRIMINAL|   FOID - REVOCATION|           RESIDENCE| false|   false|0811|     008|  23|            56|      26|     1133037|     1865812|2018|10/18/2018 04:27:...|41.788005878|  -87.7877535|(41.788005878, -8...|                        35|    22268|             53|          589|   15|                     7|              13|         131|\n",
            "|11467852|   JB463876|2018-10-05 16:30:00|015XX W BALMORAL AVE|0585|NON-CRIMINAL|NOTIFICATION OF S...|              STREET| false|   false|2012|     020|  40|            77|      26|     1164980|     1935945|2018|10/12/2018 03:54:...|41.979840482|-87.668638415|(41.979840482, -8...|                        46|    22616|             76|          564|   24|                    15|               2|          55|\n",
            "|11463751|   JB458275|2018-09-25 17:00:00|  008XX W ADDISON ST|5114|NON-CRIMINAL|   FOID - REVOCATION|POLICE FACILITY/V...| false|   false|1923|     019|  44|             6|      26|     1169826|     1924123|2018|10/04/2018 04:10:...|41.947295978|-87.651162974|(41.947295978, -8...|                        38|    21186|             57|          727|   25|                    22|               5|          28|\n",
            "|11457895|   JB450845|2018-09-18 17:00:00| 053XX N CHESTER AVE|5093|NON-CRIMINAL|       LOST PASSPORT|           RESIDENCE| false|   false|1614|     016|  41|            76|      26|     1118635|     1934182|2018|09/28/2018 04:00:...|41.975862946| -87.83911785|(41.975862946, -8...|                        34|     4448|             75|            8|   29|                    31|              12|          44|\n",
            "|11448424|   JB438496|2018-09-16 22:00:00|  064XX W FOSTER AVE|5114|NON-CRIMINAL|   FOID - REVOCATION|           RESIDENCE| false|   false|1613|     016|  41|            10|      26|     1132134|     1934183|2018|09/23/2018 04:00:...|41.975641252|-87.789475845|(41.975641252, -8...|                        34|     4448|             36|          699|   50|                    31|              12|          49|\n",
            "|11457756|   JB450578|2018-09-16 15:00:00|    100XX W OHARE ST|5093|NON-CRIMINAL|       LOST PASSPORT|AIRPORT BUILDING ...| false|   false|1651|     016|  41|            76|      26|     1100658|     1934241|2018|09/28/2018 04:00:...|41.976290414|-87.905227221|(41.976290414, -8...|                        34|    16197|             75|          668|   29|                    38|              12|          24|\n",
            "|11432414|   JB417024|2018-08-31 19:00:00| 086XX S ASHLAND AVE|5114|NON-CRIMINAL|   FOID - REVOCATION|              STREET|  true|   false|0614|     006|  21|            71|      26|     1167180|     1847422|2018|09/07/2018 04:00:...|41.736878502|-87.663089067|(41.736878502, -8...|                        18|    21554|             70|          531|   13|                    59|              20|         237|\n",
            "|11430370|   JB414524|2018-08-29 22:43:00|  036XX N SEELEY AVE|5114|NON-CRIMINAL|   FOID - REVOCATION|    RESIDENCE-GARAGE|  true|   false|1921|     019|  47|             5|      26|     1162039|     1924146|2018|09/05/2018 04:01:...| 41.94752559|-87.679785209|(41.94752559, -87...|                        13|    21538|             46|          613|   18|                    39|               5|          21|\n",
            "|11426456|   JB409368|2018-08-26 11:40:00|     014XX W 63RD ST|5114|NON-CRIMINAL|   FOID - REVOCATION|POLICE FACILITY/V...| false|   false|0713|     007|  16|            67|      26|     1167639|     1862965|2018|09/02/2018 03:59:...|41.779520772|-87.660962362|(41.779520772, -8...|                        19|    22257|             65|          277|    2|                    23|              17|         266|\n",
            "|11387699|   JB359247|2018-07-20 14:00:00|  033XX N LINDER AVE|5093|NON-CRIMINAL|       LOST PASSPORT|           RESIDENCE| false|   false|1633|     016|  38|            15|      26|     1139113|     1921506|2018|07/27/2018 03:56:...|41.940729937|-87.764120764|(41.940729937, -8...|                        25|    22618|             15|          361|   21|                    21|              12|          27|\n",
            "|11452106|   JB443175|2018-07-20 11:00:00|019XX W JACKSON BLVD|0585|NON-CRIMINAL|NOTIFICATION OF S...|               OTHER| false|   false|1225|     012|  27|            28|      26|     1163615|     1898637|2018|10/30/2018 04:11:...|41.877494027|-87.674712257|(41.877494027, -8...|                        48|    21184|             29|           90|   46|                    28|              15|         139|\n",
            "|11376899|   JB345213|2018-07-11 14:00:00| 024XX W BELMONT AVE|5114|NON-CRIMINAL|   FOID - REVOCATION|POLICE FACILITY/V...| false|   false|1921|     019|  47|             5|      26|     1159392|     1921181|2018|07/18/2018 03:56:...|41.939444419|-87.689596768|(41.939444419, -8...|                        13|    21538|             46|          110|   18|                    39|               5|          21|\n",
            "|11360575|   JB323892|2018-06-26 18:00:00|   055XX W GRAND AVE|5114|NON-CRIMINAL|   FOID - REVOCATION|POLICE FACILITY/V...| false|   false|2515|     025|  29|            19|      26|     1138788|     1913480|2018|07/03/2018 03:55:...|41.918711651| -87.76551063|(41.918711651, -8...|                         4|    22615|             19|          307|   44|                     2|               6|         133|\n",
            "|11342251|   JB299548|2018-06-06 00:01:00|     034XX W 63RD ST|5114|NON-CRIMINAL|   FOID - REVOCATION|POLICE FACILITY/V...| false|   false|0823|     008|  15|            66|      26|     1154582|     1862632|2018|06/13/2018 04:15:...|41.778877155|-87.708840106|(41.778877155, -8...|                        44|    21867|             64|          293|    6|                    58|              13|         276|\n",
            "|11325330|   JB277206|2018-05-22 08:00:00|    100XX W OHARE ST|5093|NON-CRIMINAL|       LOST PASSPORT|AIRPORT BUILDING ...| false|   false|1651|     016|  41|            76|      26|     1100658|     1934241|2018|05/29/2018 03:59:...|41.976290414|-87.905227221|(41.976290414, -8...|                        34|    16197|             75|          668|   29|                    38|              12|          24|\n",
            "|11314966|   JB263408|2018-05-14 14:47:00|062XX S PARK SHOR...|0585|NON-CRIMINAL|NOTIFICATION OF S...|            SIDEWALK| false|   false|0314|     003|   5|            42|      26|     1187570|     1863935|2018|05/21/2018 04:00:...|41.781731648|-87.587862886|(41.781731648, -8...|                        32|    22260|              9|          469|   33|                    60|              18|         273|\n",
            "|11298267|   JB241284|2018-04-28 11:45:00|    022XX E 103RD ST|5114|NON-CRIMINAL|   FOID - REVOCATION|POLICE FACILITY/V...| false|   false|0434|     004|  10|            51|      26|     1192874|     1837123|2018|05/05/2018 03:54:...|41.708029389|-87.569290282|(41.708029389, -8...|                        47|    21202|             48|          252|   37|                    25|              19|         249|\n",
            "|11287951|   JB227659|2018-04-17 18:00:00|082XX S CHAMPLAIN...|5114|NON-CRIMINAL|   FOID - REVOCATION|               OTHER| false|   false|0631|     006|   6|            44|      26|     1182000|     1850509|2018|05/04/2018 03:51:...|41.745020034|-87.608698292|(41.745020034, -8...|                        31|    21546|             40|          140|   32|                    61|              20|         235|\n",
            "|11298671|   JB241130|2018-04-04 07:00:00| 0000X W TERMINAL ST|5093|NON-CRIMINAL|       LOST PASSPORT|AIRPORT TERMINAL ...| false|   false|1651|     016|  41|            76|      26|     1100317|     1935229|2018|05/04/2018 03:51:...|41.979006297|-87.906463155|(41.979006297, -8...|                        34|    16197|             75|          668|   29|                    38|              12|           3|\n",
            "|11274830|   JB209875|2018-04-02 10:00:00|  073XX N ROGERS AVE|5093|NON-CRIMINAL|       LOST PASSPORT|           APARTMENT| false|   false|2424|     024|  49|             1|      26|     1161935|     1948381|2018|05/04/2018 03:51:...|42.014029543|-87.679487486|(42.014029543, -8...|                         3|    21853|             10|           52|    5|                     9|              11|          33|\n",
            "|11270186|   JB204010|2018-03-29 13:10:00|019XX W MONTEREY AVE|5114|NON-CRIMINAL|   FOID - REVOCATION|POLICE FACILITY/V...| false|   false|2212|     022|  19|            75|      26|     1165742|     1830843|2018|05/04/2018 03:51:...|41.691413679|-87.668826246|(41.691413679, -8...|                        33|    22212|             74|          378|   42|                    13|               9|         257|\n",
            "|11257575|   JB187599|2018-03-16 01:55:00|002XX W WASHINGTO...|1481|NON-CRIMINAL|CONCEALED CARRY L...|RESIDENCE PORCH/H...| false|   false|0122|     001|  42|            32|      15|     1174598|     1900807|2018|05/04/2018 03:51:...|41.883210285| -87.63432104|(41.883210285, -8...|                        22|    14914|             38|           92|   36|                    46|              22|          79|\n",
            "|11252426|   JB180940|2018-02-24 10:00:00| 0000X W TERMINAL ST|5093|NON-CRIMINAL|       LOST PASSPORT|AIRPORT TERMINAL ...| false|   false|1651|     016|  41|            76|      26|     1100317|     1935229|2018|05/04/2018 03:51:...|41.979006297|-87.906463155|(41.979006297, -8...|                        34|    16197|             75|          668|   29|                    38|              12|           3|\n",
            "|11234787|   JB157767|2018-02-18 17:20:00|    100XX W OHARE ST|5093|NON-CRIMINAL|       LOST PASSPORT|AIRPORT TERMINAL ...| false|   false|1651|     016|  41|            76|      26|     1100658|     1934241|2018|05/04/2018 03:51:...|41.976290414|-87.905227221|(41.976290414, -8...|                        34|    16197|             75|          668|   29|                    38|              12|          24|\n",
            "|11228906|   JB149289|2018-02-12 13:26:00|044XX N WINCHESTE...|5093|NON-CRIMINAL|       LOST PASSPORT|           APARTMENT| false|   false|1912|     019|  47|             4|      26|     1162617|     1929521|2018|05/04/2018 03:51:...|41.962262744|-87.677509433|(41.962262744, -8...|                        13|    22616|              6|          225|   18|                    15|               5|           8|\n",
            "|11226957|   JB146674|2018-01-26 19:00:00|    011XX S CANAL ST|5093|NON-CRIMINAL|       LOST PASSPORT|PARKING LOT/GARAG...| false|   false|0124|     001|   2|            28|      26|     1173303|     1895451|2018|05/04/2018 03:51:...|41.868541914|-87.639235361|(41.868541914, -8...|                        48|    14917|             29|           97|   26|                    44|              22|         147|\n",
            "|11209138|   JB123226|2018-01-20 15:27:00|    022XX E 103RD ST|5114|NON-CRIMINAL|   FOID - REVOCATION|POLICE FACILITY/V...| false|   false|0434|     004|  10|            51|      26|     1192874|     1837123|2018|05/04/2018 03:51:...|41.708029389|-87.569290282|(41.708029389, -8...|                        47|    21202|             48|          252|   37|                    25|              19|         249|\n",
            "|11202998|   JB114635|2018-01-13 08:17:00|    007XX E 111TH ST|5114|NON-CRIMINAL|   FOID - REVOCATION|POLICE FACILITY/V...| false|   false|0531|     005|   9|            50|      26|     1183356|     1831503|2018|05/04/2018 03:51:...|41.692833841| -87.60431945|(41.692833841, -8...|                        30|    21861|             47|          601|   43|                    19|              10|         265|\n",
            "|11194918|   JB103895|2018-01-04 09:50:00|  046XX N PULASKI RD|5114|NON-CRIMINAL|   FOID - REVOCATION|POLICE FACILITY/V...| false|   false|1722|     017|  39|            14|      26|     1148885|     1930759|2018|05/04/2018 03:51:...| 41.96593721|-87.727964573|(41.96593721, -87...|                        28|    21869|             14|          257|   38|                    48|               1|          11|\n",
            "|11186723|   JA553689|2017-12-16 09:00:00| 011XX N LARRABEE ST|5093|NON-CRIMINAL|       LOST PASSPORT|VEHICLE - OTHER R...| false|   false|1822|     018|  27|             8|      26|     1172122|     1908040|2017|05/04/2018 03:51:...|41.903113054|-87.643199348|(41.903113054, -8...|                        41|    14926|             37|          108|   46|                    54|              14|          51|\n",
            "|11208024|   JB121599|2017-12-10 16:00:00|    006XX S CLARK ST|5093|NON-CRIMINAL|       LOST PASSPORT|                BANK| false|   false|0123|     001|   2|            32|      26|     1175620|     1897544|2017|02/10/2018 03:50:...|41.874233514|-87.630666333|(41.874233514, -8...|                        48|    14913|             38|           12|   10|                    35|              22|         144|\n",
            "|11165948|   JA533600|2017-11-30 04:25:00|    100XX W OHARE ST|5093|NON-CRIMINAL|       LOST PASSPORT|AIRPORT TERMINAL ...| false|   false|1651|     016|  41|            76|      26|     1100658|     1934241|2017|02/10/2018 03:50:...|41.976290414|-87.905227221|(41.976290414, -8...|                        34|    16197|             75|          668|   29|                    38|              12|          24|\n",
            "+--------+-----------+-------------------+--------------------+----+------------+--------------------+--------------------+------+--------+----+--------+----+--------------+--------+------------+------------+----+--------------------+------------+-------------+--------------------+--------------------------+---------+---------------+-------------+-----+----------------------+----------------+------------+\n",
            "only showing top 35 rows\n",
            "\n"
          ],
          "name": "stdout"
        }
      ]
    },
    {
      "cell_type": "code",
      "metadata": {
        "id": "0m_Q91Tf2iEm",
        "colab_type": "code",
        "colab": {
          "base_uri": "https://localhost:8080/",
          "height": 204
        },
        "outputId": "58b12010-5943-49e0-ec6b-84dc835634a8"
      },
      "source": [
        "nc.groupby(col('Description')).count().orderBy('count', ascending=False).show(truncate=False)"
      ],
      "execution_count": 85,
      "outputs": [
        {
          "output_type": "stream",
          "text": [
            "+-------------------------------------------+-----+\n",
            "|Description                                |count|\n",
            "+-------------------------------------------+-----+\n",
            "|LOST PASSPORT                              |107  |\n",
            "|FOID - REVOCATION                          |75   |\n",
            "|NOTIFICATION OF STALKING - NO CONTACT ORDER|8    |\n",
            "|CONCEALED CARRY LICENSE REVOCATION         |5    |\n",
            "|FOUND PASSPORT                             |4    |\n",
            "|GUN OFFENDER NOTIFICATION-NO CONTACT       |3    |\n",
            "+-------------------------------------------+-----+\n",
            "\n"
          ],
          "name": "stdout"
        }
      ]
    },
    {
      "cell_type": "code",
      "metadata": {
        "id": "IIuPJ_gp26Xi",
        "colab_type": "code",
        "colab": {}
      },
      "source": [
        "from pyspark.sql.functions import dayofweek\n",
        "from pyspark.sql.functions import date_format"
      ],
      "execution_count": 0,
      "outputs": []
    },
    {
      "cell_type": "code",
      "metadata": {
        "id": "3tuG5WvZ3GHZ",
        "colab_type": "code",
        "colab": {
          "base_uri": "https://localhost:8080/",
          "height": 204
        },
        "outputId": "c1a55681-9f2d-4aef-f58f-9b0851075181"
      },
      "source": [
        "rc.select(col('Date'), dayofweek(col('Date'))).show(5)"
      ],
      "execution_count": 87,
      "outputs": [
        {
          "output_type": "stream",
          "text": [
            "+-------------------+---------------+\n",
            "|               Date|dayofweek(Date)|\n",
            "+-------------------+---------------+\n",
            "|2018-11-10 23:55:00|              7|\n",
            "|2018-11-10 23:53:00|              7|\n",
            "|2018-11-10 23:50:00|              7|\n",
            "|2018-11-10 23:45:00|              7|\n",
            "|2018-11-10 23:42:00|              7|\n",
            "+-------------------+---------------+\n",
            "only showing top 5 rows\n",
            "\n"
          ],
          "name": "stdout"
        }
      ]
    },
    {
      "cell_type": "code",
      "metadata": {
        "colab_type": "code",
        "outputId": "e3903840-26a1-49bd-d3fb-590e371ed3b0",
        "id": "o_EFy7Yv4SK_",
        "colab": {
          "base_uri": "https://localhost:8080/",
          "height": 204
        }
      },
      "source": [
        "rc.select(col('Date'), dayofweek(col('Date')), date_format(col('Date'), 'E')).show(5)"
      ],
      "execution_count": 89,
      "outputs": [
        {
          "output_type": "stream",
          "text": [
            "+-------------------+---------------+--------------------+\n",
            "|               Date|dayofweek(Date)|date_format(Date, E)|\n",
            "+-------------------+---------------+--------------------+\n",
            "|2018-11-10 23:55:00|              7|                 Sat|\n",
            "|2018-11-10 23:53:00|              7|                 Sat|\n",
            "|2018-11-10 23:50:00|              7|                 Sat|\n",
            "|2018-11-10 23:45:00|              7|                 Sat|\n",
            "|2018-11-10 23:42:00|              7|                 Sat|\n",
            "+-------------------+---------------+--------------------+\n",
            "only showing top 5 rows\n",
            "\n"
          ],
          "name": "stdout"
        }
      ]
    },
    {
      "cell_type": "code",
      "metadata": {
        "id": "z2TUyrwM4eLB",
        "colab_type": "code",
        "colab": {
          "base_uri": "https://localhost:8080/",
          "height": 221
        },
        "outputId": "6fed47eb-8b35-46a2-8338-8abd3f3f5e41"
      },
      "source": [
        "rc.groupBy(date_format(col('Date'), 'E')).count().orderBy('count', acsending=False).show()"
      ],
      "execution_count": 91,
      "outputs": [
        {
          "output_type": "stream",
          "text": [
            "+--------------------+-------+\n",
            "|date_format(Date, E)|  count|\n",
            "+--------------------+-------+\n",
            "|                 Sun| 911684|\n",
            "|                 Mon| 952427|\n",
            "|                 Thu| 964242|\n",
            "|                 Sat| 964918|\n",
            "|                 Tue| 967746|\n",
            "|                 Wed| 973579|\n",
            "|                 Fri|1016648|\n",
            "+--------------------+-------+\n",
            "\n"
          ],
          "name": "stdout"
        }
      ]
    },
    {
      "cell_type": "code",
      "metadata": {
        "id": "rECh7FBR4p3q",
        "colab_type": "code",
        "colab": {
          "base_uri": "https://localhost:8080/",
          "height": 136
        },
        "outputId": "cfe5323c-fce4-4e28-94e0-f20dc9feb924"
      },
      "source": [
        "rc.groupBy(date_format(col('Date'), 'E')).count().collect()"
      ],
      "execution_count": 92,
      "outputs": [
        {
          "output_type": "execute_result",
          "data": {
            "text/plain": [
              "[Row(date_format(Date, E)='Sun', count=911684),\n",
              " Row(date_format(Date, E)='Mon', count=952427),\n",
              " Row(date_format(Date, E)='Thu', count=964242),\n",
              " Row(date_format(Date, E)='Sat', count=964918),\n",
              " Row(date_format(Date, E)='Wed', count=973579),\n",
              " Row(date_format(Date, E)='Fri', count=1016648),\n",
              " Row(date_format(Date, E)='Tue', count=967746)]"
            ]
          },
          "metadata": {
            "tags": []
          },
          "execution_count": 92
        }
      ]
    },
    {
      "cell_type": "code",
      "metadata": {
        "id": "x1-N8Oif422n",
        "colab_type": "code",
        "colab": {
          "base_uri": "https://localhost:8080/",
          "height": 34
        },
        "outputId": "e776151d-a8b0-48aa-a051-c6ee5adab06a"
      },
      "source": [
        "dow = [x[0] for x in rc.groupBy(date_format(col('Date'), 'E')).count().collect()]\n",
        "dow"
      ],
      "execution_count": 94,
      "outputs": [
        {
          "output_type": "execute_result",
          "data": {
            "text/plain": [
              "['Sun', 'Mon', 'Thu', 'Sat', 'Wed', 'Fri', 'Tue']"
            ]
          },
          "metadata": {
            "tags": []
          },
          "execution_count": 94
        }
      ]
    },
    {
      "cell_type": "code",
      "metadata": {
        "colab_type": "code",
        "outputId": "4ff105ea-3152-48e6-d616-cb545e7b42c2",
        "id": "DNdbATWC5RcI",
        "colab": {
          "base_uri": "https://localhost:8080/",
          "height": 34
        }
      },
      "source": [
        "cnt = [x[1] for x in rc.groupBy(date_format(col('Date'), 'E')).count().collect()]\n",
        "cnt"
      ],
      "execution_count": 95,
      "outputs": [
        {
          "output_type": "execute_result",
          "data": {
            "text/plain": [
              "[911684, 952427, 964242, 964918, 973579, 1016648, 967746]"
            ]
          },
          "metadata": {
            "tags": []
          },
          "execution_count": 95
        }
      ]
    },
    {
      "cell_type": "code",
      "metadata": {
        "id": "hIwdXdTR5aYj",
        "colab_type": "code",
        "colab": {}
      },
      "source": [
        "import pandas as pd\n",
        "import matplotlib.pyplot as plt\n"
      ],
      "execution_count": 0,
      "outputs": []
    },
    {
      "cell_type": "code",
      "metadata": {
        "id": "eH_hLMIn5aPW",
        "colab_type": "code",
        "colab": {
          "base_uri": "https://localhost:8080/",
          "height": 266
        },
        "outputId": "50b8673f-efb0-42d0-8f7f-26a2b8dfb176"
      },
      "source": [
        "cp = pd.DataFrame({'Day of week': dow, 'Count':cnt})\n",
        "cp.head(7)"
      ],
      "execution_count": 98,
      "outputs": [
        {
          "output_type": "execute_result",
          "data": {
            "text/html": [
              "<div>\n",
              "<style scoped>\n",
              "    .dataframe tbody tr th:only-of-type {\n",
              "        vertical-align: middle;\n",
              "    }\n",
              "\n",
              "    .dataframe tbody tr th {\n",
              "        vertical-align: top;\n",
              "    }\n",
              "\n",
              "    .dataframe thead th {\n",
              "        text-align: right;\n",
              "    }\n",
              "</style>\n",
              "<table border=\"1\" class=\"dataframe\">\n",
              "  <thead>\n",
              "    <tr style=\"text-align: right;\">\n",
              "      <th></th>\n",
              "      <th>Day of week</th>\n",
              "      <th>Count</th>\n",
              "    </tr>\n",
              "  </thead>\n",
              "  <tbody>\n",
              "    <tr>\n",
              "      <th>0</th>\n",
              "      <td>Sun</td>\n",
              "      <td>911684</td>\n",
              "    </tr>\n",
              "    <tr>\n",
              "      <th>1</th>\n",
              "      <td>Mon</td>\n",
              "      <td>952427</td>\n",
              "    </tr>\n",
              "    <tr>\n",
              "      <th>2</th>\n",
              "      <td>Thu</td>\n",
              "      <td>964242</td>\n",
              "    </tr>\n",
              "    <tr>\n",
              "      <th>3</th>\n",
              "      <td>Sat</td>\n",
              "      <td>964918</td>\n",
              "    </tr>\n",
              "    <tr>\n",
              "      <th>4</th>\n",
              "      <td>Wed</td>\n",
              "      <td>973579</td>\n",
              "    </tr>\n",
              "    <tr>\n",
              "      <th>5</th>\n",
              "      <td>Fri</td>\n",
              "      <td>1016648</td>\n",
              "    </tr>\n",
              "    <tr>\n",
              "      <th>6</th>\n",
              "      <td>Tue</td>\n",
              "      <td>967746</td>\n",
              "    </tr>\n",
              "  </tbody>\n",
              "</table>\n",
              "</div>"
            ],
            "text/plain": [
              "  Day of week    Count\n",
              "0         Sun   911684\n",
              "1         Mon   952427\n",
              "2         Thu   964242\n",
              "3         Sat   964918\n",
              "4         Wed   973579\n",
              "5         Fri  1016648\n",
              "6         Tue   967746"
            ]
          },
          "metadata": {
            "tags": []
          },
          "execution_count": 98
        }
      ]
    },
    {
      "cell_type": "code",
      "metadata": {
        "id": "xYBA3uOs5aGC",
        "colab_type": "code",
        "colab": {
          "base_uri": "https://localhost:8080/",
          "height": 325
        },
        "outputId": "7f56ab58-16f8-4943-e15b-1c435827f0d6"
      },
      "source": [
        "cp.sort_values('Count', ascending=False).plot(kind='bar',color='olive' ,x='Day of week', y='Count')\n",
        "plt.xlabel('Day of week')\n",
        "plt.ylabel('Number of Reported crimes')\n",
        "plt.title('No of reported Crimes per day of week')"
      ],
      "execution_count": 103,
      "outputs": [
        {
          "output_type": "execute_result",
          "data": {
            "text/plain": [
              "Text(0.5, 1.0, 'No of reported Crimes per day of week')"
            ]
          },
          "metadata": {
            "tags": []
          },
          "execution_count": 103
        },
        {
          "output_type": "display_data",
          "data": {
            "image/png": "[encoded data removed]",
            "text/plain": [
              "<Figure size 432x288 with 1 Axes>"
            ]
          },
          "metadata": {
            "tags": []
          }
        }
      ]
    },
    {
      "cell_type": "code",
      "metadata": {
        "id": "j6plL5TV5Z8B",
        "colab_type": "code",
        "colab": {}
      },
      "source": [
        ""
      ],
      "execution_count": 0,
      "outputs": []
    },
    {
      "cell_type": "code",
      "metadata": {
        "id": "2hb310vK5Zjp",
        "colab_type": "code",
        "colab": {}
      },
      "source": [
        ""
      ],
      "execution_count": 0,
      "outputs": []
    }
  ]
}