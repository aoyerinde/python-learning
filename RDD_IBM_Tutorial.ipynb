{
  "nbformat": 4,
  "nbformat_minor": 0,
  "metadata": {
    "colab": {
      "name": "RDD_IBM Tutorial.ipynb",
      "provenance": [],
      "collapsed_sections": [],
      "include_colab_link": true
    },
    "kernelspec": {
      "name": "python3",
      "display_name": "Python 3"
    }
  },
  "cells": [
    {
      "cell_type": "markdown",
      "metadata": {
        "id": "view-in-github",
        "colab_type": "text"
      },
      "source": [
        "<a href=\"https://colab.research.google.com/github/aoyerinde/python-learning/blob/master/RDD_IBM_Tutorial.ipynb\" target=\"_parent\"><img src=\"https://colab.research.google.com/assets/colab-badge.svg\" alt=\"Open In Colab\"/></a>"
      ]
    },
    {
      "cell_type": "code",
      "metadata": {
        "id": "p2fm-ChoRp9e",
        "colab_type": "code",
        "colab": {
          "base_uri": "https://localhost:8080/",
          "height": 547
        },
        "outputId": "65de1c14-8684-4b72-e1b8-bd83de6ccf71"
      },
      "source": [
        "!apt-get update\n",
        "!apt-get install openjdk-8-jdk-headless -qq > /dev/null\n",
        "!wget -q http://archive.apache.org/dist/spark/spark-2.3.1/spark-2.3.1-bin-hadoop2.7.tgz\n",
        "!tar xf spark-2.3.1-bin-hadoop2.7.tgz\n",
        "!pip install -q findspark"
      ],
      "execution_count": 2,
      "outputs": [
        {
          "output_type": "stream",
          "text": [
            "\r0% [Working]\r            \rGet:1 https://cloud.r-project.org/bin/linux/ubuntu bionic-cran35/ InRelease [3,626 B]\n",
            "\r0% [Connecting to archive.ubuntu.com (91.189.88.149)] [Connecting to security.u\r0% [Connecting to archive.ubuntu.com (91.189.88.149)] [Connecting to security.u\r0% [1 InRelease gpgv 3,626 B] [Connecting to archive.ubuntu.com (91.189.88.149)\r                                                                               \rIgn:2 https://developer.download.nvidia.com/compute/cuda/repos/ubuntu1804/x86_64  InRelease\n",
            "\r0% [1 InRelease gpgv 3,626 B] [Connecting to archive.ubuntu.com (91.189.88.149)\r                                                                               \rIgn:3 https://developer.download.nvidia.com/compute/machine-learning/repos/ubuntu1804/x86_64  InRelease\n",
            "\r0% [1 InRelease gpgv 3,626 B] [Connecting to archive.ubuntu.com (91.189.88.149)\r                                                                               \rGet:4 https://developer.download.nvidia.com/compute/cuda/repos/ubuntu1804/x86_64  Release [564 B]\n",
            "\r0% [1 InRelease gpgv 3,626 B] [Connecting to archive.ubuntu.com (91.189.88.149)\r                                                                               \rGet:5 https://developer.download.nvidia.com/compute/machine-learning/repos/ubuntu1804/x86_64  Release [564 B]\n",
            "\r0% [1 InRelease gpgv 3,626 B] [Connecting to archive.ubuntu.com (91.189.88.149)\r0% [1 InRelease gpgv 3,626 B] [Connecting to archive.ubuntu.com (91.189.88.149)\r                                                                               \rGet:6 https://developer.download.nvidia.com/compute/cuda/repos/ubuntu1804/x86_64  Release.gpg [819 B]\n",
            "\r0% [1 InRelease gpgv 3,626 B] [Connecting to archive.ubuntu.com (91.189.88.149)\r                                                                               \rGet:7 https://developer.download.nvidia.com/compute/machine-learning/repos/ubuntu1804/x86_64  Release.gpg [833 B]\n",
            "\r0% [1 InRelease gpgv 3,626 B] [Connecting to archive.ubuntu.com (91.189.88.149)\r0% [1 InRelease gpgv 3,626 B] [Connecting to archive.ubuntu.com (91.189.88.149)\r                                                                               \rGet:8 http://ppa.launchpad.net/graphics-drivers/ppa/ubuntu bionic InRelease [21.3 kB]\n",
            "\r0% [1 InRelease gpgv 3,626 B] [Waiting for headers] [Waiting for headers] [8 In\r                                                                               \rGet:9 http://security.ubuntu.com/ubuntu bionic-security InRelease [88.7 kB]\n",
            "\r0% [1 InRelease gpgv 3,626 B] [Waiting for headers] [9 InRelease 14.2 kB/88.7 k\r0% [Waiting for headers] [9 InRelease 14.2 kB/88.7 kB 16%] [8 InRelease 14.2 kB\r0% [6 Release.gpg gpgv 564 B] [Waiting for headers] [9 InRelease 14.2 kB/88.7 k\r                                                                               \rHit:10 http://archive.ubuntu.com/ubuntu bionic InRelease\n",
            "Get:11 https://cloud.r-project.org/bin/linux/ubuntu bionic-cran35/ Packages [70.5 kB]\n",
            "Get:12 https://developer.download.nvidia.com/compute/cuda/repos/ubuntu1804/x86_64  Packages [113 kB]\n",
            "Get:13 http://archive.ubuntu.com/ubuntu bionic-updates InRelease [88.7 kB]\n",
            "Get:14 http://ppa.launchpad.net/marutter/c2d4u3.5/ubuntu bionic InRelease [15.4 kB]\n",
            "Get:15 https://developer.download.nvidia.com/compute/machine-learning/repos/ubuntu1804/x86_64  Packages [19.8 kB]\n",
            "Get:16 http://archive.ubuntu.com/ubuntu bionic-backports InRelease [74.6 kB]\n",
            "Get:17 http://ppa.launchpad.net/graphics-drivers/ppa/ubuntu bionic/main amd64 Packages [31.7 kB]\n",
            "Get:18 http://security.ubuntu.com/ubuntu bionic-security/restricted amd64 Packages [9,585 B]\n",
            "Get:19 http://security.ubuntu.com/ubuntu bionic-security/main amd64 Packages [662 kB]\n",
            "Get:20 http://ppa.launchpad.net/marutter/c2d4u3.5/ubuntu bionic/main Sources [1,706 kB]\n",
            "Get:21 http://archive.ubuntu.com/ubuntu bionic-updates/universe amd64 Packages [1,288 kB]\n",
            "Get:22 http://security.ubuntu.com/ubuntu bionic-security/multiverse amd64 Packages [5,230 B]\n",
            "Get:23 http://archive.ubuntu.com/ubuntu bionic-updates/main amd64 Packages [960 kB]\n",
            "Get:24 http://ppa.launchpad.net/marutter/c2d4u3.5/ubuntu bionic/main amd64 Packages [821 kB]\n",
            "Get:25 http://security.ubuntu.com/ubuntu bionic-security/universe amd64 Packages [769 kB]\n",
            "Get:26 http://archive.ubuntu.com/ubuntu bionic-updates/multiverse amd64 Packages [8,284 B]\n",
            "Get:27 http://archive.ubuntu.com/ubuntu bionic-updates/restricted amd64 Packages [20.3 kB]\n",
            "Get:28 http://archive.ubuntu.com/ubuntu bionic-backports/universe amd64 Packages [4,227 B]\n",
            "Fetched 6,785 kB in 5s (1,406 kB/s)\n",
            "Reading package lists... Done\n"
          ],
          "name": "stdout"
        }
      ]
    },
    {
      "cell_type": "code",
      "metadata": {
        "id": "SQuZbzAOQqsy",
        "colab_type": "code",
        "colab": {
          "base_uri": "https://localhost:8080/",
          "height": 216
        },
        "outputId": "683dba54-a5ac-4139-b959-c96b0f531ab5"
      },
      "source": [
        "import os\n",
        "os.environ[\"JAVA_HOME\"] = \"/usr/lib/jvm/java-8-openjdk-amd64\"\n",
        "os.environ[\"SPARK_HOME\"] = \"/content/spark-2.3.1-bin-hadoop2.7\"\n",
        "\n",
        "import findspark\n",
        "findspark.init()\n",
        "from pyspark import SparkContext\n",
        "sc = SparkContext.getOrCreate()\n",
        "\n",
        "import pyspark\n",
        "from pyspark.sql import SparkSession\n",
        "spark = SparkSession.builder.getOrCreate() \n",
        "spark"
      ],
      "execution_count": 7,
      "outputs": [
        {
          "output_type": "execute_result",
          "data": {
            "text/html": [
              "\n",
              "            <div>\n",
              "                <p><b>SparkSession - in-memory</b></p>\n",
              "                \n",
              "        <div>\n",
              "            <p><b>SparkContext</b></p>\n",
              "\n",
              "            <p><a href=\"http://be979356ea90:4040\">Spark UI</a></p>\n",
              "\n",
              "            <dl>\n",
              "              <dt>Version</dt>\n",
              "                <dd><code>v2.3.1</code></dd>\n",
              "              <dt>Master</dt>\n",
              "                <dd><code>local[*]</code></dd>\n",
              "              <dt>AppName</dt>\n",
              "                <dd><code>pyspark-shell</code></dd>\n",
              "            </dl>\n",
              "        </div>\n",
              "        \n",
              "            </div>\n",
              "        "
            ],
            "text/plain": [
              "<pyspark.sql.session.SparkSession at 0x7ff4b3f63898>"
            ]
          },
          "metadata": {
            "tags": []
          },
          "execution_count": 7
        }
      ]
    },
    {
      "cell_type": "code",
      "metadata": {
        "id": "pkv7tTNdWG-Y",
        "colab_type": "code",
        "colab": {
          "base_uri": "https://localhost:8080/",
          "height": 34
        },
        "outputId": "aa28498a-3eed-4e93-beea-b576faa384bd"
      },
      "source": [
        "sc.version"
      ],
      "execution_count": 9,
      "outputs": [
        {
          "output_type": "execute_result",
          "data": {
            "text/plain": [
              "'2.3.1'"
            ]
          },
          "metadata": {
            "tags": []
          },
          "execution_count": 9
        }
      ]
    },
    {
      "cell_type": "code",
      "metadata": {
        "id": "xSGV6oSzWnpU",
        "colab_type": "code",
        "colab": {}
      },
      "source": [
        "x = (1,2,3,4,5,6,7,8,9,10)\n",
        "x_nbr_rdd = sc.parallelize(x)\n"
      ],
      "execution_count": 0,
      "outputs": []
    },
    {
      "cell_type": "code",
      "metadata": {
        "id": "hURyxePWZEr3",
        "colab_type": "code",
        "colab": {
          "base_uri": "https://localhost:8080/",
          "height": 34
        },
        "outputId": "98d26fc4-f7e4-4a53-ac8e-5fc1ed91eb7b"
      },
      "source": [
        "x_nbr_rdd.first()\n",
        "x_nbr_rdd.take(5)"
      ],
      "execution_count": 21,
      "outputs": [
        {
          "output_type": "execute_result",
          "data": {
            "text/plain": [
              "[1, 2, 3, 4, 5]"
            ]
          },
          "metadata": {
            "tags": []
          },
          "execution_count": 21
        }
      ]
    },
    {
      "cell_type": "code",
      "metadata": {
        "id": "hEilS_uwbv6V",
        "colab_type": "code",
        "colab": {
          "base_uri": "https://localhost:8080/",
          "height": 34
        },
        "outputId": "24ea0762-cfda-4783-f69d-a4a9940dfa89"
      },
      "source": [
        "y = [\"Hello\", \"my Name is Spark\"]\n",
        "y_str_rdd = sc.parallelize(y)\n",
        "y_str_rdd.take(1)"
      ],
      "execution_count": 22,
      "outputs": [
        {
          "output_type": "execute_result",
          "data": {
            "text/plain": [
              "['Hello']"
            ]
          },
          "metadata": {
            "tags": []
          },
          "execution_count": 22
        }
      ]
    },
    {
      "cell_type": "code",
      "metadata": {
        "id": "s_5fC-5ciEsm",
        "colab_type": "code",
        "colab": {
          "base_uri": "https://localhost:8080/",
          "height": 34
        },
        "outputId": "170e1515-3a82-4b2d-a222-accbe6d96132"
      },
      "source": [
        "x_nbr_rdd = x_nbr_rdd.map(lambda x: x+1)\n",
        "x_nbr_rdd.collect()"
      ],
      "execution_count": 26,
      "outputs": [
        {
          "output_type": "execute_result",
          "data": {
            "text/plain": [
              "[4, 5, 6, 7, 8, 9, 10, 11, 12, 13]"
            ]
          },
          "metadata": {
            "tags": []
          },
          "execution_count": 26
        }
      ]
    },
    {
      "cell_type": "code",
      "metadata": {
        "id": "NFiVjalrj0jA",
        "colab_type": "code",
        "colab": {
          "base_uri": "https://localhost:8080/",
          "height": 34
        },
        "outputId": "d413f41c-ea60-4b7e-f1b2-c883f166c1c3"
      },
      "source": [
        "x2 = [\"1,2,3,4,5,6,7,8,9,10\"]\n",
        "y_rd = sc.parallelize(x2)\n",
        "y_rd"
      ],
      "execution_count": 29,
      "outputs": [
        {
          "output_type": "execute_result",
          "data": {
            "text/plain": [
              "ParallelCollectionRDD[13] at parallelize at PythonRDD.scala:184"
            ]
          },
          "metadata": {
            "tags": []
          },
          "execution_count": 29
        }
      ]
    },
    {
      "cell_type": "code",
      "metadata": {
        "id": "pRG67nzPqD8A",
        "colab_type": "code",
        "colab": {}
      },
      "source": [
        "sum_rd = y_rd.map(lambda y:y.split(\",\")).map(lambda y:(int (y[2])+int(y[9])))"
      ],
      "execution_count": 0,
      "outputs": []
    },
    {
      "cell_type": "code",
      "metadata": {
        "id": "WfYntmoMw2US",
        "colab_type": "code",
        "colab": {
          "base_uri": "https://localhost:8080/",
          "height": 34
        },
        "outputId": "1989bc49-8804-4165-bdf7-228e8d6c6758"
      },
      "source": [
        "sum_rd.first()"
      ],
      "execution_count": 31,
      "outputs": [
        {
          "output_type": "execute_result",
          "data": {
            "text/plain": [
              "13"
            ]
          },
          "metadata": {
            "tags": []
          },
          "execution_count": 31
        }
      ]
    },
    {
      "cell_type": "code",
      "metadata": {
        "id": "GyGf3gNMxFXm",
        "colab_type": "code",
        "colab": {
          "base_uri": "https://localhost:8080/",
          "height": 34
        },
        "outputId": "8e4642c7-75b6-485d-83e6-db6becf1dddd"
      },
      "source": [
        "words = [\"Hello Human I am Spark and I love running analysis\"]\n",
        "words_rd = sc.parallelize(words)\n",
        "words_rd.first()"
      ],
      "execution_count": 33,
      "outputs": [
        {
          "output_type": "execute_result",
          "data": {
            "text/plain": [
              "'Hello Human I am Spark and I love running analysis'"
            ]
          },
          "metadata": {
            "tags": []
          },
          "execution_count": 33
        }
      ]
    },
    {
      "cell_type": "code",
      "metadata": {
        "id": "6Tg45olE0J69",
        "colab_type": "code",
        "colab": {
          "base_uri": "https://localhost:8080/",
          "height": 187
        },
        "outputId": "c3013a8f-705c-4c63-fa30-a4f6acd668c9"
      },
      "source": [
        "words_rd2 = words_rd.map(lambda line: line.split(\" \"))\n",
        "words_rd2.first()"
      ],
      "execution_count": 34,
      "outputs": [
        {
          "output_type": "execute_result",
          "data": {
            "text/plain": [
              "['Hello',\n",
              " 'Human',\n",
              " 'I',\n",
              " 'am',\n",
              " 'Spark',\n",
              " 'and',\n",
              " 'I',\n",
              " 'love',\n",
              " 'running',\n",
              " 'analysis']"
            ]
          },
          "metadata": {
            "tags": []
          },
          "execution_count": 34
        }
      ]
    },
    {
      "cell_type": "code",
      "metadata": {
        "id": "NrQR5U5z0wlZ",
        "colab_type": "code",
        "colab": {
          "base_uri": "https://localhost:8080/",
          "height": 34
        },
        "outputId": "5eb88e37-4350-46a4-9c90-f2d18c407cca"
      },
      "source": [
        "words_rd2.count()\n",
        "words_rd2 = words_rd.flatMap(lambda line: line.split(\" \"))\n",
        "words_rd2.take(3)"
      ],
      "execution_count": 39,
      "outputs": [
        {
          "output_type": "execute_result",
          "data": {
            "text/plain": [
              "['Hello', 'Human', 'I']"
            ]
          },
          "metadata": {
            "tags": []
          },
          "execution_count": 39
        }
      ]
    },
    {
      "cell_type": "markdown",
      "metadata": {
        "id": "IbKdDL3627FM",
        "colab_type": "text"
      },
      "source": [
        "#Pair RDD"
      ]
    },
    {
      "cell_type": "code",
      "metadata": {
        "id": "5lfYlqvm26Wi",
        "colab_type": "code",
        "colab": {
          "base_uri": "https://localhost:8080/",
          "height": 34
        },
        "outputId": "6e41df7c-e8ca-45f9-b678-473aaa2906df"
      },
      "source": [
        "z = [\"First, Line\", \"Second,Line\", \"and,third,Line\"]#\n",
        "z_str_rdd = sc.parallelize(z)\n",
        "z_str_rdd.first()"
      ],
      "execution_count": 40,
      "outputs": [
        {
          "output_type": "execute_result",
          "data": {
            "text/plain": [
              "'First, Line'"
            ]
          },
          "metadata": {
            "tags": []
          },
          "execution_count": 40
        }
      ]
    },
    {
      "cell_type": "code",
      "metadata": {
        "id": "eaweVrhF3RNK",
        "colab_type": "code",
        "colab": {
          "base_uri": "https://localhost:8080/",
          "height": 34
        },
        "outputId": "346db4c0-04b5-4612-9356-1acb644e0799"
      },
      "source": [
        "z_rdd_split = z_str_rdd.flatMap(lambda line: line.split(\",\"))\n",
        "z_rdd_split.collect()"
      ],
      "execution_count": 42,
      "outputs": [
        {
          "output_type": "execute_result",
          "data": {
            "text/plain": [
              "['First', ' Line', 'Second', 'Line', 'and', 'third', 'Line']"
            ]
          },
          "metadata": {
            "tags": []
          },
          "execution_count": 42
        }
      ]
    },
    {
      "cell_type": "code",
      "metadata": {
        "id": "8loyExlr3ruv",
        "colab_type": "code",
        "colab": {
          "base_uri": "https://localhost:8080/",
          "height": 136
        },
        "outputId": "b05179e7-ad31-4d15-c7c9-88d40286166b"
      },
      "source": [
        "countwords = z_rdd_split.map(lambda defined: (defined, 1))\n",
        "countwords.collect()"
      ],
      "execution_count": 43,
      "outputs": [
        {
          "output_type": "execute_result",
          "data": {
            "text/plain": [
              "[('First', 1),\n",
              " (' Line', 1),\n",
              " ('Second', 1),\n",
              " ('Line', 1),\n",
              " ('and', 1),\n",
              " ('third', 1),\n",
              " ('Line', 1)]"
            ]
          },
          "metadata": {
            "tags": []
          },
          "execution_count": 43
        }
      ]
    },
    {
      "cell_type": "code",
      "metadata": {
        "id": "b-v1vaPY6gT-",
        "colab_type": "code",
        "colab": {
          "base_uri": "https://localhost:8080/",
          "height": 119
        },
        "outputId": "8d473a92-86d0-4825-d17e-f3669266dc27"
      },
      "source": [
        "from operator import add\n",
        "countwords2 = countwords.reduceByKey(add)\n",
        "countwords2.collect()"
      ],
      "execution_count": 44,
      "outputs": [
        {
          "output_type": "execute_result",
          "data": {
            "text/plain": [
              "[('Second', 1),\n",
              " ('Line', 2),\n",
              " ('third', 1),\n",
              " ('First', 1),\n",
              " (' Line', 1),\n",
              " ('and', 1)]"
            ]
          },
          "metadata": {
            "tags": []
          },
          "execution_count": 44
        }
      ]
    },
    {
      "cell_type": "code",
      "metadata": {
        "id": "TAWLWq3t_SLz",
        "colab_type": "code",
        "colab": {
          "base_uri": "https://localhost:8080/",
          "height": 34
        },
        "outputId": "329c914b-5882-4392-e359-dcbd84397631"
      },
      "source": [
        "#word_rd3 = z_rdd_split.filter(lambda line: \"Second\" in line)\n",
        "word_rd3.collect()"
      ],
      "execution_count": 48,
      "outputs": [
        {
          "output_type": "execute_result",
          "data": {
            "text/plain": [
              "['Second']"
            ]
          },
          "metadata": {
            "tags": []
          },
          "execution_count": 48
        }
      ]
    },
    {
      "cell_type": "code",
      "metadata": {
        "id": "3dprlbz1_R_G",
        "colab_type": "code",
        "colab": {
          "base_uri": "https://localhost:8080/",
          "height": 224
        },
        "outputId": "8f7e8c82-e966-455d-ff31-f6abdd9ffb4b"
      },
      "source": [
        "!rm Readme.md* -f\n",
        "!wget https://raw.githubusercontent.com/carloapp2/SparkPOT/master/README.md"
      ],
      "execution_count": 49,
      "outputs": [
        {
          "output_type": "stream",
          "text": [
            "--2019-09-23 21:32:24--  https://raw.githubusercontent.com/carloapp2/SparkPOT/master/README.md\n",
            "Resolving raw.githubusercontent.com (raw.githubusercontent.com)... 151.101.0.133, 151.101.64.133, 151.101.128.133, ...\n",
            "Connecting to raw.githubusercontent.com (raw.githubusercontent.com)|151.101.0.133|:443... connected.\n",
            "HTTP request sent, awaiting response... 200 OK\n",
            "Length: 3624 (3.5K) [text/plain]\n",
            "Saving to: ‘README.md’\n",
            "\n",
            "\rREADME.md             0%[                    ]       0  --.-KB/s               \rREADME.md           100%[===================>]   3.54K  --.-KB/s    in 0s      \n",
            "\n",
            "2019-09-23 21:32:24 (89.7 MB/s) - ‘README.md’ saved [3624/3624]\n",
            "\n"
          ],
          "name": "stdout"
        }
      ]
    },
    {
      "cell_type": "code",
      "metadata": {
        "id": "QUBTGl6-Cnuw",
        "colab_type": "code",
        "colab": {
          "base_uri": "https://localhost:8080/",
          "height": 34
        },
        "outputId": "997eb5ed-4b23-40ff-97e9-2a5e6b8ccc22"
      },
      "source": [
        "textfile_rdd = sc.textFile(\"README.md\")\n",
        "textfile_rdd.count()"
      ],
      "execution_count": 51,
      "outputs": [
        {
          "output_type": "execute_result",
          "data": {
            "text/plain": [
              "98"
            ]
          },
          "metadata": {
            "tags": []
          },
          "execution_count": 51
        }
      ]
    },
    {
      "cell_type": "code",
      "metadata": {
        "id": "xNa3wWGbGnfd",
        "colab_type": "code",
        "colab": {
          "base_uri": "https://localhost:8080/",
          "height": 34
        },
        "outputId": "b29b8751-5f2f-4552-9126-57e21c65b60f"
      },
      "source": [
        "textfile_rdd_filter =  textfile_rdd.filter(lambda line: \"Spark\" in line)\n",
        "textfile_rdd_filter.first()\n",
        "textfile_rdd_filter.count()"
      ],
      "execution_count": 54,
      "outputs": [
        {
          "output_type": "execute_result",
          "data": {
            "text/plain": [
              "19"
            ]
          },
          "metadata": {
            "tags": []
          },
          "execution_count": 54
        }
      ]
    },
    {
      "cell_type": "code",
      "metadata": {
        "id": "5Pp7gxFeJJSV",
        "colab_type": "code",
        "colab": {
          "base_uri": "https://localhost:8080/",
          "height": 102
        },
        "outputId": "332c9a44-8419-42fc-dd7f-644108780e9f"
      },
      "source": [
        "temp =  textfile_rdd_filter.flatMap(lambda line: line.split(\" \")).map(lambda\\\n",
        "             x: (x, 1)).reduceByKey(add)\n",
        "temp.filter(lambda x: x[0].startswith(\"Spark\")).collect()"
      ],
      "execution_count": 60,
      "outputs": [
        {
          "output_type": "execute_result",
          "data": {
            "text/plain": [
              "[('Spark', 14),\n",
              " ('Spark\"](http://spark.apache.org/docs/latest/building-spark.html).', 1),\n",
              " ('SparkPi', 2),\n",
              " ('Spark](#building-spark).', 1),\n",
              " ('Spark.', 1)]"
            ]
          },
          "metadata": {
            "tags": []
          },
          "execution_count": 60
        }
      ]
    },
    {
      "cell_type": "code",
      "metadata": {
        "id": "h-KBiqgvR3-l",
        "colab_type": "code",
        "colab": {
          "base_uri": "https://localhost:8080/",
          "height": 156
        },
        "outputId": "d7ff53f2-934c-4c3e-d21c-c9d984a61010"
      },
      "source": [
        "temp.filter(lambda x: \"Spark\" in x[0]).collect()"
      ],
      "execution_count": 61,
      "outputs": [
        {
          "output_type": "execute_result",
          "data": {
            "text/plain": [
              "[('Spark', 14),\n",
              " ('Spark\"](http://spark.apache.org/docs/latest/building-spark.html).', 1),\n",
              " ('SparkPi', 2),\n",
              " ('Spark](#building-spark).', 1),\n",
              " ('Spark.', 1),\n",
              " ('tests](https://cwiki.apache.org/confluence/display/SPARK/Contributing+to+Spark#ContributingtoSpark-AutomatedTesting).',\n",
              "  1)]"
            ]
          },
          "metadata": {
            "tags": []
          },
          "execution_count": 61
        }
      ]
    },
    {
      "cell_type": "code",
      "metadata": {
        "id": "JEEdS9zqTN6R",
        "colab_type": "code",
        "colab": {
          "base_uri": "https://localhost:8080/",
          "height": 224
        },
        "outputId": "d191c932-25f2-4c53-c6e3-7ac136942242"
      },
      "source": [
        "!rm Scores.txt* -f\n",
        "!wget https://raw.githubusercontent.com/carloapp2/SparkPOT/master/Scores.txt"
      ],
      "execution_count": 62,
      "outputs": [
        {
          "output_type": "stream",
          "text": [
            "--2019-09-23 22:46:22--  https://raw.githubusercontent.com/carloapp2/SparkPOT/master/Scores.txt\n",
            "Resolving raw.githubusercontent.com (raw.githubusercontent.com)... 151.101.0.133, 151.101.64.133, 151.101.128.133, ...\n",
            "Connecting to raw.githubusercontent.com (raw.githubusercontent.com)|151.101.0.133|:443... connected.\n",
            "HTTP request sent, awaiting response... 200 OK\n",
            "Length: 75 [text/plain]\n",
            "Saving to: ‘Scores.txt’\n",
            "\n",
            "\rScores.txt            0%[                    ]       0  --.-KB/s               \rScores.txt          100%[===================>]      75  --.-KB/s    in 0s      \n",
            "\n",
            "2019-09-23 22:46:22 (12.9 MB/s) - ‘Scores.txt’ saved [75/75]\n",
            "\n"
          ],
          "name": "stdout"
        }
      ]
    },
    {
      "cell_type": "code",
      "metadata": {
        "id": "prz9UcWgTfn_",
        "colab_type": "code",
        "colab": {
          "base_uri": "https://localhost:8080/",
          "height": 102
        },
        "outputId": "734eb8ef-a928-4cca-b6ae-86d22d5c25ee"
      },
      "source": [
        "raw_rdd = sc.textFile(\"Scores.txt\")\n",
        "sumscores = raw_rdd.map(lambda l: l.split(\",\")).map(lambda v: (v[0], int(v[1])\\\n",
        "                 +int(v[2])+int(v[2])+int(v[3])))\n",
        "final = sumscores.map(lambda avg: (avg[0], avg[1], avg[1]/4.0))\n",
        "\n",
        "final.take(5)"
      ],
      "execution_count": 65,
      "outputs": [
        {
          "output_type": "execute_result",
          "data": {
            "text/plain": [
              "[('Carlo', 14, 3.5),\n",
              " ('Mokhtar', 17, 4.25),\n",
              " ('Jacques', 12, 3.0),\n",
              " ('Braden', 13, 3.25),\n",
              " ('Chris', 18, 4.5)]"
            ]
          },
          "metadata": {
            "tags": []
          },
          "execution_count": 65
        }
      ]
    }
  ]
}