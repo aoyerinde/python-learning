{
  "nbformat": 4,
  "nbformat_minor": 0,
  "metadata": {
    "colab": {
      "name": "Download_data.ipynb",
      "version": "0.3.2",
      "provenance": [],
      "collapsed_sections": [],
      "include_colab_link": true
    },
    "kernelspec": {
      "display_name": "Python 3",
      "language": "python",
      "name": "python3"
    },
    "language_info": {
      "codemirror_mode": {
        "name": "ipython",
        "version": 3
      },
      "file_extension": ".py",
      "mimetype": "text/x-python",
      "name": "python",
      "nbconvert_exporter": "python",
      "pygments_lexer": "ipython3",
      "version": "3.6.5"
    }
  },
  "cells": [
    {
      "cell_type": "markdown",
      "metadata": {
        "id": "view-in-github",
        "colab_type": "text"
      },
      "source": [
        "<a href=\"https://colab.research.google.com/github/aoyerinde/python-learning/blob/master/Download_data.ipynb\" target=\"_parent\"><img src=\"https://colab.research.google.com/assets/colab-badge.svg\" alt=\"Open In Colab\"/></a>"
      ]
    },
    {
      "cell_type": "markdown",
      "metadata": {
        "colab_type": "text",
        "id": "8qf-TmnsBgXd"
      },
      "source": [
        "# Download Chicago's Reported Crime Data"
      ]
    },
    {
      "cell_type": "markdown",
      "metadata": {
        "colab_type": "text",
        "id": "Dd6t0uFzuR4X"
      },
      "source": [
        "## Download and install Spark"
      ]
    },
    {
      "cell_type": "code",
      "metadata": {
        "colab_type": "code",
        "id": "zToS5PqxBXpK",
        "outputId": "6b010004-b3e7-4a08-8fd2-87dc470880be",
        "colab": {
          "base_uri": "https://localhost:8080/",
          "height": 34
        }
      },
      "source": [
        "!ls"
      ],
      "execution_count": 0,
      "outputs": [
        {
          "output_type": "stream",
          "text": [
            "sample_data\n"
          ],
          "name": "stdout"
        }
      ]
    },
    {
      "cell_type": "code",
      "metadata": {
        "colab_type": "code",
        "id": "tt7ZS1_wGgjn",
        "outputId": "8091f510-7b52-46b8-bc0e-479af074183a",
        "colab": {
          "base_uri": "https://localhost:8080/",
          "height": 493
        }
      },
      "source": [
        "!apt-get update\n",
        "!apt-get install openjdk-8-jdk-headless -qq > /dev/null\n",
        "!wget -q http://archive.apache.org/dist/spark/spark-2.3.1/spark-2.3.1-bin-hadoop2.7.tgz\n",
        "!tar xf spark-2.3.1-bin-hadoop2.7.tgz\n",
        "!pip install -q findspark"
      ],
      "execution_count": 5,
      "outputs": [
        {
          "output_type": "stream",
          "text": [
            "Get:1 http://security.ubuntu.com/ubuntu bionic-security InRelease [88.7 kB]\n",
            "Ign:2 https://developer.download.nvidia.com/compute/cuda/repos/ubuntu1804/x86_64  InRelease\n",
            "Get:3 https://cloud.r-project.org/bin/linux/ubuntu bionic-cran35/ InRelease [3,626 B]\n",
            "Get:4 http://ppa.launchpad.net/graphics-drivers/ppa/ubuntu bionic InRelease [21.3 kB]\n",
            "Hit:5 http://archive.ubuntu.com/ubuntu bionic InRelease\n",
            "Ign:6 https://developer.download.nvidia.com/compute/machine-learning/repos/ubuntu1804/x86_64  InRelease\n",
            "Get:7 https://developer.download.nvidia.com/compute/cuda/repos/ubuntu1804/x86_64  Release [564 B]\n",
            "Hit:8 https://developer.download.nvidia.com/compute/machine-learning/repos/ubuntu1804/x86_64  Release\n",
            "Get:9 https://developer.download.nvidia.com/compute/cuda/repos/ubuntu1804/x86_64  Release.gpg [819 B]\n",
            "Get:10 http://archive.ubuntu.com/ubuntu bionic-updates InRelease [88.7 kB]\n",
            "Get:11 http://security.ubuntu.com/ubuntu bionic-security/universe amd64 Packages [766 kB]\n",
            "Get:12 http://ppa.launchpad.net/marutter/c2d4u3.5/ubuntu bionic InRelease [15.4 kB]\n",
            "Get:13 https://cloud.r-project.org/bin/linux/ubuntu bionic-cran35/ Packages [70.5 kB]\n",
            "Get:14 http://security.ubuntu.com/ubuntu bionic-security/multiverse amd64 Packages [4,952 B]\n",
            "Get:15 http://security.ubuntu.com/ubuntu bionic-security/restricted amd64 Packages [8,385 B]\n",
            "Get:16 http://security.ubuntu.com/ubuntu bionic-security/main amd64 Packages [647 kB]\n",
            "Get:17 http://archive.ubuntu.com/ubuntu bionic-backports InRelease [74.6 kB]\n",
            "Get:19 https://developer.download.nvidia.com/compute/cuda/repos/ubuntu1804/x86_64  Packages [113 kB]\n",
            "Get:20 http://ppa.launchpad.net/graphics-drivers/ppa/ubuntu bionic/main amd64 Packages [31.5 kB]\n",
            "Get:21 http://ppa.launchpad.net/marutter/c2d4u3.5/ubuntu bionic/main Sources [1,686 kB]\n",
            "Get:22 http://archive.ubuntu.com/ubuntu bionic-updates/multiverse amd64 Packages [7,998 B]\n",
            "Get:23 http://archive.ubuntu.com/ubuntu bionic-updates/universe amd64 Packages [1,284 kB]\n",
            "Get:24 http://ppa.launchpad.net/marutter/c2d4u3.5/ubuntu bionic/main amd64 Packages [810 kB]\n",
            "Get:25 http://archive.ubuntu.com/ubuntu bionic-updates/restricted amd64 Packages [19.0 kB]\n",
            "Get:26 http://archive.ubuntu.com/ubuntu bionic-updates/main amd64 Packages [946 kB]\n",
            "Get:27 http://archive.ubuntu.com/ubuntu bionic-backports/universe amd64 Packages [4,227 B]\n",
            "Fetched 6,692 kB in 4s (1,780 kB/s)\n",
            "Reading package lists... Done\n"
          ],
          "name": "stdout"
        }
      ]
    },
    {
      "cell_type": "code",
      "metadata": {
        "id": "FuBtsNU6Vkvd",
        "colab_type": "code",
        "colab": {}
      },
      "source": [
        ""
      ],
      "execution_count": 0,
      "outputs": []
    },
    {
      "cell_type": "markdown",
      "metadata": {
        "colab_type": "text",
        "id": "FEuEkV0BlzAD"
      },
      "source": [
        "## Setup environment"
      ]
    },
    {
      "cell_type": "code",
      "metadata": {
        "colab_type": "code",
        "id": "sdOOq4twHN1K",
        "outputId": "81bae5b9-5bd4-4c7e-ab7d-0b8f4b114513",
        "colab": {
          "base_uri": "https://localhost:8080/",
          "height": 216
        }
      },
      "source": [
        "import os\n",
        "os.environ[\"JAVA_HOME\"] = \"/usr/lib/jvm/java-8-openjdk-amd64\"\n",
        "os.environ[\"SPARK_HOME\"] = \"/content/spark-2.3.1-bin-hadoop2.7\"\n",
        "\n",
        "import findspark\n",
        "findspark.init()\n",
        "from pyspark import SparkContext\n",
        "sc = SparkContext.getOrCreate()\n",
        "\n",
        "import pyspark\n",
        "from pyspark.sql import SparkSession\n",
        "spark = SparkSession.builder.getOrCreate() \n",
        "spark"
      ],
      "execution_count": 6,
      "outputs": [
        {
          "output_type": "execute_result",
          "data": {
            "text/html": [
              "\n",
              "            <div>\n",
              "                <p><b>SparkSession - in-memory</b></p>\n",
              "                \n",
              "        <div>\n",
              "            <p><b>SparkContext</b></p>\n",
              "\n",
              "            <p><a href=\"http://c66b018f96cd:4040\">Spark UI</a></p>\n",
              "\n",
              "            <dl>\n",
              "              <dt>Version</dt>\n",
              "                <dd><code>v2.3.1</code></dd>\n",
              "              <dt>Master</dt>\n",
              "                <dd><code>local[*]</code></dd>\n",
              "              <dt>AppName</dt>\n",
              "                <dd><code>pyspark-shell</code></dd>\n",
              "            </dl>\n",
              "        </div>\n",
              "        \n",
              "            </div>\n",
              "        "
            ],
            "text/plain": [
              "<pyspark.sql.session.SparkSession at 0x7fe03a36a358>"
            ]
          },
          "metadata": {
            "tags": []
          },
          "execution_count": 6
        }
      ]
    },
    {
      "cell_type": "markdown",
      "metadata": {
        "colab_type": "text",
        "id": "0ysUlfFrN5OD"
      },
      "source": [
        "## Downloading and preprocessing Chicago's Reported Crime Data"
      ]
    },
    {
      "cell_type": "code",
      "metadata": {
        "colab_type": "code",
        "id": "FDtw5Hy3N-pV",
        "outputId": "d3604abd-b45e-47e2-c7df-de61b4c2843c",
        "colab": {
          "base_uri": "https://localhost:8080/",
          "height": 204
        }
      },
      "source": [
        "!wget https://data.cityofchicago.org/api/views/ijzp-q8t2/rows.csv?accessType=DOWNLOAD"
      ],
      "execution_count": 7,
      "outputs": [
        {
          "output_type": "stream",
          "text": [
            "--2019-09-16 09:52:18--  https://data.cityofchicago.org/api/views/ijzp-q8t2/rows.csv?accessType=DOWNLOAD\n",
            "Resolving data.cityofchicago.org (data.cityofchicago.org)... 52.206.140.199, 52.206.140.205, 52.206.68.26\n",
            "Connecting to data.cityofchicago.org (data.cityofchicago.org)|52.206.140.199|:443... connected.\n",
            "HTTP request sent, awaiting response... 200 OK\n",
            "Length: unspecified [text/csv]\n",
            "Saving to: ‘rows.csv?accessType=DOWNLOAD’\n",
            "\n",
            "rows.csv?accessType     [           <=>      ]   1.71G  2.73MB/s    in 10m 3s  \n",
            "\n",
            "2019-09-16 10:02:46 (2.90 MB/s) - ‘rows.csv?accessType=DOWNLOAD’ saved [1832467625]\n",
            "\n"
          ],
          "name": "stdout"
        }
      ]
    },
    {
      "cell_type": "code",
      "metadata": {
        "colab_type": "code",
        "id": "v4P5mMONYyVd",
        "outputId": "2cbfe019-b003-4805-cd52-577e5968edfe",
        "colab": {
          "base_uri": "https://localhost:8080/",
          "height": 34
        }
      },
      "source": [
        "!ls\n"
      ],
      "execution_count": 3,
      "outputs": [
        {
          "output_type": "stream",
          "text": [
            "sample_data\n"
          ],
          "name": "stdout"
        }
      ]
    },
    {
      "cell_type": "code",
      "metadata": {
        "colab_type": "code",
        "id": "MzpuCsvDPWM-",
        "colab": {}
      },
      "source": [
        "!mv rows.csv\\?accessType\\=DOWNLOAD reported-crimes.csv"
      ],
      "execution_count": 0,
      "outputs": []
    },
    {
      "cell_type": "code",
      "metadata": {
        "colab_type": "code",
        "id": "9-1cK0nPNS95",
        "outputId": "05cce020-4210-4c41-8d03-8e972f88a053",
        "colab": {
          "base_uri": "https://localhost:8080/",
          "height": 224
        }
      },
      "source": [
        "from pyspark.sql.functions import to_timestamp,col,lit\n",
        "rc = spark.read.csv('reported-crimes.csv',header=True).withColumn('Date',to_timestamp(col('Date'),'MM/dd/yyyy hh:mm:ss a')).filter(col('Date') <= lit('2018-11-11'))\n",
        "rc.show(5)"
      ],
      "execution_count": 46,
      "outputs": [
        {
          "output_type": "stream",
          "text": [
            "+--------+-----------+-------------------+--------------------+----+-------------------+--------------+--------------------+------+--------+----+--------+----+--------------+--------+------------+------------+----+--------------------+------------+-------------+--------------------+--------------------------+---------+---------------+-------------+-----+----------------------+----------------+------------+\n",
            "|      ID|Case Number|               Date|               Block|IUCR|       Primary Type|   Description|Location Description|Arrest|Domestic|Beat|District|Ward|Community Area|FBI Code|X Coordinate|Y Coordinate|Year|          Updated On|    Latitude|    Longitude|            Location|Historical Wards 2003-2015|Zip Codes|Community Areas|Census Tracts|Wards|Boundaries - ZIP Codes|Police Districts|Police Beats|\n",
            "+--------+-----------+-------------------+--------------------+----+-------------------+--------------+--------------------+------+--------+----+--------+----+--------------+--------+------------+------------+----+--------------------+------------+-------------+--------------------+--------------------------+---------+---------------+-------------+-----+----------------------+----------------+------------+\n",
            "|11504330|   JB512058|2018-11-10 23:55:00|021XX W GREENLEAF...|0820|              THEFT|$500 AND UNDER|              STREET| false|   false|2411|     024|  50|             2|      06|     1160583|     1946926|2018|11/17/2018 04:14:...|42.010065214|-87.684502849|(42.010065214, -8...|                        42|    22528|             20|          268|   27|                    12|              11|          35|\n",
            "|11503920|   JB511504|2018-11-10 23:53:00|081XX S HERMITAGE...|0910|MOTOR VEHICLE THEFT|    AUTOMOBILE|           APARTMENT| false|   false|0614|     006|  21|            71|      07|     1166095|     1850727|2018|11/17/2018 04:14:...|41.745971025|-87.666970419|(41.745971025, -8...|                         6|    21554|             70|          574|   13|                    59|              20|         237|\n",
            "|11504110|   JB511795|2018-11-10 23:50:00|   013XX S TRIPP AVE|1320|    CRIMINAL DAMAGE|    TO VEHICLE|VEHICLE NON-COMME...| false|   false|1011|     010|  24|            29|      14|     1148267|     1893365|2018|11/17/2018 04:14:...|  41.8633364|-87.731202138|(41.8633364, -87....|                        36|    21569|             30|          761|   14|                    57|              21|         155|\n",
            "|11503924|   JB511536|2018-11-10 23:45:00|  083XX S RHODES AVE|1310|    CRIMINAL DAMAGE|   TO PROPERTY|           RESIDENCE| false|    true|0632|     006|   6|            44|      14|     1181251|     1849759|2018|11/17/2018 04:14:...|41.742979225| -87.61146577|(41.742979225, -8...|                        31|    21546|             40|          140|   32|                    61|              20|         241|\n",
            "|11503921|   JB511539|2018-11-10 23:42:00|    055XX S GREEN ST|0580|           STALKING|        SIMPLE|           RESIDENCE| false|    true|0712|     007|  20|            68|     08A|     1171583|     1868046|2018|11/17/2018 04:14:...|41.793378076|-87.646354376|(41.793378076, -8...|                        53|    21559|             66|          113|    4|                    11|              17|         261|\n",
            "+--------+-----------+-------------------+--------------------+----+-------------------+--------------+--------------------+------+--------+----+--------+----+--------------+--------+------------+------------+----+--------------------+------------+-------------+--------------------+--------------------------+---------+---------------+-------------+-----+----------------------+----------------+------------+\n",
            "only showing top 5 rows\n",
            "\n"
          ],
          "name": "stdout"
        }
      ]
    },
    {
      "cell_type": "markdown",
      "metadata": {
        "id": "Ll_qmQbEkHMo",
        "colab_type": "text"
      },
      "source": [
        "#Schemas\n"
      ]
    },
    {
      "cell_type": "code",
      "metadata": {
        "colab_type": "code",
        "id": "Zxbq2qCyogGp",
        "outputId": "61d6d543-008b-45f1-fbe2-9a0604cc6aeb",
        "colab": {
          "base_uri": "https://localhost:8080/",
          "height": 561
        }
      },
      "source": [
        "rc.printSchema()"
      ],
      "execution_count": 0,
      "outputs": [
        {
          "output_type": "stream",
          "text": [
            "root\n",
            " |-- ID: string (nullable = true)\n",
            " |-- Case Number: string (nullable = true)\n",
            " |-- Date: timestamp (nullable = true)\n",
            " |-- Block: string (nullable = true)\n",
            " |-- IUCR: string (nullable = true)\n",
            " |-- Primary Type: string (nullable = true)\n",
            " |-- Description: string (nullable = true)\n",
            " |-- Location Description: string (nullable = true)\n",
            " |-- Arrest: string (nullable = true)\n",
            " |-- Domestic: string (nullable = true)\n",
            " |-- Beat: string (nullable = true)\n",
            " |-- District: string (nullable = true)\n",
            " |-- Ward: string (nullable = true)\n",
            " |-- Community Area: string (nullable = true)\n",
            " |-- FBI Code: string (nullable = true)\n",
            " |-- X Coordinate: string (nullable = true)\n",
            " |-- Y Coordinate: string (nullable = true)\n",
            " |-- Year: string (nullable = true)\n",
            " |-- Updated On: string (nullable = true)\n",
            " |-- Latitude: string (nullable = true)\n",
            " |-- Longitude: string (nullable = true)\n",
            " |-- Location: string (nullable = true)\n",
            " |-- Historical Wards 2003-2015: string (nullable = true)\n",
            " |-- Zip Codes: string (nullable = true)\n",
            " |-- Community Areas: string (nullable = true)\n",
            " |-- Census Tracts: string (nullable = true)\n",
            " |-- Wards: string (nullable = true)\n",
            " |-- Boundaries - ZIP Codes: string (nullable = true)\n",
            " |-- Police Districts: string (nullable = true)\n",
            " |-- Police Beats: string (nullable = true)\n",
            "\n"
          ],
          "name": "stdout"
        }
      ]
    },
    {
      "cell_type": "code",
      "metadata": {
        "id": "55dQFqMxmau9",
        "colab_type": "code",
        "colab": {}
      },
      "source": [
        "from pyspark.sql.types import StructType, StructField, StringType, TimestampType, BooleanType, DoubleType, IntegerType\n"
      ],
      "execution_count": 0,
      "outputs": []
    },
    {
      "cell_type": "code",
      "metadata": {
        "id": "tNzD1rfDnrMm",
        "colab_type": "code",
        "outputId": "bbe54e2f-8482-4fe0-f1ca-d42eb821c85d",
        "colab": {
          "base_uri": "https://localhost:8080/",
          "height": 527
        }
      },
      "source": [
        "rc.columns"
      ],
      "execution_count": 0,
      "outputs": [
        {
          "output_type": "execute_result",
          "data": {
            "text/plain": [
              "['ID',\n",
              " 'Case Number',\n",
              " 'Date',\n",
              " 'Block',\n",
              " 'IUCR',\n",
              " 'Primary Type',\n",
              " 'Description',\n",
              " 'Location Description',\n",
              " 'Arrest',\n",
              " 'Domestic',\n",
              " 'Beat',\n",
              " 'District',\n",
              " 'Ward',\n",
              " 'Community Area',\n",
              " 'FBI Code',\n",
              " 'X Coordinate',\n",
              " 'Y Coordinate',\n",
              " 'Year',\n",
              " 'Updated On',\n",
              " 'Latitude',\n",
              " 'Longitude',\n",
              " 'Location',\n",
              " 'Historical Wards 2003-2015',\n",
              " 'Zip Codes',\n",
              " 'Community Areas',\n",
              " 'Census Tracts',\n",
              " 'Wards',\n",
              " 'Boundaries - ZIP Codes',\n",
              " 'Police Districts',\n",
              " 'Police Beats']"
            ]
          },
          "metadata": {
            "tags": []
          },
          "execution_count": 13
        }
      ]
    },
    {
      "cell_type": "code",
      "metadata": {
        "id": "s5Hjj88JmbMa",
        "colab_type": "code",
        "colab": {}
      },
      "source": [
        "Schema = \n",
        "StructType([\n",
        "StructField('ID', StringType, True),\n",
        "StructField('Case Number',StringType, True), \n",
        " StructField('Date', TimestampType, True),\n",
        " 'Block',\n",
        " 'IUCR',\n",
        " 'Primary Type',\n",
        " 'Description',\n",
        " 'Location Description',\n",
        " 'Arrest',\n",
        " 'Domestic',\n",
        " 'Beat',\n",
        " 'District',\n",
        " 'Ward',\n",
        " 'Community Area',\n",
        " 'FBI Code',\n",
        " 'X Coordinate',\n",
        " 'Y Coordinate',\n",
        " 'Year',\n",
        " 'Updated On',\n",
        " 'Latitude',\n",
        " 'Longitude',\n",
        " 'Location',\n",
        " 'Historical Wards 2003-2015',\n",
        " 'Zip Codes',\n",
        " 'Community Areas',\n",
        " 'Census Tracts',\n",
        " 'Wards',\n",
        " 'Boundaries - ZIP Codes',\n",
        " 'Police Districts',\n",
        " 'Police Beats')])"
      ],
      "execution_count": 0,
      "outputs": []
    },
    {
      "cell_type": "code",
      "metadata": {
        "id": "uglLIe_0mbWh",
        "colab_type": "code",
        "colab": {}
      },
      "source": [
        "labels = [\n",
        "  ('ID', StringType()),\n",
        "   ('Case Number', StringType()),\n",
        " ('Date',TimestampType()),\n",
        " ('Block',StringType()),\n",
        " ('IUCR',StringType()),\n",
        " ('Primary Type',StringType()),\n",
        " ('Description',StringType()),\n",
        " ('Location Description', StringType()),\n",
        " ('Arrest', StringType()),\n",
        " ('Domestic',StringType()),\n",
        " ('Beat', StringType()),\n",
        " ('District', StringType()),\n",
        " ('Ward', StringType()),\n",
        " ('Community Area', StringType()),\n",
        " ('FBI Code', StringType()),\n",
        " ('X Coordinate', StringType()),\n",
        " ('Y Coordinate', StringType()),\n",
        " ('Year', IntegerType()),\n",
        " ('Updated On', StringType()),\n",
        " ('Latitude', DoubleType()),\n",
        " ('Longitude', DoubleType()),\n",
        " ('Location', StringType()),\n",
        " ('Historical Wards 2003-2015', StringType()),\n",
        "('Zip Codes',StringType()),\n",
        " ('Community Areas', StringType()),\n",
        " ('Census Tracts', StringType()),\n",
        " ('Wards', StringType()),\n",
        " ('Boundaries - ZIP Codes', StringType()),\n",
        "('Police Districts', StringType()),\n",
        " ('Police Beats', StringType())]"
      ],
      "execution_count": 0,
      "outputs": []
    },
    {
      "cell_type": "code",
      "metadata": {
        "id": "_RfWXOSr1ed9",
        "colab_type": "code",
        "outputId": "33f5cff1-3270-4b03-d39e-1d35000bbb56",
        "colab": {
          "base_uri": "https://localhost:8080/",
          "height": 54
        }
      },
      "source": [
        "schema = StructType([StructField (x[0], x[1], True) for x in labels])\n",
        "schema "
      ],
      "execution_count": 49,
      "outputs": [
        {
          "output_type": "execute_result",
          "data": {
            "text/plain": [
              "StructType(List(StructField(ID,StringType,true),StructField(Case Number,StringType,true),StructField(Date,TimestampType,true),StructField(Block,StringType,true),StructField(IUCR,StringType,true),StructField(Primary Type,StringType,true),StructField(Description,StringType,true),StructField(Location Description,StringType,true),StructField(Arrest,StringType,true),StructField(Domestic,StringType,true),StructField(Beat,StringType,true),StructField(District,StringType,true),StructField(Ward,StringType,true),StructField(Community Area,StringType,true),StructField(FBI Code,StringType,true),StructField(X Coordinate,StringType,true),StructField(Y Coordinate,StringType,true),StructField(Year,IntegerType,true),StructField(Updated On,StringType,true),StructField(Latitude,DoubleType,true),StructField(Longitude,DoubleType,true),StructField(Location,StringType,true),StructField(Historical Wards 2003-2015,StringType,true),StructField(Zip Codes,StringType,true),StructField(Community Areas,StringType,true),StructField(Census Tracts,StringType,true),StructField(Wards,StringType,true),StructField(Boundaries - ZIP Codes,StringType,true),StructField(Police Districts,StringType,true),StructField(Police Beats,StringType,true)))"
            ]
          },
          "metadata": {
            "tags": []
          },
          "execution_count": 49
        }
      ]
    },
    {
      "cell_type": "code",
      "metadata": {
        "id": "CLvdZSVu1_Gg",
        "colab_type": "code",
        "outputId": "f7195b9a-4063-4299-a63a-9106d79fee50",
        "colab": {
          "base_uri": "https://localhost:8080/",
          "height": 54
        }
      },
      "source": [
        "rc = spark.read.csv('reported-crimes.csv',schema=schema)\n",
        "rc.printSchema"
      ],
      "execution_count": 13,
      "outputs": [
        {
          "output_type": "execute_result",
          "data": {
            "text/plain": [
              "<bound method DataFrame.printSchema of DataFrame[ID: string, Case Number: string, Date: timestamp, Block: string, IUCR: string, Primary Type: string, Description: string, Location Description: string, Arrest: string, Domestic: string, Beat: string, District: string, Ward: string, Community Area: string, FBI Code: string, X Coordinate: string, Y Coordinate: string, Year: int, Updated On: string, Latitude: double, Longitude: double, Location: string, Historical Wards 2003-2015: string, Zip Codes: string, Community Areas: string, Census Tracts: string, Wards: string, Boundaries - ZIP Codes: string, Police Districts: string, Police Beats: string]>"
            ]
          },
          "metadata": {
            "tags": []
          },
          "execution_count": 13
        }
      ]
    },
    {
      "cell_type": "code",
      "metadata": {
        "id": "XRYPgg-FCvdn",
        "colab_type": "code",
        "outputId": "466a17d1-6e2b-452a-b332-b219ef7b77be",
        "colab": {
          "base_uri": "https://localhost:8080/",
          "height": 224
        }
      },
      "source": [
        "rc.show(5)"
      ],
      "execution_count": 14,
      "outputs": [
        {
          "output_type": "stream",
          "text": [
            "+----+-----------+----+-----+----+------------+-----------+--------------------+------+--------+----+--------+----+--------------+--------+------------+------------+----+----------+--------+---------+--------+--------------------------+---------+---------------+-------------+-----+----------------------+----------------+------------+\n",
            "|  ID|Case Number|Date|Block|IUCR|Primary Type|Description|Location Description|Arrest|Domestic|Beat|District|Ward|Community Area|FBI Code|X Coordinate|Y Coordinate|Year|Updated On|Latitude|Longitude|Location|Historical Wards 2003-2015|Zip Codes|Community Areas|Census Tracts|Wards|Boundaries - ZIP Codes|Police Districts|Police Beats|\n",
            "+----+-----------+----+-----+----+------------+-----------+--------------------+------+--------+----+--------+----+--------------+--------+------------+------------+----+----------+--------+---------+--------+--------------------------+---------+---------------+-------------+-----+----------------------+----------------+------------+\n",
            "|null|       null|null| null|null|        null|       null|                null|  null|    null|null|    null|null|          null|    null|        null|        null|null|      null|    null|     null|    null|                      null|     null|           null|         null| null|                  null|            null|        null|\n",
            "|null|       null|null| null|null|        null|       null|                null|  null|    null|null|    null|null|          null|    null|        null|        null|null|      null|    null|     null|    null|                      null|     null|           null|         null| null|                  null|            null|        null|\n",
            "|null|       null|null| null|null|        null|       null|                null|  null|    null|null|    null|null|          null|    null|        null|        null|null|      null|    null|     null|    null|                      null|     null|           null|         null| null|                  null|            null|        null|\n",
            "|null|       null|null| null|null|        null|       null|                null|  null|    null|null|    null|null|          null|    null|        null|        null|null|      null|    null|     null|    null|                      null|     null|           null|         null| null|                  null|            null|        null|\n",
            "|null|       null|null| null|null|        null|       null|                null|  null|    null|null|    null|null|          null|    null|        null|        null|null|      null|    null|     null|    null|                      null|     null|           null|         null| null|                  null|            null|        null|\n",
            "+----+-----------+----+-----+----+------------+-----------+--------------------+------+--------+----+--------+----+--------------+--------+------------+------------+----+----------+--------+---------+--------+--------------------------+---------+---------------+-------------+-----+----------------------+----------------+------------+\n",
            "only showing top 5 rows\n",
            "\n"
          ],
          "name": "stdout"
        }
      ]
    },
    {
      "cell_type": "markdown",
      "metadata": {
        "id": "V9gbUM1VmGmb",
        "colab_type": "text"
      },
      "source": [
        "# Working with Columns \n"
      ]
    },
    {
      "cell_type": "code",
      "metadata": {
        "id": "qaBNDI9fZLCp",
        "colab_type": "code",
        "outputId": "a6763907-4d83-449e-d57c-eb1926faaf60",
        "colab": {
          "base_uri": "https://localhost:8080/",
          "height": 51
        }
      },
      "source": [
        "!ls"
      ],
      "execution_count": 15,
      "outputs": [
        {
          "output_type": "stream",
          "text": [
            "reported-crimes.csv  spark-2.3.1-bin-hadoop2.7\t    spark-warehouse\n",
            "sample_data\t     spark-2.3.1-bin-hadoop2.7.tgz\n"
          ],
          "name": "stdout"
        }
      ]
    },
    {
      "cell_type": "code",
      "metadata": {
        "id": "yEambqfgmSDS",
        "colab_type": "code",
        "colab": {
          "base_uri": "https://localhost:8080/",
          "height": 204
        },
        "outputId": "64aba167-a901-4598-8ba7-8641c74a8da4"
      },
      "source": [
        "rc.select('IUCR').show(5)"
      ],
      "execution_count": 16,
      "outputs": [
        {
          "output_type": "stream",
          "text": [
            "+----+\n",
            "|IUCR|\n",
            "+----+\n",
            "|IUCR|\n",
            "|1330|\n",
            "|0496|\n",
            "|1360|\n",
            "|0460|\n",
            "+----+\n",
            "only showing top 5 rows\n",
            "\n"
          ],
          "name": "stdout"
        }
      ]
    },
    {
      "cell_type": "code",
      "metadata": {
        "id": "RJruxJzbmZT4",
        "colab_type": "code",
        "colab": {
          "base_uri": "https://localhost:8080/",
          "height": 367
        },
        "outputId": "f0dec418-b915-4077-b391-46a1c685ac19"
      },
      "source": [
        "rc.select(rc.IUCR).show(5)\n",
        "rc.select(col('IUCR')).show(5)"
      ],
      "execution_count": 19,
      "outputs": [
        {
          "output_type": "stream",
          "text": [
            "+----+\n",
            "|IUCR|\n",
            "+----+\n",
            "|IUCR|\n",
            "|1330|\n",
            "|0496|\n",
            "|1360|\n",
            "|0460|\n",
            "+----+\n",
            "only showing top 5 rows\n",
            "\n"
          ],
          "name": "stdout"
        },
        {
          "output_type": "error",
          "ename": "NameError",
          "evalue": "ignored",
          "traceback": [
            "\u001b[0;31m---------------------------------------------------------------------------\u001b[0m",
            "\u001b[0;31mNameError\u001b[0m                                 Traceback (most recent call last)",
            "\u001b[0;32m<ipython-input-19-84f33e6f5fdf>\u001b[0m in \u001b[0;36m<module>\u001b[0;34m()\u001b[0m\n\u001b[1;32m      1\u001b[0m \u001b[0mrc\u001b[0m\u001b[0;34m.\u001b[0m\u001b[0mselect\u001b[0m\u001b[0;34m(\u001b[0m\u001b[0mrc\u001b[0m\u001b[0;34m.\u001b[0m\u001b[0mIUCR\u001b[0m\u001b[0;34m)\u001b[0m\u001b[0;34m.\u001b[0m\u001b[0mshow\u001b[0m\u001b[0;34m(\u001b[0m\u001b[0;36m5\u001b[0m\u001b[0;34m)\u001b[0m\u001b[0;34m\u001b[0m\u001b[0;34m\u001b[0m\u001b[0m\n\u001b[0;32m----> 2\u001b[0;31m \u001b[0mrc\u001b[0m\u001b[0;34m.\u001b[0m\u001b[0mselect\u001b[0m\u001b[0;34m(\u001b[0m\u001b[0mcol\u001b[0m\u001b[0;34m(\u001b[0m\u001b[0;34m'IUCR'\u001b[0m\u001b[0;34m)\u001b[0m\u001b[0;34m)\u001b[0m\u001b[0;34m.\u001b[0m\u001b[0mshow\u001b[0m\u001b[0;34m(\u001b[0m\u001b[0;36m5\u001b[0m\u001b[0;34m)\u001b[0m\u001b[0;34m\u001b[0m\u001b[0;34m\u001b[0m\u001b[0m\n\u001b[0m",
            "\u001b[0;31mNameError\u001b[0m: name 'col' is not defined"
          ]
        }
      ]
    },
    {
      "cell_type": "code",
      "metadata": {
        "id": "WtPaUM7soRWA",
        "colab_type": "code",
        "colab": {
          "base_uri": "https://localhost:8080/",
          "height": 204
        },
        "outputId": "ddffc57b-15d7-467c-f4ad-0c31737f907a"
      },
      "source": [
        "rc.select('IUCR', 'Case Number','Arrest').show(5)"
      ],
      "execution_count": 43,
      "outputs": [
        {
          "output_type": "stream",
          "text": [
            "+----+-----------+------+\n",
            "|IUCR|Case Number|Arrest|\n",
            "+----+-----------+------+\n",
            "|IUCR|Case Number|Arrest|\n",
            "|1330|   JC424320|  true|\n",
            "|0496|   JC424351| false|\n",
            "|1360|   JC424317| false|\n",
            "|0460|   JC424291| false|\n",
            "+----+-----------+------+\n",
            "only showing top 5 rows\n",
            "\n"
          ],
          "name": "stdout"
        }
      ]
    },
    {
      "cell_type": "code",
      "metadata": {
        "id": "UozsQyWSoRMY",
        "colab_type": "code",
        "colab": {}
      },
      "source": [
        "from pyspark.sql.functions import lit "
      ],
      "execution_count": 0,
      "outputs": []
    },
    {
      "cell_type": "code",
      "metadata": {
        "id": "hnj_LYyYoRBd",
        "colab_type": "code",
        "colab": {
          "base_uri": "https://localhost:8080/",
          "height": 479
        },
        "outputId": "106de2e1-f93b-462f-e46d-53f953484e21"
      },
      "source": [
        "rc.withColumn('One', lit(1)).show()"
      ],
      "execution_count": 51,
      "outputs": [
        {
          "output_type": "stream",
          "text": [
            "+--------+-----------+-------------------+--------------------+----+--------------------+--------------------+--------------------+------+--------+----+--------+----+--------------+--------+------------+------------+----+--------------------+------------+-------------+--------------------+--------------------------+---------+---------------+-------------+-----+----------------------+----------------+------------+---+\n",
            "|      ID|Case Number|               Date|               Block|IUCR|        Primary Type|         Description|Location Description|Arrest|Domestic|Beat|District|Ward|Community Area|FBI Code|X Coordinate|Y Coordinate|Year|          Updated On|    Latitude|    Longitude|            Location|Historical Wards 2003-2015|Zip Codes|Community Areas|Census Tracts|Wards|Boundaries - ZIP Codes|Police Districts|Police Beats|One|\n",
            "+--------+-----------+-------------------+--------------------+----+--------------------+--------------------+--------------------+------+--------+----+--------+----+--------------+--------+------------+------------+----+--------------------+------------+-------------+--------------------+--------------------------+---------+---------------+-------------+-----+----------------------+----------------+------------+---+\n",
            "|11504330|   JB512058|2018-11-10 23:55:00|021XX W GREENLEAF...|0820|               THEFT|      $500 AND UNDER|              STREET| false|   false|2411|     024|  50|             2|      06|     1160583|     1946926|2018|11/17/2018 04:14:...|42.010065214|-87.684502849|(42.010065214, -8...|                        42|    22528|             20|          268|   27|                    12|              11|          35|  1|\n",
            "|11503920|   JB511504|2018-11-10 23:53:00|081XX S HERMITAGE...|0910| MOTOR VEHICLE THEFT|          AUTOMOBILE|           APARTMENT| false|   false|0614|     006|  21|            71|      07|     1166095|     1850727|2018|11/17/2018 04:14:...|41.745971025|-87.666970419|(41.745971025, -8...|                         6|    21554|             70|          574|   13|                    59|              20|         237|  1|\n",
            "|11504110|   JB511795|2018-11-10 23:50:00|   013XX S TRIPP AVE|1320|     CRIMINAL DAMAGE|          TO VEHICLE|VEHICLE NON-COMME...| false|   false|1011|     010|  24|            29|      14|     1148267|     1893365|2018|11/17/2018 04:14:...|  41.8633364|-87.731202138|(41.8633364, -87....|                        36|    21569|             30|          761|   14|                    57|              21|         155|  1|\n",
            "|11503924|   JB511536|2018-11-10 23:45:00|  083XX S RHODES AVE|1310|     CRIMINAL DAMAGE|         TO PROPERTY|           RESIDENCE| false|    true|0632|     006|   6|            44|      14|     1181251|     1849759|2018|11/17/2018 04:14:...|41.742979225| -87.61146577|(41.742979225, -8...|                        31|    21546|             40|          140|   32|                    61|              20|         241|  1|\n",
            "|11503921|   JB511539|2018-11-10 23:42:00|    055XX S GREEN ST|0580|            STALKING|              SIMPLE|           RESIDENCE| false|    true|0712|     007|  20|            68|     08A|     1171583|     1868046|2018|11/17/2018 04:14:...|41.793378076|-87.646354376|(41.793378076, -8...|                        53|    21559|             66|          113|    4|                    11|              17|         261|  1|\n",
            "|11503919|   JB511511|2018-11-10 23:41:00|  054XX S HARLEM AVE|0460|             BATTERY|              SIMPLE|              STREET| false|   false|0811|     008|  23|            56|     08B|     1129262|     1867538|2018|11/17/2018 04:14:...|41.792807252|-87.801556137|(41.792807252, -8...|                      null|     2733|           null|         null| null|                  null|            null|        null|  1|\n",
            "|11503929|   JB511512|2018-11-10 23:35:00|  080XX S COLFAX AVE|0460|             BATTERY|              SIMPLE|           APARTMENT| false|   false|0422|     004|   7|            46|     08B|     1194916|     1851891|2018|11/17/2018 04:14:...|41.748504135|-87.561327486|(41.748504135, -8...|                        43|    21202|             42|          244|   37|                    25|              19|         234|  1|\n",
            "|11503967|   JB511500|2018-11-10 23:35:00| 029XX N ASHLAND AVE|0860|               THEFT|        RETAIL THEFT|  GROCERY FOOD STORE|  true|   false|1931|     019|  32|             6|      06|     1165142|     1919763|2018|11/17/2018 04:14:...|41.935432921|-87.668504341|(41.935432921, -8...|                        16|     4449|             57|          712|   40|                    22|               5|         173|  1|\n",
            "|11503933|   JB511494|2018-11-10 23:35:00|017XX N MC VICKER...|0486|             BATTERY|DOMESTIC BATTERY ...|           APARTMENT|  true|    true|2513|     025|  29|            25|     08B|     1135806|     1911004|2018|11/17/2018 04:14:...|41.911970869|-87.776526021|(41.911970869, -8...|                        52|    22615|             26|          597|    7|                     2|               6|         196|  1|\n",
            "|11503877|   JB511486|2018-11-10 23:33:00|  019XX N CICERO AVE|051A|             ASSAULT| AGGRAVATED: HANDGUN|               ALLEY| false|   false|2533|     025|  36|            19|     04A|     1144092|     1912382|2018|11/17/2018 04:14:...|41.915600603|-87.746050613|(41.915600603, -8...|                         7|    22615|             19|          306|   44|                     2|               6|         195|  1|\n",
            "|11503943|   JB511593|2018-11-10 23:30:00|     036XX W 86TH ST|3730|INTERFERENCE WITH...| OBSTRUCTING JUSTICE|            SIDEWALK|  true|   false|0834|     008|  18|            70|      24|     1153679|     1847306|2018|11/17/2018 04:14:...|41.736838061|-87.712556057|(41.736838061, -8...|                         6|     4300|             69|          198|   30|                     8|              13|         232|  1|\n",
            "|11512112|   JB522393|2018-11-10 23:30:00| 026XX S MILLARD AVE|1562|         SEX OFFENSE|AGG CRIMINAL SEXU...|           RESIDENCE| false|   false|1032|     010|  22|            30|      17|     1152462|     1886281|2018|11/22/2018 04:00:...|41.843815291|-87.715989472|(41.843815291, -8...|                        14|    21569|             32|          227|   28|                    57|              21|         166|  1|\n",
            "|11503878|   JB511518|2018-11-10 23:29:00|052XX W KAMERLING...|0820|               THEFT|      $500 AND UNDER|           RESIDENCE| false|   false|2532|     025|  37|            25|      06|     1140983|     1908479|2018|11/17/2018 04:14:...|41.904948184|-87.757569223|(41.904948184, -8...|                         4|     4299|             26|          599|   45|                     5|               6|         145|  1|\n",
            "|11503894|   JB511509|2018-11-10 23:26:00|045XX S DR MARTIN...|1310|     CRIMINAL DAMAGE|         TO PROPERTY|           APARTMENT| false|   false|0215|     002|   3|            38|      14|     1179625|     1874840|2018|11/17/2018 04:14:...|41.811841277|-87.616657577|(41.811841277, -8...|                        12|     4301|              4|          162|    9|                    36|              24|          98|  1|\n",
            "|11504134|   JB511545|2018-11-10 23:25:00|  061XX S KEDZIE AVE|0486|             BATTERY|DOMESTIC BATTERY ...|           APARTMENT| false|    true|0823|     008|  16|            66|     08B|     1156102|     1863920|2018|11/17/2018 04:14:...| 41.78238119|-87.703233008|(41.78238119, -87...|                        44|    21867|             64|          183|    2|                    58|              13|         276|  1|\n",
            "|11503892|   JB511493|2018-11-10 23:20:00|    055XX S GREEN ST|1310|     CRIMINAL DAMAGE|         TO PROPERTY|           APARTMENT| false|   false|0712|     007|  20|            68|      14|     1171583|     1868046|2018|11/17/2018 04:14:...|41.793378076|-87.646354376|(41.793378076, -8...|                        53|    21559|             66|          113|    4|                    11|              17|         261|  1|\n",
            "|11503869|   JB511482|2018-11-10 23:20:00| 032XX S ASHLAND AVE|1320|     CRIMINAL DAMAGE|          TO VEHICLE|              STREET| false|   false|0912|     009|  12|            59|      14|     1166201|     1883011|2018|11/17/2018 04:14:...| 41.83456002|-87.665663328|(41.83456002, -87...|                        26|    14920|             56|          192|    1|                    43|              23|         165|  1|\n",
            "|11503874|   JB511483|2018-11-10 23:20:00|   071XX S HONORE ST|0820|               THEFT|      $500 AND UNDER|              STREET| false|    true|0735|     007|  17|            67|      06|     1165255|     1857291|2018|11/17/2018 04:14:...|41.764001379|-87.669862878|(41.764001379, -8...|                        17|    22257|             65|          433|   31|                    23|              17|           7|  1|\n",
            "|11503954|   JB511489|2018-11-10 23:19:00|  019XX N PULASKI RD|0486|             BATTERY|DOMESTIC BATTERY ...|           APARTMENT|  true|    true|2535|     025|  26|            20|     08B|     1149405|     1912559|2018|11/17/2018 04:14:...|41.915984814|-87.726526318|(41.915984814, -8...|                        27|    22535|             21|          135|   12|                     2|               6|         194|  1|\n",
            "|11503934|   JB511565|2018-11-10 23:15:00| 118XX S INDIANA AVE|1310|     CRIMINAL DAMAGE|         TO PROPERTY|           RESIDENCE| false|   false|0532|     005|   9|            53|      14|     1179706|     1826332|2018|11/17/2018 04:14:...|41.678727863|-87.617839914|(41.678727863, -8...|                        30|    21861|             50|          229|   43|                    19|              10|         219|  1|\n",
            "+--------+-----------+-------------------+--------------------+----+--------------------+--------------------+--------------------+------+--------+----+--------+----+--------------+--------+------------+------------+----+--------------------+------------+-------------+--------------------+--------------------------+---------+---------------+-------------+-----+----------------------+----------------+------------+---+\n",
            "only showing top 20 rows\n",
            "\n"
          ],
          "name": "stdout"
        }
      ]
    },
    {
      "cell_type": "code",
      "metadata": {
        "id": "tOfPNBcG-LiK",
        "colab_type": "code",
        "colab": {
          "base_uri": "https://localhost:8080/",
          "height": 224
        },
        "outputId": "e876e39b-3244-4f62-e262-76cc26b9105c"
      },
      "source": [
        "rc.drop('IUCR')\n",
        "rc.show(5)"
      ],
      "execution_count": 52,
      "outputs": [
        {
          "output_type": "stream",
          "text": [
            "+--------+-----------+-------------------+--------------------+----+-------------------+--------------+--------------------+------+--------+----+--------+----+--------------+--------+------------+------------+----+--------------------+------------+-------------+--------------------+--------------------------+---------+---------------+-------------+-----+----------------------+----------------+------------+\n",
            "|      ID|Case Number|               Date|               Block|IUCR|       Primary Type|   Description|Location Description|Arrest|Domestic|Beat|District|Ward|Community Area|FBI Code|X Coordinate|Y Coordinate|Year|          Updated On|    Latitude|    Longitude|            Location|Historical Wards 2003-2015|Zip Codes|Community Areas|Census Tracts|Wards|Boundaries - ZIP Codes|Police Districts|Police Beats|\n",
            "+--------+-----------+-------------------+--------------------+----+-------------------+--------------+--------------------+------+--------+----+--------+----+--------------+--------+------------+------------+----+--------------------+------------+-------------+--------------------+--------------------------+---------+---------------+-------------+-----+----------------------+----------------+------------+\n",
            "|11504330|   JB512058|2018-11-10 23:55:00|021XX W GREENLEAF...|0820|              THEFT|$500 AND UNDER|              STREET| false|   false|2411|     024|  50|             2|      06|     1160583|     1946926|2018|11/17/2018 04:14:...|42.010065214|-87.684502849|(42.010065214, -8...|                        42|    22528|             20|          268|   27|                    12|              11|          35|\n",
            "|11503920|   JB511504|2018-11-10 23:53:00|081XX S HERMITAGE...|0910|MOTOR VEHICLE THEFT|    AUTOMOBILE|           APARTMENT| false|   false|0614|     006|  21|            71|      07|     1166095|     1850727|2018|11/17/2018 04:14:...|41.745971025|-87.666970419|(41.745971025, -8...|                         6|    21554|             70|          574|   13|                    59|              20|         237|\n",
            "|11504110|   JB511795|2018-11-10 23:50:00|   013XX S TRIPP AVE|1320|    CRIMINAL DAMAGE|    TO VEHICLE|VEHICLE NON-COMME...| false|   false|1011|     010|  24|            29|      14|     1148267|     1893365|2018|11/17/2018 04:14:...|  41.8633364|-87.731202138|(41.8633364, -87....|                        36|    21569|             30|          761|   14|                    57|              21|         155|\n",
            "|11503924|   JB511536|2018-11-10 23:45:00|  083XX S RHODES AVE|1310|    CRIMINAL DAMAGE|   TO PROPERTY|           RESIDENCE| false|    true|0632|     006|   6|            44|      14|     1181251|     1849759|2018|11/17/2018 04:14:...|41.742979225| -87.61146577|(41.742979225, -8...|                        31|    21546|             40|          140|   32|                    61|              20|         241|\n",
            "|11503921|   JB511539|2018-11-10 23:42:00|    055XX S GREEN ST|0580|           STALKING|        SIMPLE|           RESIDENCE| false|    true|0712|     007|  20|            68|     08A|     1171583|     1868046|2018|11/17/2018 04:14:...|41.793378076|-87.646354376|(41.793378076, -8...|                        53|    21559|             66|          113|    4|                    11|              17|         261|\n",
            "+--------+-----------+-------------------+--------------------+----+-------------------+--------------+--------------------+------+--------+----+--------+----+--------------+--------+------------+------------+----+--------------------+------------+-------------+--------------------+--------------------------+---------+---------------+-------------+-----+----------------------+----------------+------------+\n",
            "only showing top 5 rows\n",
            "\n"
          ],
          "name": "stdout"
        }
      ]
    },
    {
      "cell_type": "markdown",
      "metadata": {
        "id": "-xIu62knLe5n",
        "colab_type": "text"
      },
      "source": [
        "#Working with Rows\n"
      ]
    },
    {
      "cell_type": "code",
      "metadata": {
        "colab_type": "code",
        "outputId": "8afcf723-33cb-41d5-cb17-9128e10d725e",
        "id": "W0XEPBfCL0Px",
        "colab": {
          "base_uri": "https://localhost:8080/",
          "height": 34
        }
      },
      "source": [
        "one_day = spark.read.csv('reported-crimes.csv',header=True).withColumn('Date',to_timestamp(col('Date'),'MM/dd/yyyy hh:mm:ss a')).filter(col('Date') == lit('2018-11-12'))\n",
        "one_day.count()"
      ],
      "execution_count": 53,
      "outputs": [
        {
          "output_type": "execute_result",
          "data": {
            "text/plain": [
              "3"
            ]
          },
          "metadata": {
            "tags": []
          },
          "execution_count": 53
        }
      ]
    },
    {
      "cell_type": "code",
      "metadata": {
        "id": "h52eQXNoPhqb",
        "colab_type": "code",
        "colab": {
          "base_uri": "https://localhost:8080/",
          "height": 224
        },
        "outputId": "426b2c8e-d3e9-4fac-bb8f-ff602b96f4a5"
      },
      "source": [
        "rc.union(one_day).orderBy('Date', ascending = False).show(5)"
      ],
      "execution_count": 54,
      "outputs": [
        {
          "output_type": "stream",
          "text": [
            "+--------+-----------+-------------------+--------------------+----+-------------------+--------------------+--------------------+------+--------+----+--------+----+--------------+--------+------------+------------+----+--------------------+------------+-------------+--------------------+--------------------------+---------+---------------+-------------+-----+----------------------+----------------+------------+\n",
            "|      ID|Case Number|               Date|               Block|IUCR|       Primary Type|         Description|Location Description|Arrest|Domestic|Beat|District|Ward|Community Area|FBI Code|X Coordinate|Y Coordinate|Year|          Updated On|    Latitude|    Longitude|            Location|Historical Wards 2003-2015|Zip Codes|Community Areas|Census Tracts|Wards|Boundaries - ZIP Codes|Police Districts|Police Beats|\n",
            "+--------+-----------+-------------------+--------------------+----+-------------------+--------------------+--------------------+------+--------+----+--------+----+--------------+--------+------------+------------+----+--------------------+------------+-------------+--------------------+--------------------------+---------+---------------+-------------+-----+----------------------+----------------+------------+\n",
            "|11540042|   JB559262|2018-11-12 00:00:00| 010XX N DEARBORN ST|1140| DECEPTIVE PRACTICE|        EMBEZZLEMENT|   CONVENIENCE STORE|  true|   false|1824|     018|   2|             8|      12|     1175747|     1907348|2018|03/16/2019 04:01:...|41.901133376|-87.629904979|(41.901133376, -8...|                        22|    14926|             37|          230|   11|                    54|              14|         197|\n",
            "|11516594|   JB528186|2018-11-12 00:00:00| 049XX S PRAIRIE AVE|2826|      OTHER OFFENSE|HARASSMENT BY ELE...|               OTHER| false|   false|0224|     002|   3|            38|      26|     1178879|     1872259|2018|11/28/2018 04:14:...|41.804775828|-87.619472488|(41.804775828, -8...|                        12|    21192|              4|          449|    9|                    10|              24|         107|\n",
            "|11505149|   JB513151|2018-11-12 00:00:00|  003XX S WHIPPLE ST|0810|              THEFT|           OVER $500|              STREET| false|   false|1124|     011|  28|            27|      06|     1156099|     1898319|2018|11/19/2018 04:22:...|41.876776356|-87.702317641|(41.876776356, -8...|                        11|    21184|             28|          737|   23|                    28|              16|         123|\n",
            "|11504330|   JB512058|2018-11-10 23:55:00|021XX W GREENLEAF...|0820|              THEFT|      $500 AND UNDER|              STREET| false|   false|2411|     024|  50|             2|      06|     1160583|     1946926|2018|11/17/2018 04:14:...|42.010065214|-87.684502849|(42.010065214, -8...|                        42|    22528|             20|          268|   27|                    12|              11|          35|\n",
            "|11503920|   JB511504|2018-11-10 23:53:00|081XX S HERMITAGE...|0910|MOTOR VEHICLE THEFT|          AUTOMOBILE|           APARTMENT| false|   false|0614|     006|  21|            71|      07|     1166095|     1850727|2018|11/17/2018 04:14:...|41.745971025|-87.666970419|(41.745971025, -8...|                         6|    21554|             70|          574|   13|                    59|              20|         237|\n",
            "+--------+-----------+-------------------+--------------------+----+-------------------+--------------------+--------------------+------+--------+----+--------+----+--------------+--------+------------+------------+----+--------------------+------------+-------------+--------------------+--------------------------+---------+---------------+-------------+-----+----------------------+----------------+------------+\n",
            "only showing top 5 rows\n",
            "\n"
          ],
          "name": "stdout"
        }
      ]
    },
    {
      "cell_type": "code",
      "metadata": {
        "id": "4UAJDaz-Rpru",
        "colab_type": "code",
        "colab": {
          "base_uri": "https://localhost:8080/",
          "height": 289
        },
        "outputId": "70260760-c3c8-40d8-c939-fbaffef27123"
      },
      "source": [
        "rc.groupBy('Primary Type').count().orderBy('count', ascending=False).show(10)"
      ],
      "execution_count": 55,
      "outputs": [
        {
          "output_type": "stream",
          "text": [
            "+-------------------+-------+\n",
            "|       Primary Type|  count|\n",
            "+-------------------+-------+\n",
            "|              THEFT|1418374|\n",
            "|            BATTERY|1232194|\n",
            "|    CRIMINAL DAMAGE| 771495|\n",
            "|          NARCOTICS| 711535|\n",
            "|      OTHER OFFENSE| 418767|\n",
            "|            ASSAULT| 418500|\n",
            "|           BURGLARY| 388026|\n",
            "|MOTOR VEHICLE THEFT| 314145|\n",
            "| DECEPTIVE PRACTICE| 264701|\n",
            "|            ROBBERY| 255600|\n",
            "+-------------------+-------+\n",
            "only showing top 10 rows\n",
            "\n"
          ],
          "name": "stdout"
        }
      ]
    }
  ]
}